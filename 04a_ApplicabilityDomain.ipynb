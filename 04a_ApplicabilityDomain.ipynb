{
 "cells": [
  {
   "cell_type": "code",
   "execution_count": 1,
   "id": "41740847-64ab-442b-b7a7-dddeb30fbd52",
   "metadata": {
    "tags": []
   },
   "outputs": [],
   "source": [
    "import pandas as pd, numpy as np\n",
    "from rdkit import Chem\n",
    "from itertools import combinations\n",
    "from rdkit.DataStructs import CreateFromBitString, TanimotoSimilarity"
   ]
  },
  {
   "cell_type": "code",
   "execution_count": 2,
   "id": "01c5bbb6-2be0-45f4-b54f-dca8d801fc1d",
   "metadata": {
    "tags": []
   },
   "outputs": [],
   "source": [
    "X = pd.read_csv(\"data/trainMatrix.csv\")"
   ]
  },
  {
   "cell_type": "code",
   "execution_count": 3,
   "id": "a749316c-b5cd-44eb-a339-70e2c5c872bc",
   "metadata": {
    "tags": []
   },
   "outputs": [],
   "source": [
    "Y = pd.read_csv(\"data/curedData.csv\", usecols=[\"label\"]).squeeze()\n",
    "_=Y.groupby(Y).indices\n",
    "idxTox = _[1]\n",
    "idxNoTox = _[0]"
   ]
  },
  {
   "cell_type": "raw",
   "id": "a80b6474-4ddc-416e-a48c-a8641d19e603",
   "metadata": {
    "tags": []
   },
   "source": [
    "## This calc needs bit of time ##\n",
    "\n",
    "# Preparing RDKit objects for tanimoto similarity calcs\n",
    "bitObjs = X.astype(str).apply(\"\".join, axis=1).apply(CreateFromBitString)\n",
    "# Initializing symmetric square matrix NxN of mutual similarity values\n",
    "mutualSimilarities = pd.DataFrame(np.identity(len(X)))\n",
    "\n",
    "# computing similarity values for every couple of molecules\n",
    "for comb in combinations(range(len(X)),2):\n",
    "    comb = list(comb)\n",
    "    similarityValue = TanimotoSimilarity(*bitObjs[comb])\n",
    "    \n",
    "    a,b=comb\n",
    "    mutualSimilarities.at[a,b]=similarityValue\n",
    "    mutualSimilarities.at[b,a]=similarityValue"
   ]
  },
  {
   "cell_type": "raw",
   "id": "950b3a27-3ec6-4fb7-bf1b-dbc5160619b3",
   "metadata": {
    "tags": []
   },
   "source": [
    "# Storing\n",
    "mutualSimilarities.to_csv(\"results/mutualSimilarities.csv\", header=False, index=False)"
   ]
  },
  {
   "cell_type": "code",
   "execution_count": 4,
   "id": "07e9ff6a-a08b-4574-8573-ad053eff80b4",
   "metadata": {},
   "outputs": [],
   "source": [
    "mutualSimilarities = pd.read_csv(\"results/mutualSimilarities.csv\", header=None)"
   ]
  },
  {
   "cell_type": "code",
   "execution_count": 5,
   "id": "f8bf6fbc-aede-4536-af81-d5b63f5297dd",
   "metadata": {
    "tags": []
   },
   "outputs": [],
   "source": [
    "from matplotlib import pyplot as plt"
   ]
  },
  {
   "cell_type": "code",
   "execution_count": 6,
   "id": "f9dba710-355a-4a96-b95e-e4beca06a054",
   "metadata": {
    "tags": []
   },
   "outputs": [],
   "source": [
    "# Function to fit exponential distribution\n",
    "from scipy.stats import exponnorm as dist"
   ]
  },
  {
   "cell_type": "markdown",
   "id": "89f3d3ef-c9a0-4302-b488-10e27e8f4c60",
   "metadata": {
    "jp-MarkdownHeadingCollapsed": true,
    "tags": []
   },
   "source": [
    "## no-tox training distribution"
   ]
  },
  {
   "cell_type": "code",
   "execution_count": null,
   "id": "180f3bc9-9ae6-43da-9d72-8d646a179c05",
   "metadata": {},
   "outputs": [],
   "source": [
    "# Store only tox molecule couples and filter lower triangular matrix to flat\n",
    "similaritiesNoTox = mutualSimilarities.iloc[idxNoTox, idxNoTox].values[np.triu_indices(len(idxNoTox), k = 1)]"
   ]
  },
  {
   "cell_type": "code",
   "execution_count": 102,
   "id": "c43683b8-8a02-4444-868e-20b63540dae7",
   "metadata": {
    "tags": []
   },
   "outputs": [
    {
     "data": {
      "text/plain": [
       "0.1111111111111111"
      ]
     },
     "execution_count": 102,
     "metadata": {},
     "output_type": "execute_result"
    }
   ],
   "source": [
    "np.median(similaritiesNoTox)"
   ]
  },
  {
   "cell_type": "code",
   "execution_count": 103,
   "id": "f50b580e-a2d6-49b8-9cae-199e99422b4f",
   "metadata": {
    "tags": []
   },
   "outputs": [
    {
     "data": {
      "text/plain": [
       "0.6291989664082688"
      ]
     },
     "execution_count": 103,
     "metadata": {},
     "output_type": "execute_result"
    }
   ],
   "source": [
    "np.percentile(similaritiesNoTox, 99)"
   ]
  },
  {
   "cell_type": "raw",
   "id": "1190a7ed-cf34-409f-8b35-1b70fa800dcf",
   "metadata": {
    "tags": []
   },
   "source": [
    "## Take a bit of time ##\n",
    "# Fitting distribution\n",
    "shapeNoTox=dist.fit(similaritiesNoTox)"
   ]
  },
  {
   "cell_type": "code",
   "execution_count": 109,
   "id": "6c267c69-e52d-4795-b6ce-bc6f651ba0ba",
   "metadata": {
    "tags": []
   },
   "outputs": [],
   "source": [
    "# Result of above calc\n",
    "shapeNoTox=(6.413003645186349, 0.010390406427027772, 0.021012156974350046)"
   ]
  },
  {
   "cell_type": "code",
   "execution_count": 213,
   "id": "71d92e03-1f82-491d-9aad-9283324c15b9",
   "metadata": {
    "tags": []
   },
   "outputs": [],
   "source": [
    "histNoTox=np.histogram(similaritiesNoTox, 45, density=True)\n",
    "normalizerNoTox = float(histNoTox[0].sum())\n",
    "histNoTox = ( histNoTox[0] / normalizerNoTox,\n",
    "             histNoTox[1])"
   ]
  },
  {
   "cell_type": "code",
   "execution_count": 214,
   "id": "c6209079-d808-449b-91a4-f12875d449c7",
   "metadata": {
    "tags": []
   },
   "outputs": [
    {
     "data": {
      "text/plain": [
       "(0.0, 1.0)"
      ]
     },
     "execution_count": 214,
     "metadata": {},
     "output_type": "execute_result"
    },
    {
     "data": {
      "image/png": "[encoded data removed]",
      "text/plain": [
       "<Figure size 640x480 with 1 Axes>"
      ]
     },
     "metadata": {},
     "output_type": "display_data"
    }
   ],
   "source": [
    "plt.bar( histNoTox[1][:-1], histNoTox[0],\n",
    "        width=np.diff(histNoTox[1]),\n",
    "       edgecolor=\"black\", align=\"edge\", alpha=0.6)\n",
    "\n",
    "x = np.linspace(0,1,100)\n",
    "\n",
    "pdf_fitted = dist.pdf(x, *shapeNoTox)\n",
    "plt.plot(x, pdf_fitted/ normalizerNoTox,\n",
    "       'r-', lw=2, alpha=1)\n",
    "plt.xlim(0,1)"
   ]
  },
  {
   "cell_type": "markdown",
   "id": "4b5f1642-339b-43c5-9e94-6c8bd57178eb",
   "metadata": {
    "jp-MarkdownHeadingCollapsed": true,
    "tags": []
   },
   "source": [
    "## tox training distribution"
   ]
  },
  {
   "cell_type": "code",
   "execution_count": 115,
   "id": "063f00b3-8e7e-4f0f-b8e2-e2f579f50104",
   "metadata": {
    "tags": []
   },
   "outputs": [],
   "source": [
    "similaritiesTox = mutualSimilarities.iloc[idxTox, idxTox].values[np.triu_indices(len(idxTox), k = 1)]"
   ]
  },
  {
   "cell_type": "code",
   "execution_count": 116,
   "id": "488868ea-8b16-4400-9a6b-547a83551e76",
   "metadata": {
    "tags": []
   },
   "outputs": [
    {
     "data": {
      "text/plain": [
       "0.09302325581395349"
      ]
     },
     "execution_count": 116,
     "metadata": {},
     "output_type": "execute_result"
    }
   ],
   "source": [
    "np.median(similaritiesTox)"
   ]
  },
  {
   "cell_type": "code",
   "execution_count": 117,
   "id": "5eed11c3-8759-45a4-9857-668f98b2f12a",
   "metadata": {
    "tags": []
   },
   "outputs": [
    {
     "data": {
      "text/plain": [
       "0.5"
      ]
     },
     "execution_count": 117,
     "metadata": {},
     "output_type": "execute_result"
    }
   ],
   "source": [
    "np.percentile(similaritiesTox, 99)"
   ]
  },
  {
   "cell_type": "raw",
   "id": "c96d2dc3-e4e6-4135-b6a3-a2aab7ed3e04",
   "metadata": {
    "tags": []
   },
   "source": [
    "## Take time ##\n",
    "shapeTox=dist.fit(similaritiesTox)"
   ]
  },
  {
   "cell_type": "code",
   "execution_count": 118,
   "id": "af0746b2-343b-4c92-ac4a-6f2364f91009",
   "metadata": {
    "tags": []
   },
   "outputs": [],
   "source": [
    "shapeTox=(3.454968302037492, 0.021405449842889526, 0.02789426078451983)"
   ]
  },
  {
   "cell_type": "code",
   "execution_count": 119,
   "id": "307bb1ad-84b6-472e-8189-12361548e7ef",
   "metadata": {
    "tags": []
   },
   "outputs": [],
   "source": [
    "histTox=np.histogram(similaritiesTox, 45, density=True)\n",
    "normalizerTox = float(histTox[0].sum())\n",
    "histTox = ( histTox[0] / normalizerTox,\n",
    "             histTox[1])"
   ]
  },
  {
   "cell_type": "code",
   "execution_count": 120,
   "id": "83e64916-4932-4bf6-a02f-a4718e33f885",
   "metadata": {
    "tags": []
   },
   "outputs": [
    {
     "data": {
      "text/plain": [
       "(0.0, 1.0)"
      ]
     },
     "execution_count": 120,
     "metadata": {},
     "output_type": "execute_result"
    },
    {
     "data": {
      "image/png": "[encoded data removed]",
      "text/plain": [
       "<Figure size 640x480 with 1 Axes>"
      ]
     },
     "metadata": {},
     "output_type": "display_data"
    }
   ],
   "source": [
    "plt.bar( histTox[1][:-1], histTox[0],\n",
    "        width=np.diff(histTox[1]),\n",
    "       edgecolor=\"black\", align=\"edge\", alpha=0.6)\n",
    "\n",
    "x = np.linspace(0,1,100)\n",
    "\n",
    "pdf_fitted = dist.pdf(x, *shapeTox)\n",
    "plt.plot(x, pdf_fitted/ normalizerTox,\n",
    "       'r-', lw=2, alpha=1)\n",
    "plt.xlim(0,1)"
   ]
  },
  {
   "cell_type": "markdown",
   "id": "65fe197c-4a48-4bd1-9c2a-4d91c5aaa1e2",
   "metadata": {},
   "source": [
    "## CV adopting AD method"
   ]
  },
  {
   "cell_type": "code",
   "execution_count": 7,
   "id": "69eb457d-6085-422e-87f5-7a7a963f4156",
   "metadata": {
    "tags": []
   },
   "outputs": [],
   "source": [
    "nCV=100\n",
    "folds = 5\n",
    "CVfoldsData = pd.read_csv(\"data/CVfoldsData.csv\", index_col=0, header=[0,1])\n",
    "predsConsensusCV = pd.read_csv(\"results/predsConsensusCV_05.csv\",index_col=0)"
   ]
  },
  {
   "cell_type": "code",
   "execution_count": 8,
   "id": "8c45c83d-d364-4b25-8fe8-87d1be955c50",
   "metadata": {
    "tags": []
   },
   "outputs": [],
   "source": [
    "from tqdm import tqdm"
   ]
  },
  {
   "cell_type": "raw",
   "id": "a3af2605-a4e2-458a-a76b-c0649d9ce0e2",
   "metadata": {
    "tags": []
   },
   "source": [
    "## Take long time ##\n",
    "\n",
    "# initizialize 733x100 (NxCV) dataframe for reliability of each compound of each cv -> True if reliable, False otherwise\n",
    "reliabilityPreds = pd.DataFrame(columns=range(nCV), index=range(len(Y)))\n",
    "\n",
    "for cv in tqdm(range(nCV)):\n",
    "    for fold in range(folds):\n",
    "        series=CVfoldsData[(f\"{cv}\",f\"{fold}\")]\n",
    "        split = series.groupby(series).indices\n",
    "        idxTrain, idxVal = split[\"train\"], split[\"val\"]\n",
    "        \n",
    "        # get only tox and notox chemicals of this training set\n",
    "        idxTrainTox = np.intersect1d(idxTrain, idxTox)\n",
    "        idxTrainNoTox = np.intersect1d(idxTrain, idxNoTox)\n",
    "        \n",
    "        # get lower triangular matrix for unique similarity values\n",
    "        similaritiesTrainTox = mutualSimilarities.loc[idxTrainTox,idxTrainTox]\n",
    "        similaritiesTrainTox = similaritiesTrainTox.values[np.triu_indices(len(idxTrainTox), k = 1)]\n",
    "        \n",
    "        similaritiesTrainNoTox = mutualSimilarities.loc[idxTrainNoTox,idxTrainNoTox]\n",
    "        similaritiesTrainNoTox = similaritiesTrainNoTox.values[np.triu_indices(len(idxTrainNoTox), k = 1)]\n",
    "        \n",
    "        # calc 99th percentiles of each class similarity set\n",
    "        perc99TrainTox = np.percentile(similaritiesTrainTox, 99)\n",
    "        perc99TrainNoTox = np.percentile(similaritiesTrainNoTox, 99)\n",
    "        \n",
    "        # fitting distribution to get parameters of f(x)\n",
    "        shapeTrainTox=dist.fit(similaritiesTrainTox)\n",
    "        scaleTrainTox=dist.pdf(dist.median(*shapeTrainTox), *shapeTrainTox)\n",
    "        \n",
    "        shapeTrainNoTox=dist.fit(similaritiesTrainNoTox)\n",
    "        scaleTrainNoTox=dist.pdf(dist.median(*shapeTrainNoTox), *shapeTrainNoTox)\n",
    "        \n",
    "        for valMol in idxVal:\n",
    "            # similarities betwwen query and tox/non-tox chemicals TS\n",
    "            similaritiesVal_TrainTox = mutualSimilarities.loc[valMol,idxTrainTox]\n",
    "            similaritiesVal_TrainNoTox = mutualSimilarities.loc[valMol,idxTrainNoTox]\n",
    "            \n",
    "            # 99th percentiles\n",
    "            perc99ValTox = np.percentile(similaritiesVal_TrainTox, 99)\n",
    "            perc99ValNoTox = np.percentile(similaritiesVal_TrainNoTox, 99)\n",
    "            \n",
    "            #similarity values in tox control-range\n",
    "            queryTox=similaritiesVal_TrainTox[\n",
    "                                ( similaritiesVal_TrainTox.between(perc99ValTox, perc99TrainTox) ) |\n",
    "                                ( similaritiesVal_TrainTox.between(perc99TrainTox, perc99ValTox) )\n",
    "                                            ]\n",
    "            if queryTox.empty:\n",
    "                queryTox=pd.Series([perc99ValTox, perc99TrainTox])\n",
    "            \n",
    "            #similarity values in non-tox control-range\n",
    "            queryNoTox=similaritiesVal_TrainNoTox[\n",
    "                                ( similaritiesVal_TrainNoTox.between(perc99ValNoTox, perc99TrainNoTox) ) |\n",
    "                                ( similaritiesVal_TrainNoTox.between(perc99TrainNoTox, perc99ValNoTox) )\n",
    "                                            ]\n",
    "            if queryNoTox.empty:\n",
    "                queryNoTox=pd.Series([perc99ValNoTox, perc99TrainNoTox])\n",
    "            \n",
    "            # distribution scaling is not so necessarly...\n",
    "            pdfTox=dist.pdf(queryTox, *shapeTrainTox)/scaleTrainTox\n",
    "            pdfNoTox=dist.pdf(queryNoTox, *shapeTrainNoTox)/scaleTrainNoTox\n",
    "            \n",
    "            # true and predicted labels for this validation/query chemical\n",
    "            queryTrueLabel = Y[valMol]\n",
    "            queryPrediction = predsConsensusCV.iat[valMol, cv]\n",
    "            \n",
    "            # reliability conditions checking\n",
    "            if ( queryPrediction == 1 and pdfTox.sum()<pdfNoTox.sum() ) or (queryPrediction == 0 and pdfTox.sum()>pdfNoTox.sum()):\n",
    "                reliabilityPreds.iat[valMol, cv] = True\n",
    "            else:\n",
    "                reliabilityPreds.iat[valMol, cv] = False"
   ]
  },
  {
   "cell_type": "code",
   "execution_count": 25,
   "id": "a75b05e9-b2da-4da1-aa8c-8a1c743d8d53",
   "metadata": {
    "collapsed": true,
    "jupyter": {
     "outputs_hidden": true
    },
    "tags": []
   },
   "outputs": [
    {
     "data": {
      "text/html": [
       "<div>\n",
       "<style scoped>\n",
       "    .dataframe tbody tr th:only-of-type {\n",
       "        vertical-align: middle;\n",
       "    }\n",
       "\n",
       "    .dataframe tbody tr th {\n",
       "        vertical-align: top;\n",
       "    }\n",
       "\n",
       "    .dataframe thead th {\n",
       "        text-align: right;\n",
       "    }\n",
       "</style>\n",
       "<table border=\"1\" class=\"dataframe\">\n",
       "  <thead>\n",
       "    <tr style=\"text-align: right;\">\n",
       "      <th></th>\n",
       "      <th>0</th>\n",
       "      <th>1</th>\n",
       "      <th>2</th>\n",
       "      <th>3</th>\n",
       "      <th>4</th>\n",
       "      <th>5</th>\n",
       "      <th>6</th>\n",
       "      <th>7</th>\n",
       "      <th>8</th>\n",
       "      <th>9</th>\n",
       "      <th>...</th>\n",
       "      <th>90</th>\n",
       "      <th>91</th>\n",
       "      <th>92</th>\n",
       "      <th>93</th>\n",
       "      <th>94</th>\n",
       "      <th>95</th>\n",
       "      <th>96</th>\n",
       "      <th>97</th>\n",
       "      <th>98</th>\n",
       "      <th>99</th>\n",
       "    </tr>\n",
       "  </thead>\n",
       "  <tbody>\n",
       "    <tr>\n",
       "      <th>0</th>\n",
       "      <td>True</td>\n",
       "      <td>False</td>\n",
       "      <td>False</td>\n",
       "      <td>True</td>\n",
       "      <td>False</td>\n",
       "      <td>False</td>\n",
       "      <td>False</td>\n",
       "      <td>False</td>\n",
       "      <td>False</td>\n",
       "      <td>False</td>\n",
       "      <td>...</td>\n",
       "      <td>False</td>\n",
       "      <td>False</td>\n",
       "      <td>False</td>\n",
       "      <td>False</td>\n",
       "      <td>False</td>\n",
       "      <td>False</td>\n",
       "      <td>False</td>\n",
       "      <td>False</td>\n",
       "      <td>False</td>\n",
       "      <td>False</td>\n",
       "    </tr>\n",
       "    <tr>\n",
       "      <th>1</th>\n",
       "      <td>True</td>\n",
       "      <td>True</td>\n",
       "      <td>False</td>\n",
       "      <td>True</td>\n",
       "      <td>True</td>\n",
       "      <td>True</td>\n",
       "      <td>False</td>\n",
       "      <td>True</td>\n",
       "      <td>True</td>\n",
       "      <td>False</td>\n",
       "      <td>...</td>\n",
       "      <td>True</td>\n",
       "      <td>True</td>\n",
       "      <td>True</td>\n",
       "      <td>True</td>\n",
       "      <td>False</td>\n",
       "      <td>False</td>\n",
       "      <td>True</td>\n",
       "      <td>True</td>\n",
       "      <td>True</td>\n",
       "      <td>True</td>\n",
       "    </tr>\n",
       "    <tr>\n",
       "      <th>2</th>\n",
       "      <td>False</td>\n",
       "      <td>False</td>\n",
       "      <td>False</td>\n",
       "      <td>False</td>\n",
       "      <td>False</td>\n",
       "      <td>True</td>\n",
       "      <td>False</td>\n",
       "      <td>False</td>\n",
       "      <td>False</td>\n",
       "      <td>False</td>\n",
       "      <td>...</td>\n",
       "      <td>False</td>\n",
       "      <td>False</td>\n",
       "      <td>False</td>\n",
       "      <td>False</td>\n",
       "      <td>False</td>\n",
       "      <td>False</td>\n",
       "      <td>False</td>\n",
       "      <td>False</td>\n",
       "      <td>False</td>\n",
       "      <td>False</td>\n",
       "    </tr>\n",
       "    <tr>\n",
       "      <th>3</th>\n",
       "      <td>False</td>\n",
       "      <td>False</td>\n",
       "      <td>False</td>\n",
       "      <td>False</td>\n",
       "      <td>False</td>\n",
       "      <td>False</td>\n",
       "      <td>False</td>\n",
       "      <td>False</td>\n",
       "      <td>False</td>\n",
       "      <td>False</td>\n",
       "      <td>...</td>\n",
       "      <td>False</td>\n",
       "      <td>False</td>\n",
       "      <td>False</td>\n",
       "      <td>False</td>\n",
       "      <td>False</td>\n",
       "      <td>False</td>\n",
       "      <td>False</td>\n",
       "      <td>False</td>\n",
       "      <td>False</td>\n",
       "      <td>False</td>\n",
       "    </tr>\n",
       "    <tr>\n",
       "      <th>4</th>\n",
       "      <td>False</td>\n",
       "      <td>True</td>\n",
       "      <td>False</td>\n",
       "      <td>True</td>\n",
       "      <td>True</td>\n",
       "      <td>False</td>\n",
       "      <td>False</td>\n",
       "      <td>True</td>\n",
       "      <td>False</td>\n",
       "      <td>False</td>\n",
       "      <td>...</td>\n",
       "      <td>False</td>\n",
       "      <td>False</td>\n",
       "      <td>False</td>\n",
       "      <td>True</td>\n",
       "      <td>False</td>\n",
       "      <td>True</td>\n",
       "      <td>True</td>\n",
       "      <td>False</td>\n",
       "      <td>False</td>\n",
       "      <td>False</td>\n",
       "    </tr>\n",
       "    <tr>\n",
       "      <th>...</th>\n",
       "      <td>...</td>\n",
       "      <td>...</td>\n",
       "      <td>...</td>\n",
       "      <td>...</td>\n",
       "      <td>...</td>\n",
       "      <td>...</td>\n",
       "      <td>...</td>\n",
       "      <td>...</td>\n",
       "      <td>...</td>\n",
       "      <td>...</td>\n",
       "      <td>...</td>\n",
       "      <td>...</td>\n",
       "      <td>...</td>\n",
       "      <td>...</td>\n",
       "      <td>...</td>\n",
       "      <td>...</td>\n",
       "      <td>...</td>\n",
       "      <td>...</td>\n",
       "      <td>...</td>\n",
       "      <td>...</td>\n",
       "      <td>...</td>\n",
       "    </tr>\n",
       "    <tr>\n",
       "      <th>728</th>\n",
       "      <td>False</td>\n",
       "      <td>True</td>\n",
       "      <td>False</td>\n",
       "      <td>False</td>\n",
       "      <td>False</td>\n",
       "      <td>False</td>\n",
       "      <td>False</td>\n",
       "      <td>False</td>\n",
       "      <td>False</td>\n",
       "      <td>False</td>\n",
       "      <td>...</td>\n",
       "      <td>False</td>\n",
       "      <td>False</td>\n",
       "      <td>False</td>\n",
       "      <td>False</td>\n",
       "      <td>False</td>\n",
       "      <td>False</td>\n",
       "      <td>False</td>\n",
       "      <td>False</td>\n",
       "      <td>False</td>\n",
       "      <td>False</td>\n",
       "    </tr>\n",
       "    <tr>\n",
       "      <th>729</th>\n",
       "      <td>True</td>\n",
       "      <td>True</td>\n",
       "      <td>True</td>\n",
       "      <td>True</td>\n",
       "      <td>False</td>\n",
       "      <td>False</td>\n",
       "      <td>False</td>\n",
       "      <td>False</td>\n",
       "      <td>True</td>\n",
       "      <td>False</td>\n",
       "      <td>...</td>\n",
       "      <td>True</td>\n",
       "      <td>True</td>\n",
       "      <td>True</td>\n",
       "      <td>False</td>\n",
       "      <td>False</td>\n",
       "      <td>False</td>\n",
       "      <td>True</td>\n",
       "      <td>False</td>\n",
       "      <td>True</td>\n",
       "      <td>True</td>\n",
       "    </tr>\n",
       "    <tr>\n",
       "      <th>730</th>\n",
       "      <td>False</td>\n",
       "      <td>False</td>\n",
       "      <td>False</td>\n",
       "      <td>False</td>\n",
       "      <td>False</td>\n",
       "      <td>False</td>\n",
       "      <td>False</td>\n",
       "      <td>False</td>\n",
       "      <td>False</td>\n",
       "      <td>False</td>\n",
       "      <td>...</td>\n",
       "      <td>False</td>\n",
       "      <td>False</td>\n",
       "      <td>False</td>\n",
       "      <td>False</td>\n",
       "      <td>False</td>\n",
       "      <td>False</td>\n",
       "      <td>False</td>\n",
       "      <td>False</td>\n",
       "      <td>False</td>\n",
       "      <td>False</td>\n",
       "    </tr>\n",
       "    <tr>\n",
       "      <th>731</th>\n",
       "      <td>False</td>\n",
       "      <td>False</td>\n",
       "      <td>False</td>\n",
       "      <td>False</td>\n",
       "      <td>False</td>\n",
       "      <td>False</td>\n",
       "      <td>False</td>\n",
       "      <td>True</td>\n",
       "      <td>False</td>\n",
       "      <td>False</td>\n",
       "      <td>...</td>\n",
       "      <td>False</td>\n",
       "      <td>False</td>\n",
       "      <td>False</td>\n",
       "      <td>False</td>\n",
       "      <td>False</td>\n",
       "      <td>False</td>\n",
       "      <td>False</td>\n",
       "      <td>False</td>\n",
       "      <td>False</td>\n",
       "      <td>False</td>\n",
       "    </tr>\n",
       "    <tr>\n",
       "      <th>732</th>\n",
       "      <td>True</td>\n",
       "      <td>True</td>\n",
       "      <td>False</td>\n",
       "      <td>False</td>\n",
       "      <td>True</td>\n",
       "      <td>False</td>\n",
       "      <td>True</td>\n",
       "      <td>False</td>\n",
       "      <td>False</td>\n",
       "      <td>False</td>\n",
       "      <td>...</td>\n",
       "      <td>False</td>\n",
       "      <td>False</td>\n",
       "      <td>True</td>\n",
       "      <td>False</td>\n",
       "      <td>False</td>\n",
       "      <td>False</td>\n",
       "      <td>True</td>\n",
       "      <td>False</td>\n",
       "      <td>False</td>\n",
       "      <td>True</td>\n",
       "    </tr>\n",
       "  </tbody>\n",
       "</table>\n",
       "<p>733 rows × 100 columns</p>\n",
       "</div>"
      ],
      "text/plain": [
       "        0      1      2      3      4      5      6      7      8      9   \\\n",
       "0     True  False  False   True  False  False  False  False  False  False   \n",
       "1     True   True  False   True   True   True  False   True   True  False   \n",
       "2    False  False  False  False  False   True  False  False  False  False   \n",
       "3    False  False  False  False  False  False  False  False  False  False   \n",
       "4    False   True  False   True   True  False  False   True  False  False   \n",
       "..     ...    ...    ...    ...    ...    ...    ...    ...    ...    ...   \n",
       "728  False   True  False  False  False  False  False  False  False  False   \n",
       "729   True   True   True   True  False  False  False  False   True  False   \n",
       "730  False  False  False  False  False  False  False  False  False  False   \n",
       "731  False  False  False  False  False  False  False   True  False  False   \n",
       "732   True   True  False  False   True  False   True  False  False  False   \n",
       "\n",
       "     ...     90     91     92     93     94     95     96     97     98     99  \n",
       "0    ...  False  False  False  False  False  False  False  False  False  False  \n",
       "1    ...   True   True   True   True  False  False   True   True   True   True  \n",
       "2    ...  False  False  False  False  False  False  False  False  False  False  \n",
       "3    ...  False  False  False  False  False  False  False  False  False  False  \n",
       "4    ...  False  False  False   True  False   True   True  False  False  False  \n",
       "..   ...    ...    ...    ...    ...    ...    ...    ...    ...    ...    ...  \n",
       "728  ...  False  False  False  False  False  False  False  False  False  False  \n",
       "729  ...   True   True   True  False  False  False   True  False   True   True  \n",
       "730  ...  False  False  False  False  False  False  False  False  False  False  \n",
       "731  ...  False  False  False  False  False  False  False  False  False  False  \n",
       "732  ...  False  False   True  False  False  False   True  False  False   True  \n",
       "\n",
       "[733 rows x 100 columns]"
      ]
     },
     "execution_count": 25,
     "metadata": {},
     "output_type": "execute_result"
    }
   ],
   "source": [
    "reliabilityPreds"
   ]
  },
  {
   "cell_type": "raw",
   "id": "2f1174b6-3e37-4c29-a6ae-a83e22ea3688",
   "metadata": {
    "tags": []
   },
   "source": [
    "reliabilityPreds.to_csv(\"results/realiabilityPredsConsensus_05.csv\",index_label=\"molID\")"
   ]
  },
  {
   "cell_type": "markdown",
   "id": "bd3b20ac-c9ff-4402-a91a-fd2ac9c824f4",
   "metadata": {},
   "source": [
    "## Results"
   ]
  },
  {
   "cell_type": "code",
   "execution_count": 16,
   "id": "33fde7a7-f2d1-453d-855c-2fdadededeb8",
   "metadata": {
    "tags": []
   },
   "outputs": [],
   "source": [
    "from utilsMetric import  metrics, getTableFromStats"
   ]
  },
  {
   "cell_type": "code",
   "execution_count": 10,
   "id": "dfa058ef-cf12-48e5-8dff-a31cbc218aa5",
   "metadata": {
    "tags": []
   },
   "outputs": [],
   "source": [
    "reliabilityPreds=pd.read_csv(\"results/realiabilityPredsConsensus_05.csv\", index_col=0)"
   ]
  },
  {
   "cell_type": "code",
   "execution_count": 11,
   "id": "0f266986-8bc5-4551-8858-a332ba6d6d4b",
   "metadata": {
    "tags": []
   },
   "outputs": [],
   "source": [
    "allScores = pd.read_csv(\"results/CVscores.csv\", header=[0,1], index_col=0)"
   ]
  },
  {
   "cell_type": "code",
   "execution_count": 12,
   "id": "8ed5757a-64f5-4fc2-8a95-ffa02f4f19fc",
   "metadata": {
    "tags": []
   },
   "outputs": [],
   "source": [
    "consensusScores =pd.concat( \n",
    "            [allScores[cv].mean(axis=1) for cv in allScores.columns.levels[0] ], \n",
    "            axis=1, names = range(nCV))"
   ]
  },
  {
   "cell_type": "code",
   "execution_count": 13,
   "id": "21a0e2b1-1be4-435f-901b-e48b2d53826c",
   "metadata": {
    "tags": []
   },
   "outputs": [],
   "source": [
    "metricsAD = pd.DataFrame(columns=range(nCV),\n",
    "                            index=[\"P\",\"N\",\"T\",*metrics] )\n",
    "\n",
    "metricsAD.loc[\"P\"] = [ Y[mask].value_counts()[1] for mask in reliabilityPreds.values.T]\n",
    "metricsAD.loc[\"N\"] = [ Y[mask].value_counts()[0] for mask in reliabilityPreds.values.T]\n",
    "metricsAD.loc[\"T\"] = [ sum(mask) for mask in reliabilityPreds.values.T]\n",
    "\n",
    "for metrName, metrFun in metrics.items():\n",
    "    metricsAD.loc[metrName] = [ metrFun(Y[mask], preds[mask], scores[mask])\n",
    "                    for mask,preds,scores in zip(reliabilityPreds.values.astype(bool).T, predsConsensusCV.values.T, consensusScores.values.T)  ]"
   ]
  },
  {
   "cell_type": "code",
   "execution_count": 14,
   "id": "c997a776-b753-4b94-9315-a130d5829644",
   "metadata": {
    "tags": []
   },
   "outputs": [],
   "source": [
    "results = metricsAD.T.loc[:,[\"P\",\"N\",\"T\",*metrics]].astype(float).describe()"
   ]
  },
  {
   "cell_type": "code",
   "execution_count": 19,
   "id": "76e1b84a-87f0-4664-a291-9bf8978bb85e",
   "metadata": {
    "tags": []
   },
   "outputs": [
    {
     "data": {
      "text/html": [
       "<div>\n",
       "<style scoped>\n",
       "    .dataframe tbody tr th:only-of-type {\n",
       "        vertical-align: middle;\n",
       "    }\n",
       "\n",
       "    .dataframe tbody tr th {\n",
       "        vertical-align: top;\n",
       "    }\n",
       "\n",
       "    .dataframe thead th {\n",
       "        text-align: right;\n",
       "    }\n",
       "</style>\n",
       "<table border=\"1\" class=\"dataframe\">\n",
       "  <thead>\n",
       "    <tr style=\"text-align: right;\">\n",
       "      <th></th>\n",
       "      <th>median</th>\n",
       "      <th>(1st quartile, 3rd quartile)</th>\n",
       "    </tr>\n",
       "  </thead>\n",
       "  <tbody>\n",
       "    <tr>\n",
       "      <th>P</th>\n",
       "      <td>367.0</td>\n",
       "      <td>361.0, 373.0</td>\n",
       "    </tr>\n",
       "    <tr>\n",
       "      <th>N</th>\n",
       "      <td>66.0</td>\n",
       "      <td>63.75, 68.25</td>\n",
       "    </tr>\n",
       "    <tr>\n",
       "      <th>T</th>\n",
       "      <td>432.0</td>\n",
       "      <td>427.0, 440.0</td>\n",
       "    </tr>\n",
       "    <tr>\n",
       "      <th>spec</th>\n",
       "      <td>0.48570261437908496</td>\n",
       "      <td>0.46875, 0.5079365079365079</td>\n",
       "    </tr>\n",
       "    <tr>\n",
       "      <th>sens</th>\n",
       "      <td>0.9757405348852416</td>\n",
       "      <td>0.9705487033523087, 0.9807162534435262</td>\n",
       "    </tr>\n",
       "    <tr>\n",
       "      <th>balacc</th>\n",
       "      <td>0.7318266340946924</td>\n",
       "      <td>0.722043437559097, 0.7418591282920551</td>\n",
       "    </tr>\n",
       "    <tr>\n",
       "      <th>mcc</th>\n",
       "      <td>0.5663679173551973</td>\n",
       "      <td>0.5464322192886715, 0.5901101006944</td>\n",
       "    </tr>\n",
       "    <tr>\n",
       "      <th>ppv</th>\n",
       "      <td>0.9132021884062304</td>\n",
       "      <td>0.9093247934639329, 0.9190893728278545</td>\n",
       "    </tr>\n",
       "    <tr>\n",
       "      <th>npv</th>\n",
       "      <td>0.7804878048780488</td>\n",
       "      <td>0.7538265306122449, 0.8163875598086124</td>\n",
       "    </tr>\n",
       "    <tr>\n",
       "      <th>PRcurve</th>\n",
       "      <td>0.9236456477267965</td>\n",
       "      <td>0.916624864118417, 0.931168490766835</td>\n",
       "    </tr>\n",
       "    <tr>\n",
       "      <th>ROCcurve</th>\n",
       "      <td>0.7660924213128806</td>\n",
       "      <td>0.7565706235810997, 0.7797225264680423</td>\n",
       "    </tr>\n",
       "  </tbody>\n",
       "</table>\n",
       "</div>"
      ],
      "text/plain": [
       "                       median            (1st quartile, 3rd quartile)\n",
       "P                       367.0                            361.0, 373.0\n",
       "N                        66.0                            63.75, 68.25\n",
       "T                       432.0                            427.0, 440.0\n",
       "spec      0.48570261437908496             0.46875, 0.5079365079365079\n",
       "sens       0.9757405348852416  0.9705487033523087, 0.9807162534435262\n",
       "balacc     0.7318266340946924   0.722043437559097, 0.7418591282920551\n",
       "mcc        0.5663679173551973     0.5464322192886715, 0.5901101006944\n",
       "ppv        0.9132021884062304  0.9093247934639329, 0.9190893728278545\n",
       "npv        0.7804878048780488  0.7538265306122449, 0.8163875598086124\n",
       "PRcurve    0.9236456477267965    0.916624864118417, 0.931168490766835\n",
       "ROCcurve   0.7660924213128806  0.7565706235810997, 0.7797225264680423"
      ]
     },
     "execution_count": 19,
     "metadata": {},
     "output_type": "execute_result"
    }
   ],
   "source": [
    "getTableFromStats(results)"
   ]
  },
  {
   "cell_type": "raw",
   "id": "b822daa4-55e5-496e-be1e-5c9c73e854f9",
   "metadata": {
    "tags": []
   },
   "source": [
    "getTableFromStats(results).to_csv(\"results/CV_ADmetrics.csv\")"
   ]
  }
 ],
 "metadata": {
  "kernelspec": {
   "display_name": "Python 3 (ipykernel)",
   "language": "python",
   "name": "python3"
  },
  "language_info": {
   "codemirror_mode": {
    "name": "ipython",
    "version": 3
   },
   "file_extension": ".py",
   "mimetype": "text/x-python",
   "name": "python",
   "nbconvert_exporter": "python",
   "pygments_lexer": "ipython3",
   "version": "3.10.10"
  }
 },
 "nbformat": 4,
 "nbformat_minor": 5
}
