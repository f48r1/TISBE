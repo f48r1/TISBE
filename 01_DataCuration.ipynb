{
 "cells": [
  {
   "cell_type": "code",
   "execution_count": 1,
   "id": "7c4890bc-1171-49d2-aabc-9a956d6fdda5",
   "metadata": {
    "tags": []
   },
   "outputs": [],
   "source": [
    "import pandas as pd, numpy as np\n",
    "from rdkit import Chem\n",
    "from rdkit.Chem import Draw\n",
    "from rdkit import RDLogger\n",
    "RDLogger.DisableLog('rdApp.*')\n",
    "from dataElaboration import ElabSmiles"
   ]
  },
  {
   "cell_type": "markdown",
   "id": "4f16dcb2-ae47-4cec-9282-2168a5675ad4",
   "metadata": {
    "tags": []
   },
   "source": [
    "## Useful Functions"
   ]
  },
  {
   "cell_type": "code",
   "execution_count": 2,
   "id": "2bb5c131-4ab5-46c9-bfd6-1e433df5d43d",
   "metadata": {
    "tags": []
   },
   "outputs": [],
   "source": [
    "def maskError(df):\n",
    "    smilesCol = df.columns[df.columns.str.contains(\"smiles\")][0]\n",
    "    return (df[smilesCol].astype(str).apply(Chem.MolFromSmiles).isnull()) | (df[\"CAS\"].str.len()<=1)"
   ]
  },
  {
   "cell_type": "code",
   "execution_count": 3,
   "id": "fc3abc86-18bb-46f5-9ad6-d080b4e24163",
   "metadata": {
    "tags": []
   },
   "outputs": [],
   "source": [
    "def convLab(x):\n",
    "    if x in [\"DTer\",\"D\",\"Dter\",\"D(MT)\",\"DTer(MT)\"]:\n",
    "        return \"1\"\n",
    "    elif x in [\"No Evidence\",\"N\"]:\n",
    "        return \"0\"\n",
    "    elif x==\"No Data\":\n",
    "        return \"Undefined\"\n",
    "    else:\n",
    "        return x"
   ]
  },
  {
   "cell_type": "markdown",
   "id": "9843ae91-0cca-42f6-9051-10083e76ccc2",
   "metadata": {
    "tags": []
   },
   "source": [
    "## Importing CAESAR dataset"
   ]
  },
  {
   "cell_type": "code",
   "execution_count": 4,
   "id": "7bb027c8-c865-4d09-b04f-1a49db559d42",
   "metadata": {
    "tags": []
   },
   "outputs": [],
   "source": [
    "# Reading CAESAR dataset parsing only few columns and rename them for adattability\n",
    "caesarColumns={\"SMILES\":\"CAESARsmiles\",\"CAESAR class\":\"CAESARlabel\", \"CAS_RN\":\"CAS\", \n",
    "               \"Chemical Name\":\"CAESARname\", \"FDA Classification\":\"FDA\"}\n",
    "caesar=pd.read_csv(\"data/CAESAR_withStereo.csv\", delimiter=\";\", usecols=caesarColumns.keys())\n",
    "caesar.rename(columns=caesarColumns, inplace=True)"
   ]
  },
  {
   "cell_type": "code",
   "execution_count": 5,
   "id": "4bdbe7fb-cd05-4055-8be8-8ca1303854eb",
   "metadata": {
    "collapsed": true,
    "jupyter": {
     "outputs_hidden": true
    },
    "tags": []
   },
   "outputs": [
    {
     "data": {
      "text/html": [
       "<div>\n",
       "<style scoped>\n",
       "    .dataframe tbody tr th:only-of-type {\n",
       "        vertical-align: middle;\n",
       "    }\n",
       "\n",
       "    .dataframe tbody tr th {\n",
       "        vertical-align: top;\n",
       "    }\n",
       "\n",
       "    .dataframe thead th {\n",
       "        text-align: right;\n",
       "    }\n",
       "</style>\n",
       "<table border=\"1\" class=\"dataframe\">\n",
       "  <thead>\n",
       "    <tr style=\"text-align: right;\">\n",
       "      <th></th>\n",
       "      <th>CAESARname</th>\n",
       "      <th>CAS</th>\n",
       "      <th>CAESARsmiles</th>\n",
       "      <th>FDA</th>\n",
       "      <th>CAESARlabel</th>\n",
       "    </tr>\n",
       "  </thead>\n",
       "  <tbody>\n",
       "    <tr>\n",
       "      <th>0</th>\n",
       "      <td>Acetaldehyde</td>\n",
       "      <td>75-07-0</td>\n",
       "      <td>CC=O</td>\n",
       "      <td>A/B</td>\n",
       "      <td>N</td>\n",
       "    </tr>\n",
       "    <tr>\n",
       "      <th>1</th>\n",
       "      <td>Acetaminophen</td>\n",
       "      <td>103-90-2</td>\n",
       "      <td>CC(=O)NC1=CC=C(O)C=C1</td>\n",
       "      <td>B</td>\n",
       "      <td>N</td>\n",
       "    </tr>\n",
       "    <tr>\n",
       "      <th>2</th>\n",
       "      <td>Acetazolamide</td>\n",
       "      <td>59-66-5</td>\n",
       "      <td>CC(=O)NC1=NN=C(S1)S(N)(=O)=O</td>\n",
       "      <td>C</td>\n",
       "      <td>D</td>\n",
       "    </tr>\n",
       "    <tr>\n",
       "      <th>3</th>\n",
       "      <td>Acetohexamide</td>\n",
       "      <td>968-81-0</td>\n",
       "      <td>CC(=O)C1=CC=C(C=C1)S(=O)(=O)NC(=O)NC2CCCCC2</td>\n",
       "      <td>C</td>\n",
       "      <td>D</td>\n",
       "    </tr>\n",
       "    <tr>\n",
       "      <th>4</th>\n",
       "      <td>Acid(isotretinoin)</td>\n",
       "      <td>4759-48-2</td>\n",
       "      <td>CC(\\C=C\\C1=C(C)CCCC1(C)C)=C/C=C/C(C)=C\\C(O)=O</td>\n",
       "      <td>X</td>\n",
       "      <td>D</td>\n",
       "    </tr>\n",
       "    <tr>\n",
       "      <th>...</th>\n",
       "      <td>...</td>\n",
       "      <td>...</td>\n",
       "      <td>...</td>\n",
       "      <td>...</td>\n",
       "      <td>...</td>\n",
       "    </tr>\n",
       "    <tr>\n",
       "      <th>287</th>\n",
       "      <td>Tyropanoate</td>\n",
       "      <td>27293-82-9</td>\n",
       "      <td>CCCC(=O)NC1=C(I)C=C(I)C(CC(CC)C(O)=O)=C1I</td>\n",
       "      <td>D</td>\n",
       "      <td>D</td>\n",
       "    </tr>\n",
       "    <tr>\n",
       "      <th>288</th>\n",
       "      <td>Valproic Acid</td>\n",
       "      <td>99-66-1</td>\n",
       "      <td>CCCC(CCC)C(O)=O</td>\n",
       "      <td>D</td>\n",
       "      <td>D</td>\n",
       "    </tr>\n",
       "    <tr>\n",
       "      <th>289</th>\n",
       "      <td>Vitamin a</td>\n",
       "      <td>11103-57-4</td>\n",
       "      <td>CC(=C/CO)\\C=C\\C=C(C)\\C=C\\C1=C(C)CCCC1(C)C</td>\n",
       "      <td>A (X if used above US RDA)</td>\n",
       "      <td>N</td>\n",
       "    </tr>\n",
       "    <tr>\n",
       "      <th>290</th>\n",
       "      <td>Warfarin</td>\n",
       "      <td>81-81-2</td>\n",
       "      <td>CC(=O)CC(C1=CC=CC=C1)C2=C(O)C3=C(OC2=O)C=CC=C3</td>\n",
       "      <td>D (X according to manufactor)</td>\n",
       "      <td>D</td>\n",
       "    </tr>\n",
       "    <tr>\n",
       "      <th>291</th>\n",
       "      <td>Xylometazoline</td>\n",
       "      <td>526-36-3</td>\n",
       "      <td>CC1=CC(=CC(C)=C1CC2=NCCN2)C(C)(C)C</td>\n",
       "      <td>A</td>\n",
       "      <td>N</td>\n",
       "    </tr>\n",
       "  </tbody>\n",
       "</table>\n",
       "<p>292 rows × 5 columns</p>\n",
       "</div>"
      ],
      "text/plain": [
       "             CAESARname         CAS  \\\n",
       "0          Acetaldehyde     75-07-0   \n",
       "1         Acetaminophen    103-90-2   \n",
       "2         Acetazolamide     59-66-5   \n",
       "3         Acetohexamide    968-81-0   \n",
       "4    Acid(isotretinoin)   4759-48-2   \n",
       "..                  ...         ...   \n",
       "287         Tyropanoate  27293-82-9   \n",
       "288       Valproic Acid     99-66-1   \n",
       "289           Vitamin a  11103-57-4   \n",
       "290            Warfarin     81-81-2   \n",
       "291      Xylometazoline    526-36-3   \n",
       "\n",
       "                                       CAESARsmiles  \\\n",
       "0                                              CC=O   \n",
       "1                             CC(=O)NC1=CC=C(O)C=C1   \n",
       "2                      CC(=O)NC1=NN=C(S1)S(N)(=O)=O   \n",
       "3       CC(=O)C1=CC=C(C=C1)S(=O)(=O)NC(=O)NC2CCCCC2   \n",
       "4     CC(\\C=C\\C1=C(C)CCCC1(C)C)=C/C=C/C(C)=C\\C(O)=O   \n",
       "..                                              ...   \n",
       "287       CCCC(=O)NC1=C(I)C=C(I)C(CC(CC)C(O)=O)=C1I   \n",
       "288                                 CCCC(CCC)C(O)=O   \n",
       "289       CC(=C/CO)\\C=C\\C=C(C)\\C=C\\C1=C(C)CCCC1(C)C   \n",
       "290  CC(=O)CC(C1=CC=CC=C1)C2=C(O)C3=C(OC2=O)C=CC=C3   \n",
       "291              CC1=CC(=CC(C)=C1CC2=NCCN2)C(C)(C)C   \n",
       "\n",
       "                               FDA CAESARlabel  \n",
       "0                              A/B           N  \n",
       "1                                B           N  \n",
       "2                                C           D  \n",
       "3                                C           D  \n",
       "4                                X           D  \n",
       "..                             ...         ...  \n",
       "287                              D           D  \n",
       "288                              D           D  \n",
       "289     A (X if used above US RDA)           N  \n",
       "290  D (X according to manufactor)           D  \n",
       "291                              A           N  \n",
       "\n",
       "[292 rows x 5 columns]"
      ]
     },
     "execution_count": 5,
     "metadata": {},
     "output_type": "execute_result"
    }
   ],
   "source": [
    "caesar"
   ]
  },
  {
   "cell_type": "code",
   "execution_count": 6,
   "id": "b4f625f8-02a3-42bb-aa82-5f40140e1ba9",
   "metadata": {
    "tags": []
   },
   "outputs": [],
   "source": [
    "# Convert labels for uniformity\n",
    "caesar[\"CAESARlabel\"]=caesar[\"CAESARlabel\"].apply(convLab)"
   ]
  },
  {
   "cell_type": "code",
   "execution_count": 7,
   "id": "b16f6277-1a2f-485b-ae0c-12a9486859ad",
   "metadata": {
    "tags": []
   },
   "outputs": [
    {
     "data": {
      "text/plain": [
       "CAESARlabel\n",
       "1    201\n",
       "0     91\n",
       "dtype: int64"
      ]
     },
     "execution_count": 7,
     "metadata": {},
     "output_type": "execute_result"
    }
   ],
   "source": [
    "caesar.value_counts(\"CAESARlabel\")"
   ]
  },
  {
   "cell_type": "raw",
   "id": "2e76d733-e26c-4132-9164-d670533034f6",
   "metadata": {
    "jupyter": {
     "outputs_hidden": true
    },
    "tags": []
   },
   "source": [
    "caesar.groupby([\"FDA\",\"CAESARlabel\"]).size()"
   ]
  },
  {
   "cell_type": "raw",
   "id": "4fbbe302-af40-4bb2-a305-d435c12feec2",
   "metadata": {
    "tags": []
   },
   "source": [
    "caesar[maskError(caesar)]"
   ]
  },
  {
   "cell_type": "markdown",
   "id": "7d598eea-5d89-4af1-bc07-01038d436047",
   "metadata": {
    "tags": []
   },
   "source": [
    "## Importing P&G dataset"
   ]
  },
  {
   "cell_type": "code",
   "execution_count": 9,
   "id": "4e282154-dbe8-4b04-adbf-13f5f8bf9044",
   "metadata": {
    "tags": []
   },
   "outputs": [],
   "source": [
    "pgColumns={\"SMILES\":\"PGsmiles\",\"DEVTOX-Data\":\"PGlabel\", \"CAS\":\"CAS\", \"Name\":\"PGname\",}\n",
    "pg=pd.read_csv(\"data/PeG_Original.csv\", usecols=pgColumns.keys())\n",
    "pg.rename(columns=pgColumns, inplace=True)"
   ]
  },
  {
   "cell_type": "code",
   "execution_count": 10,
   "id": "f686c2a5-ec4c-4eac-ae52-15109bc0ed04",
   "metadata": {
    "tags": []
   },
   "outputs": [],
   "source": [
    "# Convert labels for uniformity\n",
    "pg[\"PGlabel\"]=pg[\"PGlabel\"].apply(convLab)"
   ]
  },
  {
   "cell_type": "code",
   "execution_count": 11,
   "id": "18802057-5acd-4a34-8d29-aa5c4a24acd2",
   "metadata": {
    "collapsed": true,
    "jupyter": {
     "outputs_hidden": true
    },
    "tags": []
   },
   "outputs": [
    {
     "data": {
      "text/html": [
       "<div>\n",
       "<style scoped>\n",
       "    .dataframe tbody tr th:only-of-type {\n",
       "        vertical-align: middle;\n",
       "    }\n",
       "\n",
       "    .dataframe tbody tr th {\n",
       "        vertical-align: top;\n",
       "    }\n",
       "\n",
       "    .dataframe thead th {\n",
       "        text-align: right;\n",
       "    }\n",
       "</style>\n",
       "<table border=\"1\" class=\"dataframe\">\n",
       "  <thead>\n",
       "    <tr style=\"text-align: right;\">\n",
       "      <th></th>\n",
       "      <th>CAS</th>\n",
       "      <th>PGsmiles</th>\n",
       "      <th>PGname</th>\n",
       "      <th>PGlabel</th>\n",
       "    </tr>\n",
       "  </thead>\n",
       "  <tbody>\n",
       "    <tr>\n",
       "      <th>0</th>\n",
       "      <td>_</td>\n",
       "      <td>NaN</td>\n",
       "      <td>Metals</td>\n",
       "      <td>1</td>\n",
       "    </tr>\n",
       "    <tr>\n",
       "      <th>1</th>\n",
       "      <td>6055-19-2</td>\n",
       "      <td>C1CNP(=O)(OC1)N(CCCl)CCCl.O</td>\n",
       "      <td>Cyclophosphamide</td>\n",
       "      <td>1</td>\n",
       "    </tr>\n",
       "    <tr>\n",
       "      <th>2</th>\n",
       "      <td>3778-73-2</td>\n",
       "      <td>C1CN(P(=O)(OC1)NCCCl)CCCl</td>\n",
       "      <td>Ifosfamide</td>\n",
       "      <td>1</td>\n",
       "    </tr>\n",
       "    <tr>\n",
       "      <th>3</th>\n",
       "      <td>470-90-6</td>\n",
       "      <td>CCOP(=O)(OCC)OC(=CCl)C1=C(C=C(C=C1)Cl)Cl</td>\n",
       "      <td>Chlorfenvinphos</td>\n",
       "      <td>1</td>\n",
       "    </tr>\n",
       "    <tr>\n",
       "      <th>4</th>\n",
       "      <td>298-00-0</td>\n",
       "      <td>COP(=S)(OC)OC1=CC=C(C=C1)[N+](=O)[O-]</td>\n",
       "      <td>Methyl parathion</td>\n",
       "      <td>1</td>\n",
       "    </tr>\n",
       "    <tr>\n",
       "      <th>...</th>\n",
       "      <td>...</td>\n",
       "      <td>...</td>\n",
       "      <td>...</td>\n",
       "      <td>...</td>\n",
       "    </tr>\n",
       "    <tr>\n",
       "      <th>711</th>\n",
       "      <td>93106-60-6</td>\n",
       "      <td>CCN1CCN(CC1)C2=C(C=C3C(=C2)N(C=C(C3=O)C(=O)O)C...</td>\n",
       "      <td>Enrofloxacin</td>\n",
       "      <td>1</td>\n",
       "    </tr>\n",
       "    <tr>\n",
       "      <th>712</th>\n",
       "      <td>85721-33-1</td>\n",
       "      <td>C1CC1N2C=C(C(=O)C3=CC(=C(C=C32)N4CCNCC4)F)C(=O)O</td>\n",
       "      <td>Ciprofloxacin</td>\n",
       "      <td>1</td>\n",
       "    </tr>\n",
       "    <tr>\n",
       "      <th>713</th>\n",
       "      <td>115550-35-1</td>\n",
       "      <td>CN1CCN(CC1)C2=C(C=C3C4=C2OCN(N4C=C(C3=O)C(=O)O...</td>\n",
       "      <td>Marbofloxacin</td>\n",
       "      <td>1</td>\n",
       "    </tr>\n",
       "    <tr>\n",
       "      <th>714</th>\n",
       "      <td>100986-85-4</td>\n",
       "      <td>C[C@H]1COC2=C3N1C=C(C(=O)C3=CC(=C2N4CCN(CC4)C)...</td>\n",
       "      <td>Levofloxacin</td>\n",
       "      <td>1</td>\n",
       "    </tr>\n",
       "    <tr>\n",
       "      <th>715</th>\n",
       "      <td>42835-25-6</td>\n",
       "      <td>CC1CCC2=C3N1C=C(C(=O)C3=CC(=C2)F)C(=O)O</td>\n",
       "      <td>Flumequine</td>\n",
       "      <td>1</td>\n",
       "    </tr>\n",
       "  </tbody>\n",
       "</table>\n",
       "<p>716 rows × 4 columns</p>\n",
       "</div>"
      ],
      "text/plain": [
       "             CAS                                           PGsmiles  \\\n",
       "0              _                                                NaN   \n",
       "1      6055-19-2                        C1CNP(=O)(OC1)N(CCCl)CCCl.O   \n",
       "2      3778-73-2                          C1CN(P(=O)(OC1)NCCCl)CCCl   \n",
       "3       470-90-6           CCOP(=O)(OCC)OC(=CCl)C1=C(C=C(C=C1)Cl)Cl   \n",
       "4       298-00-0              COP(=S)(OC)OC1=CC=C(C=C1)[N+](=O)[O-]   \n",
       "..           ...                                                ...   \n",
       "711   93106-60-6  CCN1CCN(CC1)C2=C(C=C3C(=C2)N(C=C(C3=O)C(=O)O)C...   \n",
       "712   85721-33-1   C1CC1N2C=C(C(=O)C3=CC(=C(C=C32)N4CCNCC4)F)C(=O)O   \n",
       "713  115550-35-1  CN1CCN(CC1)C2=C(C=C3C4=C2OCN(N4C=C(C3=O)C(=O)O...   \n",
       "714  100986-85-4  C[C@H]1COC2=C3N1C=C(C(=O)C3=CC(=C2N4CCN(CC4)C)...   \n",
       "715   42835-25-6            CC1CCC2=C3N1C=C(C(=O)C3=CC(=C2)F)C(=O)O   \n",
       "\n",
       "               PGname PGlabel  \n",
       "0              Metals       1  \n",
       "1    Cyclophosphamide       1  \n",
       "2          Ifosfamide       1  \n",
       "3     Chlorfenvinphos       1  \n",
       "4    Methyl parathion       1  \n",
       "..                ...     ...  \n",
       "711      Enrofloxacin       1  \n",
       "712     Ciprofloxacin       1  \n",
       "713     Marbofloxacin       1  \n",
       "714      Levofloxacin       1  \n",
       "715        Flumequine       1  \n",
       "\n",
       "[716 rows x 4 columns]"
      ]
     },
     "execution_count": 11,
     "metadata": {},
     "output_type": "execute_result"
    }
   ],
   "source": [
    "pg"
   ]
  },
  {
   "cell_type": "raw",
   "id": "9effc302-0243-4753-87ed-139c9ff3bc3e",
   "metadata": {
    "tags": []
   },
   "source": [
    "pg.groupby(\"PGlabel\").size()"
   ]
  },
  {
   "cell_type": "code",
   "execution_count": 12,
   "id": "87bc4e53-e173-4671-af68-0e4f1e0313f1",
   "metadata": {
    "tags": []
   },
   "outputs": [
    {
     "data": {
      "text/html": [
       "<div>\n",
       "<style scoped>\n",
       "    .dataframe tbody tr th:only-of-type {\n",
       "        vertical-align: middle;\n",
       "    }\n",
       "\n",
       "    .dataframe tbody tr th {\n",
       "        vertical-align: top;\n",
       "    }\n",
       "\n",
       "    .dataframe thead th {\n",
       "        text-align: right;\n",
       "    }\n",
       "</style>\n",
       "<table border=\"1\" class=\"dataframe\">\n",
       "  <thead>\n",
       "    <tr style=\"text-align: right;\">\n",
       "      <th></th>\n",
       "      <th>CAS</th>\n",
       "      <th>PGsmiles</th>\n",
       "      <th>PGname</th>\n",
       "      <th>PGlabel</th>\n",
       "    </tr>\n",
       "  </thead>\n",
       "  <tbody>\n",
       "    <tr>\n",
       "      <th>0</th>\n",
       "      <td>_</td>\n",
       "      <td>NaN</td>\n",
       "      <td>Metals</td>\n",
       "      <td>1</td>\n",
       "    </tr>\n",
       "    <tr>\n",
       "      <th>611</th>\n",
       "      <td>308064-18-8</td>\n",
       "      <td>NaN</td>\n",
       "      <td>Di-Me, Me Ph cyclosiloxanes (PMxMMy)</td>\n",
       "      <td>1</td>\n",
       "    </tr>\n",
       "  </tbody>\n",
       "</table>\n",
       "</div>"
      ],
      "text/plain": [
       "             CAS PGsmiles                                PGname PGlabel\n",
       "0              _      NaN                                Metals       1\n",
       "611  308064-18-8      NaN  Di-Me, Me Ph cyclosiloxanes (PMxMMy)       1"
      ]
     },
     "execution_count": 12,
     "metadata": {},
     "output_type": "execute_result"
    }
   ],
   "source": [
    "pg[maskError(pg)]"
   ]
  },
  {
   "cell_type": "code",
   "execution_count": 13,
   "id": "29d4fcbb-35a7-409d-a91c-6b29125cab6c",
   "metadata": {
    "tags": []
   },
   "outputs": [],
   "source": [
    "pg.drop(pg[maskError(pg)].index, inplace=True)"
   ]
  },
  {
   "cell_type": "markdown",
   "id": "2fa12c55-b6b5-4d6a-87e3-4cba2c3f597d",
   "metadata": {
    "tags": []
   },
   "source": [
    "## Merging by CAS & Elaboration"
   ]
  },
  {
   "cell_type": "code",
   "execution_count": 15,
   "id": "e0a21b5b-51b0-4e09-b326-4fc69aae3955",
   "metadata": {
    "tags": []
   },
   "outputs": [],
   "source": [
    "merged=pd.merge(pg , caesar , on=\"CAS\", how=\"outer\")"
   ]
  },
  {
   "cell_type": "code",
   "execution_count": 19,
   "id": "488ab017-5106-4eb6-9872-4d724f3e41f3",
   "metadata": {
    "collapsed": true,
    "jupyter": {
     "outputs_hidden": true
    },
    "tags": []
   },
   "outputs": [
    {
     "data": {
      "text/html": [
       "<div>\n",
       "<style scoped>\n",
       "    .dataframe tbody tr th:only-of-type {\n",
       "        vertical-align: middle;\n",
       "    }\n",
       "\n",
       "    .dataframe tbody tr th {\n",
       "        vertical-align: top;\n",
       "    }\n",
       "\n",
       "    .dataframe thead th {\n",
       "        text-align: right;\n",
       "    }\n",
       "</style>\n",
       "<table border=\"1\" class=\"dataframe\">\n",
       "  <thead>\n",
       "    <tr style=\"text-align: right;\">\n",
       "      <th></th>\n",
       "      <th>CAS</th>\n",
       "      <th>PGsmiles</th>\n",
       "      <th>PGname</th>\n",
       "      <th>PGlabel</th>\n",
       "      <th>CAESARname</th>\n",
       "      <th>CAESARsmiles</th>\n",
       "      <th>FDA</th>\n",
       "      <th>CAESARlabel</th>\n",
       "    </tr>\n",
       "  </thead>\n",
       "  <tbody>\n",
       "    <tr>\n",
       "      <th>0</th>\n",
       "      <td>6055-19-2</td>\n",
       "      <td>C1CNP(=O)(OC1)N(CCCl)CCCl.O</td>\n",
       "      <td>Cyclophosphamide</td>\n",
       "      <td>1</td>\n",
       "      <td>NaN</td>\n",
       "      <td>NaN</td>\n",
       "      <td>NaN</td>\n",
       "      <td>NaN</td>\n",
       "    </tr>\n",
       "    <tr>\n",
       "      <th>1</th>\n",
       "      <td>3778-73-2</td>\n",
       "      <td>C1CN(P(=O)(OC1)NCCCl)CCCl</td>\n",
       "      <td>Ifosfamide</td>\n",
       "      <td>1</td>\n",
       "      <td>NaN</td>\n",
       "      <td>NaN</td>\n",
       "      <td>NaN</td>\n",
       "      <td>NaN</td>\n",
       "    </tr>\n",
       "    <tr>\n",
       "      <th>2</th>\n",
       "      <td>470-90-6</td>\n",
       "      <td>CCOP(=O)(OCC)OC(=CCl)C1=C(C=C(C=C1)Cl)Cl</td>\n",
       "      <td>Chlorfenvinphos</td>\n",
       "      <td>1</td>\n",
       "      <td>NaN</td>\n",
       "      <td>NaN</td>\n",
       "      <td>NaN</td>\n",
       "      <td>NaN</td>\n",
       "    </tr>\n",
       "    <tr>\n",
       "      <th>3</th>\n",
       "      <td>298-00-0</td>\n",
       "      <td>COP(=S)(OC)OC1=CC=C(C=C1)[N+](=O)[O-]</td>\n",
       "      <td>Methyl parathion</td>\n",
       "      <td>1</td>\n",
       "      <td>NaN</td>\n",
       "      <td>NaN</td>\n",
       "      <td>NaN</td>\n",
       "      <td>NaN</td>\n",
       "    </tr>\n",
       "    <tr>\n",
       "      <th>4</th>\n",
       "      <td>732-11-6</td>\n",
       "      <td>COP(=S)(OC)SCN1C(=O)C2=CC=CC=C2C1=O</td>\n",
       "      <td>Phosmet</td>\n",
       "      <td>1</td>\n",
       "      <td>NaN</td>\n",
       "      <td>NaN</td>\n",
       "      <td>NaN</td>\n",
       "      <td>NaN</td>\n",
       "    </tr>\n",
       "    <tr>\n",
       "      <th>...</th>\n",
       "      <td>...</td>\n",
       "      <td>...</td>\n",
       "      <td>...</td>\n",
       "      <td>...</td>\n",
       "      <td>...</td>\n",
       "      <td>...</td>\n",
       "      <td>...</td>\n",
       "      <td>...</td>\n",
       "    </tr>\n",
       "    <tr>\n",
       "      <th>891</th>\n",
       "      <td>91-81-6</td>\n",
       "      <td>NaN</td>\n",
       "      <td>NaN</td>\n",
       "      <td>NaN</td>\n",
       "      <td>Tripelennamine</td>\n",
       "      <td>CN(C)CCN(CC1=CC=CC=C1)C2=CC=CC=N2</td>\n",
       "      <td>B</td>\n",
       "      <td>0</td>\n",
       "    </tr>\n",
       "    <tr>\n",
       "      <th>892</th>\n",
       "      <td>486-12-4</td>\n",
       "      <td>NaN</td>\n",
       "      <td>NaN</td>\n",
       "      <td>NaN</td>\n",
       "      <td>Triprolidine</td>\n",
       "      <td>CC1=CC=C(C=C1)\\C(=C/CN2CCCC2)C3=CC=CC=N3</td>\n",
       "      <td>C</td>\n",
       "      <td>1</td>\n",
       "    </tr>\n",
       "    <tr>\n",
       "      <th>893</th>\n",
       "      <td>27293-82-9</td>\n",
       "      <td>NaN</td>\n",
       "      <td>NaN</td>\n",
       "      <td>NaN</td>\n",
       "      <td>Tyropanoate</td>\n",
       "      <td>CCCC(=O)NC1=C(I)C=C(I)C(CC(CC)C(O)=O)=C1I</td>\n",
       "      <td>D</td>\n",
       "      <td>1</td>\n",
       "    </tr>\n",
       "    <tr>\n",
       "      <th>894</th>\n",
       "      <td>11103-57-4</td>\n",
       "      <td>NaN</td>\n",
       "      <td>NaN</td>\n",
       "      <td>NaN</td>\n",
       "      <td>Vitamin a</td>\n",
       "      <td>CC(=C/CO)\\C=C\\C=C(C)\\C=C\\C1=C(C)CCCC1(C)C</td>\n",
       "      <td>A (X if used above US RDA)</td>\n",
       "      <td>0</td>\n",
       "    </tr>\n",
       "    <tr>\n",
       "      <th>895</th>\n",
       "      <td>526-36-3</td>\n",
       "      <td>NaN</td>\n",
       "      <td>NaN</td>\n",
       "      <td>NaN</td>\n",
       "      <td>Xylometazoline</td>\n",
       "      <td>CC1=CC(=CC(C)=C1CC2=NCCN2)C(C)(C)C</td>\n",
       "      <td>A</td>\n",
       "      <td>0</td>\n",
       "    </tr>\n",
       "  </tbody>\n",
       "</table>\n",
       "<p>896 rows × 8 columns</p>\n",
       "</div>"
      ],
      "text/plain": [
       "            CAS                                  PGsmiles            PGname  \\\n",
       "0     6055-19-2               C1CNP(=O)(OC1)N(CCCl)CCCl.O  Cyclophosphamide   \n",
       "1     3778-73-2                 C1CN(P(=O)(OC1)NCCCl)CCCl        Ifosfamide   \n",
       "2      470-90-6  CCOP(=O)(OCC)OC(=CCl)C1=C(C=C(C=C1)Cl)Cl   Chlorfenvinphos   \n",
       "3      298-00-0     COP(=S)(OC)OC1=CC=C(C=C1)[N+](=O)[O-]  Methyl parathion   \n",
       "4      732-11-6       COP(=S)(OC)SCN1C(=O)C2=CC=CC=C2C1=O           Phosmet   \n",
       "..          ...                                       ...               ...   \n",
       "891     91-81-6                                       NaN               NaN   \n",
       "892    486-12-4                                       NaN               NaN   \n",
       "893  27293-82-9                                       NaN               NaN   \n",
       "894  11103-57-4                                       NaN               NaN   \n",
       "895    526-36-3                                       NaN               NaN   \n",
       "\n",
       "    PGlabel      CAESARname                               CAESARsmiles  \\\n",
       "0         1             NaN                                        NaN   \n",
       "1         1             NaN                                        NaN   \n",
       "2         1             NaN                                        NaN   \n",
       "3         1             NaN                                        NaN   \n",
       "4         1             NaN                                        NaN   \n",
       "..      ...             ...                                        ...   \n",
       "891     NaN  Tripelennamine          CN(C)CCN(CC1=CC=CC=C1)C2=CC=CC=N2   \n",
       "892     NaN    Triprolidine   CC1=CC=C(C=C1)\\C(=C/CN2CCCC2)C3=CC=CC=N3   \n",
       "893     NaN     Tyropanoate  CCCC(=O)NC1=C(I)C=C(I)C(CC(CC)C(O)=O)=C1I   \n",
       "894     NaN       Vitamin a  CC(=C/CO)\\C=C\\C=C(C)\\C=C\\C1=C(C)CCCC1(C)C   \n",
       "895     NaN  Xylometazoline         CC1=CC(=CC(C)=C1CC2=NCCN2)C(C)(C)C   \n",
       "\n",
       "                            FDA CAESARlabel  \n",
       "0                           NaN         NaN  \n",
       "1                           NaN         NaN  \n",
       "2                           NaN         NaN  \n",
       "3                           NaN         NaN  \n",
       "4                           NaN         NaN  \n",
       "..                          ...         ...  \n",
       "891                           B           0  \n",
       "892                           C           1  \n",
       "893                           D           1  \n",
       "894  A (X if used above US RDA)           0  \n",
       "895                           A           0  \n",
       "\n",
       "[896 rows x 8 columns]"
      ]
     },
     "execution_count": 19,
     "metadata": {},
     "output_type": "execute_result"
    }
   ],
   "source": [
    "merged"
   ]
  },
  {
   "cell_type": "raw",
   "id": "d96b98ce-597d-4273-9015-8cb6478c6c97",
   "metadata": {
    "tags": []
   },
   "source": [
    "merged.groupby([\"CAESARlabel\",\"PGlabel\"]).size()"
   ]
  },
  {
   "cell_type": "code",
   "execution_count": 10,
   "id": "56a5c059-ce74-4736-8dce-f936d8976a11",
   "metadata": {
    "tags": []
   },
   "outputs": [],
   "source": [
    "# Let's elaborated SMILES ! Check if is a mixture, inorganic, clean stereochemical information and salt neutralization !\n",
    "merged[\"CAESARsmilesElaborated\"] = merged[\"CAESARsmiles\"].astype(str).apply(ElabSmiles)\n",
    "merged[\"PGsmilesElaborated\"] = merged[\"PGsmiles\"].astype(str).apply(ElabSmiles)"
   ]
  },
  {
   "cell_type": "code",
   "execution_count": 11,
   "id": "f07619a9-dc19-4258-9c2b-86c8f5f12afb",
   "metadata": {
    "tags": []
   },
   "outputs": [],
   "source": [
    "invalidsSmiles = [\"inorganic\",\"mixture\",]\n",
    "maskInvalids = (merged[\"CAESARsmilesElaborated\"].isin(invalidsSmiles)) | (merged[\"PGsmilesElaborated\"].isin(invalidsSmiles))\n",
    "maskClassC = merged[\"FDA\"].str.contains(\"C$|C \\(\", regex=True).fillna(False)\n",
    "\n",
    "maskDiscard = maskInvalids | maskClassC"
   ]
  },
  {
   "cell_type": "raw",
   "id": "980f7a92-9035-4898-ba67-d8020520d5db",
   "metadata": {
    "jupyter": {
     "outputs_hidden": true
    },
    "tags": []
   },
   "source": [
    "# Inorganic and mixture substances will be discarded. Also class C chemicals matched by their CAS will be discarded\n",
    "merged[maskDiscard]"
   ]
  },
  {
   "cell_type": "code",
   "execution_count": 12,
   "id": "ce8ea7c0-d3d2-4d22-a1b5-88e537d4e9c1",
   "metadata": {
    "tags": []
   },
   "outputs": [],
   "source": [
    "merged.drop(merged[maskDiscard].index, inplace=True)"
   ]
  },
  {
   "cell_type": "code",
   "execution_count": 13,
   "id": "9de12252-d03f-4925-9af6-10483a9c2f48",
   "metadata": {
    "tags": []
   },
   "outputs": [],
   "source": [
    "shared=(~merged[\"PGlabel\"].isna()) & (~merged[\"CAESARlabel\"].isna())"
   ]
  },
  {
   "cell_type": "code",
   "execution_count": 14,
   "id": "459f17fd-44f5-4a43-9d78-7d4d231e2482",
   "metadata": {
    "tags": []
   },
   "outputs": [
    {
     "data": {
      "text/html": [
       "<div>\n",
       "<style scoped>\n",
       "    .dataframe tbody tr th:only-of-type {\n",
       "        vertical-align: middle;\n",
       "    }\n",
       "\n",
       "    .dataframe tbody tr th {\n",
       "        vertical-align: top;\n",
       "    }\n",
       "\n",
       "    .dataframe thead th {\n",
       "        text-align: right;\n",
       "    }\n",
       "</style>\n",
       "<table border=\"1\" class=\"dataframe\">\n",
       "  <thead>\n",
       "    <tr style=\"text-align: right;\">\n",
       "      <th></th>\n",
       "      <th>CAS</th>\n",
       "      <th>PGsmiles</th>\n",
       "      <th>PGname</th>\n",
       "      <th>PGlabel</th>\n",
       "      <th>CAESARname</th>\n",
       "      <th>CAESARsmiles</th>\n",
       "      <th>FDA</th>\n",
       "      <th>CAESARlabel</th>\n",
       "      <th>CAESARsmilesElaborated</th>\n",
       "      <th>PGsmilesElaborated</th>\n",
       "    </tr>\n",
       "  </thead>\n",
       "  <tbody>\n",
       "  </tbody>\n",
       "</table>\n",
       "</div>"
      ],
      "text/plain": [
       "Empty DataFrame\n",
       "Columns: [CAS, PGsmiles, PGname, PGlabel, CAESARname, CAESARsmiles, FDA, CAESARlabel, CAESARsmilesElaborated, PGsmilesElaborated]\n",
       "Index: []"
      ]
     },
     "execution_count": 14,
     "metadata": {},
     "output_type": "execute_result"
    }
   ],
   "source": [
    "# After elaboration of SMILES, no shared chemicals have different elaborated SMILES\n",
    "merged[shared & (merged[\"CAESARsmilesElaborated\"]!=merged[\"PGsmilesElaborated\"])]"
   ]
  },
  {
   "cell_type": "code",
   "execution_count": 16,
   "id": "f3290ed3-e13c-495f-ab25-1c941974ed44",
   "metadata": {
    "tags": []
   },
   "outputs": [],
   "source": [
    "# Removing cas rows having 2 discordant labels\n",
    "merged.drop(merged[shared & (merged[\"PGlabel\"]!=merged[\"CAESARlabel\"])].index, inplace=True)"
   ]
  },
  {
   "cell_type": "code",
   "execution_count": 17,
   "id": "663013e9-d210-4968-a068-1ee1b5f9482b",
   "metadata": {
    "collapsed": true,
    "jupyter": {
     "outputs_hidden": true
    },
    "tags": []
   },
   "outputs": [
    {
     "data": {
      "text/html": [
       "<div>\n",
       "<style scoped>\n",
       "    .dataframe tbody tr th:only-of-type {\n",
       "        vertical-align: middle;\n",
       "    }\n",
       "\n",
       "    .dataframe tbody tr th {\n",
       "        vertical-align: top;\n",
       "    }\n",
       "\n",
       "    .dataframe thead th {\n",
       "        text-align: right;\n",
       "    }\n",
       "</style>\n",
       "<table border=\"1\" class=\"dataframe\">\n",
       "  <thead>\n",
       "    <tr style=\"text-align: right;\">\n",
       "      <th></th>\n",
       "      <th>CAS</th>\n",
       "      <th>PGsmiles</th>\n",
       "      <th>PGname</th>\n",
       "      <th>PGlabel</th>\n",
       "      <th>CAESARname</th>\n",
       "      <th>CAESARsmiles</th>\n",
       "      <th>FDA</th>\n",
       "      <th>CAESARlabel</th>\n",
       "      <th>CAESARsmilesElaborated</th>\n",
       "      <th>PGsmilesElaborated</th>\n",
       "    </tr>\n",
       "  </thead>\n",
       "  <tbody>\n",
       "    <tr>\n",
       "      <th>0</th>\n",
       "      <td>6055-19-2</td>\n",
       "      <td>C1CNP(=O)(OC1)N(CCCl)CCCl.O</td>\n",
       "      <td>Cyclophosphamide</td>\n",
       "      <td>1</td>\n",
       "      <td>NaN</td>\n",
       "      <td>NaN</td>\n",
       "      <td>NaN</td>\n",
       "      <td>NaN</td>\n",
       "      <td>NaN</td>\n",
       "      <td>O=P1(N(CCCl)CCCl)NCCCO1</td>\n",
       "    </tr>\n",
       "    <tr>\n",
       "      <th>1</th>\n",
       "      <td>3778-73-2</td>\n",
       "      <td>C1CN(P(=O)(OC1)NCCCl)CCCl</td>\n",
       "      <td>Ifosfamide</td>\n",
       "      <td>1</td>\n",
       "      <td>NaN</td>\n",
       "      <td>NaN</td>\n",
       "      <td>NaN</td>\n",
       "      <td>NaN</td>\n",
       "      <td>NaN</td>\n",
       "      <td>O=P1(NCCCl)OCCCN1CCCl</td>\n",
       "    </tr>\n",
       "    <tr>\n",
       "      <th>2</th>\n",
       "      <td>470-90-6</td>\n",
       "      <td>CCOP(=O)(OCC)OC(=CCl)C1=C(C=C(C=C1)Cl)Cl</td>\n",
       "      <td>Chlorfenvinphos</td>\n",
       "      <td>1</td>\n",
       "      <td>NaN</td>\n",
       "      <td>NaN</td>\n",
       "      <td>NaN</td>\n",
       "      <td>NaN</td>\n",
       "      <td>NaN</td>\n",
       "      <td>CCOP(=O)(OCC)OC(=CCl)c1ccc(Cl)cc1Cl</td>\n",
       "    </tr>\n",
       "    <tr>\n",
       "      <th>3</th>\n",
       "      <td>298-00-0</td>\n",
       "      <td>COP(=S)(OC)OC1=CC=C(C=C1)[N+](=O)[O-]</td>\n",
       "      <td>Methyl parathion</td>\n",
       "      <td>1</td>\n",
       "      <td>NaN</td>\n",
       "      <td>NaN</td>\n",
       "      <td>NaN</td>\n",
       "      <td>NaN</td>\n",
       "      <td>NaN</td>\n",
       "      <td>COP(=S)(OC)Oc1ccc([N+](=O)[O-])cc1</td>\n",
       "    </tr>\n",
       "    <tr>\n",
       "      <th>4</th>\n",
       "      <td>732-11-6</td>\n",
       "      <td>COP(=S)(OC)SCN1C(=O)C2=CC=CC=C2C1=O</td>\n",
       "      <td>Phosmet</td>\n",
       "      <td>1</td>\n",
       "      <td>NaN</td>\n",
       "      <td>NaN</td>\n",
       "      <td>NaN</td>\n",
       "      <td>NaN</td>\n",
       "      <td>NaN</td>\n",
       "      <td>COP(=S)(OC)SCN1C(=O)c2ccccc2C1=O</td>\n",
       "    </tr>\n",
       "    <tr>\n",
       "      <th>...</th>\n",
       "      <td>...</td>\n",
       "      <td>...</td>\n",
       "      <td>...</td>\n",
       "      <td>...</td>\n",
       "      <td>...</td>\n",
       "      <td>...</td>\n",
       "      <td>...</td>\n",
       "      <td>...</td>\n",
       "      <td>...</td>\n",
       "      <td>...</td>\n",
       "    </tr>\n",
       "    <tr>\n",
       "      <th>887</th>\n",
       "      <td>34787-01-4</td>\n",
       "      <td>NaN</td>\n",
       "      <td>NaN</td>\n",
       "      <td>NaN</td>\n",
       "      <td>Ticarcillin</td>\n",
       "      <td>[H][C@]12SC(C)(C)[C@@H](N1C(=O)[C@@]2([H])NC(=...</td>\n",
       "      <td>B</td>\n",
       "      <td>0</td>\n",
       "      <td>CC1(C)SC2C(NC(=O)C(C(=O)O)c3ccsc3)C(=O)N2C1C(=O)O</td>\n",
       "      <td>NaN</td>\n",
       "    </tr>\n",
       "    <tr>\n",
       "      <th>891</th>\n",
       "      <td>91-81-6</td>\n",
       "      <td>NaN</td>\n",
       "      <td>NaN</td>\n",
       "      <td>NaN</td>\n",
       "      <td>Tripelennamine</td>\n",
       "      <td>CN(C)CCN(CC1=CC=CC=C1)C2=CC=CC=N2</td>\n",
       "      <td>B</td>\n",
       "      <td>0</td>\n",
       "      <td>CN(C)CCN(Cc1ccccc1)c1ccccn1</td>\n",
       "      <td>NaN</td>\n",
       "    </tr>\n",
       "    <tr>\n",
       "      <th>893</th>\n",
       "      <td>27293-82-9</td>\n",
       "      <td>NaN</td>\n",
       "      <td>NaN</td>\n",
       "      <td>NaN</td>\n",
       "      <td>Tyropanoate</td>\n",
       "      <td>CCCC(=O)NC1=C(I)C=C(I)C(CC(CC)C(O)=O)=C1I</td>\n",
       "      <td>D</td>\n",
       "      <td>1</td>\n",
       "      <td>CCCC(=O)Nc1c(I)cc(I)c(CC(CC)C(=O)O)c1I</td>\n",
       "      <td>NaN</td>\n",
       "    </tr>\n",
       "    <tr>\n",
       "      <th>894</th>\n",
       "      <td>11103-57-4</td>\n",
       "      <td>NaN</td>\n",
       "      <td>NaN</td>\n",
       "      <td>NaN</td>\n",
       "      <td>Vitamin a</td>\n",
       "      <td>CC(=C/CO)\\C=C\\C=C(C)\\C=C\\C1=C(C)CCCC1(C)C</td>\n",
       "      <td>A (X if used above US RDA)</td>\n",
       "      <td>0</td>\n",
       "      <td>CC(C=CC1=C(C)CCCC1(C)C)=CC=CC(C)=CCO</td>\n",
       "      <td>NaN</td>\n",
       "    </tr>\n",
       "    <tr>\n",
       "      <th>895</th>\n",
       "      <td>526-36-3</td>\n",
       "      <td>NaN</td>\n",
       "      <td>NaN</td>\n",
       "      <td>NaN</td>\n",
       "      <td>Xylometazoline</td>\n",
       "      <td>CC1=CC(=CC(C)=C1CC2=NCCN2)C(C)(C)C</td>\n",
       "      <td>A</td>\n",
       "      <td>0</td>\n",
       "      <td>Cc1cc(C(C)(C)C)cc(C)c1CC1=NCCN1</td>\n",
       "      <td>NaN</td>\n",
       "    </tr>\n",
       "  </tbody>\n",
       "</table>\n",
       "<p>793 rows × 10 columns</p>\n",
       "</div>"
      ],
      "text/plain": [
       "            CAS                                  PGsmiles            PGname  \\\n",
       "0     6055-19-2               C1CNP(=O)(OC1)N(CCCl)CCCl.O  Cyclophosphamide   \n",
       "1     3778-73-2                 C1CN(P(=O)(OC1)NCCCl)CCCl        Ifosfamide   \n",
       "2      470-90-6  CCOP(=O)(OCC)OC(=CCl)C1=C(C=C(C=C1)Cl)Cl   Chlorfenvinphos   \n",
       "3      298-00-0     COP(=S)(OC)OC1=CC=C(C=C1)[N+](=O)[O-]  Methyl parathion   \n",
       "4      732-11-6       COP(=S)(OC)SCN1C(=O)C2=CC=CC=C2C1=O           Phosmet   \n",
       "..          ...                                       ...               ...   \n",
       "887  34787-01-4                                       NaN               NaN   \n",
       "891     91-81-6                                       NaN               NaN   \n",
       "893  27293-82-9                                       NaN               NaN   \n",
       "894  11103-57-4                                       NaN               NaN   \n",
       "895    526-36-3                                       NaN               NaN   \n",
       "\n",
       "    PGlabel      CAESARname  \\\n",
       "0         1             NaN   \n",
       "1         1             NaN   \n",
       "2         1             NaN   \n",
       "3         1             NaN   \n",
       "4         1             NaN   \n",
       "..      ...             ...   \n",
       "887     NaN     Ticarcillin   \n",
       "891     NaN  Tripelennamine   \n",
       "893     NaN     Tyropanoate   \n",
       "894     NaN       Vitamin a   \n",
       "895     NaN  Xylometazoline   \n",
       "\n",
       "                                          CAESARsmiles  \\\n",
       "0                                                  NaN   \n",
       "1                                                  NaN   \n",
       "2                                                  NaN   \n",
       "3                                                  NaN   \n",
       "4                                                  NaN   \n",
       "..                                                 ...   \n",
       "887  [H][C@]12SC(C)(C)[C@@H](N1C(=O)[C@@]2([H])NC(=...   \n",
       "891                  CN(C)CCN(CC1=CC=CC=C1)C2=CC=CC=N2   \n",
       "893          CCCC(=O)NC1=C(I)C=C(I)C(CC(CC)C(O)=O)=C1I   \n",
       "894          CC(=C/CO)\\C=C\\C=C(C)\\C=C\\C1=C(C)CCCC1(C)C   \n",
       "895                 CC1=CC(=CC(C)=C1CC2=NCCN2)C(C)(C)C   \n",
       "\n",
       "                            FDA CAESARlabel  \\\n",
       "0                           NaN         NaN   \n",
       "1                           NaN         NaN   \n",
       "2                           NaN         NaN   \n",
       "3                           NaN         NaN   \n",
       "4                           NaN         NaN   \n",
       "..                          ...         ...   \n",
       "887                           B           0   \n",
       "891                           B           0   \n",
       "893                           D           1   \n",
       "894  A (X if used above US RDA)           0   \n",
       "895                           A           0   \n",
       "\n",
       "                                CAESARsmilesElaborated  \\\n",
       "0                                                  NaN   \n",
       "1                                                  NaN   \n",
       "2                                                  NaN   \n",
       "3                                                  NaN   \n",
       "4                                                  NaN   \n",
       "..                                                 ...   \n",
       "887  CC1(C)SC2C(NC(=O)C(C(=O)O)c3ccsc3)C(=O)N2C1C(=O)O   \n",
       "891                        CN(C)CCN(Cc1ccccc1)c1ccccn1   \n",
       "893             CCCC(=O)Nc1c(I)cc(I)c(CC(CC)C(=O)O)c1I   \n",
       "894               CC(C=CC1=C(C)CCCC1(C)C)=CC=CC(C)=CCO   \n",
       "895                    Cc1cc(C(C)(C)C)cc(C)c1CC1=NCCN1   \n",
       "\n",
       "                      PGsmilesElaborated  \n",
       "0                O=P1(N(CCCl)CCCl)NCCCO1  \n",
       "1                  O=P1(NCCCl)OCCCN1CCCl  \n",
       "2    CCOP(=O)(OCC)OC(=CCl)c1ccc(Cl)cc1Cl  \n",
       "3     COP(=S)(OC)Oc1ccc([N+](=O)[O-])cc1  \n",
       "4       COP(=S)(OC)SCN1C(=O)c2ccccc2C1=O  \n",
       "..                                   ...  \n",
       "887                                  NaN  \n",
       "891                                  NaN  \n",
       "893                                  NaN  \n",
       "894                                  NaN  \n",
       "895                                  NaN  \n",
       "\n",
       "[793 rows x 10 columns]"
      ]
     },
     "execution_count": 17,
     "metadata": {},
     "output_type": "execute_result"
    }
   ],
   "source": [
    "merged"
   ]
  },
  {
   "cell_type": "markdown",
   "id": "95a279ff-2731-474b-9e27-2cbc1aa34402",
   "metadata": {},
   "source": [
    "## Finally, working with SMILES and Labels"
   ]
  },
  {
   "cell_type": "code",
   "execution_count": 18,
   "id": "1762cf46-3fe3-4809-9866-62fd769e9497",
   "metadata": {
    "tags": []
   },
   "outputs": [],
   "source": [
    "## let's concatenate PeG and CAESAR SMILES with their relative label\n",
    "pgElab = merged[[\"PGsmilesElaborated\",\"PGlabel\"]].dropna()\n",
    "caesarElab = merged[[\"CAESARsmilesElaborated\",\"CAESARlabel\"]].dropna()\n",
    "caesarElab.columns = pgElab.columns = [\"SMILES\",\"label\"]\n",
    "concatElab = pd.concat([pgElab, caesarElab], axis=0)"
   ]
  },
  {
   "cell_type": "code",
   "execution_count": 19,
   "id": "238563d1-7601-4ed9-9cf1-8d60b3059648",
   "metadata": {
    "tags": []
   },
   "outputs": [],
   "source": [
    "# Fusing SMILES and label in a set\n",
    "concatElab = concatElab.groupby(\"SMILES\",as_index=False).agg(set)"
   ]
  },
  {
   "cell_type": "code",
   "execution_count": 20,
   "id": "20b3b895-83d8-4ba3-b781-fccf8e1aeea2",
   "metadata": {
    "collapsed": true,
    "jupyter": {
     "outputs_hidden": true
    },
    "tags": []
   },
   "outputs": [
    {
     "name": "stderr",
     "output_type": "stream",
     "text": [
      "/tmp/ipykernel_272842/1690436793.py:3: SettingWithCopyWarning: \n",
      "A value is trying to be set on a copy of a slice from a DataFrame.\n",
      "Try using .loc[row_indexer,col_indexer] = value instead\n",
      "\n",
      "See the caveats in the documentation: https://pandas.pydata.org/pandas-docs/stable/user_guide/indexing.html#returning-a-view-versus-a-copy\n",
      "  DEF [\"label\"] = DEF [\"label\"].apply(lambda x: list(x)[0])\n"
     ]
    }
   ],
   "source": [
    "# Only chemicals with concordant labels are stored !\n",
    "DEF = concatElab[(concatElab[\"label\"].apply(len)==1) & (concatElab[\"label\"].apply(lambda x: \"Undefined\" not in x) ) ]\n",
    "DEF [\"label\"] = DEF [\"label\"].apply(lambda x: list(x)[0])"
   ]
  },
  {
   "cell_type": "code",
   "execution_count": 21,
   "id": "e36d8ef9-edf6-4a91-b74b-65b7aa821712",
   "metadata": {
    "tags": []
   },
   "outputs": [
    {
     "data": {
      "text/plain": [
       "label\n",
       "1    609\n",
       "0    124\n",
       "dtype: int64"
      ]
     },
     "execution_count": 21,
     "metadata": {},
     "output_type": "execute_result"
    }
   ],
   "source": [
    "DEF.value_counts(\"label\")"
   ]
  },
  {
   "cell_type": "code",
   "execution_count": 22,
   "id": "6237ca5a-5829-4382-b9b9-6b3b69870393",
   "metadata": {
    "tags": []
   },
   "outputs": [
    {
     "data": {
      "text/plain": [
       "733"
      ]
     },
     "execution_count": 22,
     "metadata": {},
     "output_type": "execute_result"
    }
   ],
   "source": [
    "len(DEF)"
   ]
  },
  {
   "cell_type": "raw",
   "id": "9a75719d-8f81-4dc2-ab68-03b81850b7c5",
   "metadata": {
    "tags": []
   },
   "source": [
    "DEF.to_csv(\"data/curedData.csv\", index = False)"
   ]
  },
  {
   "cell_type": "markdown",
   "id": "535c1e98-3fda-40fc-b338-406270a7de9a",
   "metadata": {},
   "source": [
    "## Internal diversity"
   ]
  },
  {
   "cell_type": "code",
   "execution_count": 1,
   "id": "e461eb48-ba5f-488f-ab98-625c1c1d1082",
   "metadata": {
    "tags": []
   },
   "outputs": [
    {
     "name": "stderr",
     "output_type": "stream",
     "text": [
      "/home/toxi/.local/lib/python3.10/site-packages/moses/metrics/utils.py:24: FutureWarning: The frame.append method is deprecated and will be removed from pandas in a future version. Use pandas.concat instead.\n",
      "  _mcf.append(_pains, sort=True)['smarts'].values]\n"
     ]
    }
   ],
   "source": [
    "# Need moses package to fast computing\n",
    "from moses.metrics import internal_diversity"
   ]
  },
  {
   "cell_type": "code",
   "execution_count": 5,
   "id": "8cd9f438-ca4a-4fdb-b265-dc5a4e895790",
   "metadata": {
    "tags": []
   },
   "outputs": [
    {
     "data": {
      "text/plain": [
       "0.9117522862905257"
      ]
     },
     "execution_count": 5,
     "metadata": {},
     "output_type": "execute_result"
    }
   ],
   "source": [
    "internal_diversity(DEF.SMILES)"
   ]
  }
 ],
 "metadata": {
  "kernelspec": {
   "display_name": "Python 3 (ipykernel)",
   "language": "python",
   "name": "python3"
  },
  "language_info": {
   "codemirror_mode": {
    "name": "ipython",
    "version": 3
   },
   "file_extension": ".py",
   "mimetype": "text/x-python",
   "name": "python",
   "nbconvert_exporter": "python",
   "pygments_lexer": "ipython3",
   "version": "3.10.10"
  }
 },
 "nbformat": 4,
 "nbformat_minor": 5
}
