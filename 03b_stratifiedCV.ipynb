{
 "cells": [
  {
   "cell_type": "code",
   "execution_count": 1,
   "id": "a5289ff2-d418-4708-a628-2b1e88848250",
   "metadata": {
    "tags": []
   },
   "outputs": [],
   "source": [
    "from consensusModel import clsf\n",
    "import pandas as pd, numpy as np\n",
    "from tqdm import tqdm"
   ]
  },
  {
   "cell_type": "code",
   "execution_count": 2,
   "id": "8f0e7a96-aa0e-4365-a2bd-a3661b212886",
   "metadata": {
    "tags": []
   },
   "outputs": [],
   "source": [
    "nCV=100\n",
    "folds = 5"
   ]
  },
  {
   "cell_type": "code",
   "execution_count": 3,
   "id": "671e1b2c-335f-4efc-bfe5-c7480c2210c1",
   "metadata": {
    "tags": []
   },
   "outputs": [],
   "source": [
    "X = pd.read_csv(\"data/trainMatrix.csv\")"
   ]
  },
  {
   "cell_type": "code",
   "execution_count": 4,
   "id": "c28918c3-97b2-4a88-914e-92d2f927e408",
   "metadata": {
    "tags": []
   },
   "outputs": [],
   "source": [
    "Y = pd.read_csv(\"data/curedData.csv\", usecols=[\"label\"]).squeeze()"
   ]
  },
  {
   "cell_type": "markdown",
   "id": "9fa0ef8e-cd99-4941-a464-bd2731d41ef8",
   "metadata": {},
   "source": [
    "## CV folds preparation"
   ]
  },
  {
   "cell_type": "code",
   "execution_count": 5,
   "id": "feb6ad49-ff08-476c-bada-1e5113d20da2",
   "metadata": {
    "tags": []
   },
   "outputs": [],
   "source": [
    "from sklearn.model_selection import StratifiedKFold\n",
    "import random"
   ]
  },
  {
   "cell_type": "code",
   "execution_count": 6,
   "id": "15f8f4e6-8332-44ed-b5c5-eb571530a290",
   "metadata": {
    "tags": []
   },
   "outputs": [],
   "source": [
    "from sklearn import metrics as _metrics"
   ]
  },
  {
   "cell_type": "raw",
   "id": "b997b65b-7ee4-4774-a978-d75b876df2d2",
   "metadata": {
    "tags": []
   },
   "source": [
    "CVfoldsData=pd.DataFrame(columns=pd.MultiIndex.from_product((range(100), range(folds))), \n",
    "                     index=range(len(X)))\n",
    "for n in range(nCV):\n",
    "    skf = StratifiedKFold(n_splits=folds, shuffle=True, random_state=random.seed(n) )\n",
    "    for fold, (train, val) in enumerate(skf.split(X,Y)):\n",
    "        CVfoldsData.loc[train,(n,fold)]=\"train\"\n",
    "        CVfoldsData.loc[val,(n,fold)]=\"val\""
   ]
  },
  {
   "cell_type": "raw",
   "id": "a9746e8e-af38-4761-b152-ee9499275de3",
   "metadata": {
    "tags": []
   },
   "source": [
    "CVfoldsData.to_csv(\"data/CVfoldsData.csv\", index_label=\"molID\")"
   ]
  },
  {
   "cell_type": "markdown",
   "id": "0698c15e-eb03-4219-9224-9dfc789a800d",
   "metadata": {},
   "source": [
    "## stratified Cross Validation"
   ]
  },
  {
   "cell_type": "code",
   "execution_count": 7,
   "id": "56af78bf-3a13-4e45-8911-9708de6563d5",
   "metadata": {
    "tags": []
   },
   "outputs": [],
   "source": [
    "CVfoldsData = pd.read_csv(\"data/CVfoldsData.csv\", index_col=0, header=[0,1])"
   ]
  },
  {
   "cell_type": "raw",
   "id": "8f4984fe-fba4-48cb-a86e-ec930cede359",
   "metadata": {
    "tags": []
   },
   "source": [
    "allScores=pd.DataFrame(columns=pd.MultiIndex.from_product((range(nCV), clsf.keys())),\n",
    "                       index=range(len(Y))\n",
    "                      )\n",
    "for cv in tqdm(range(nCV)):\n",
    "    for fold in range(folds):\n",
    "        series=CVfoldsData[(f\"{cv}\",f\"{fold}\")]\n",
    "        split = series.groupby(series).indices\n",
    "        train, val = split[\"train\"], split[\"val\"]\n",
    "        \n",
    "        Ytrain=Y[train]\n",
    "        Yval = Y[val]\n",
    "\n",
    "        Xtrain=X.loc[train].values\n",
    "        Xval=X.loc[val].values\n",
    "        for cName,cObj in clsf.items():\n",
    "            cObj.fit(Xtrain,Ytrain)\n",
    "            prob=cObj.predict_proba(Xval)[:,1]\n",
    "            \n",
    "            allScores.loc[val,(cv,cName)]=prob"
   ]
  },
  {
   "cell_type": "raw",
   "id": "32bd1379-ec16-4097-9b57-0c7b01a7eac5",
   "metadata": {
    "tags": []
   },
   "source": [
    "allScores.to_csv(\"results/CVscores.csv\", index_label=\"molID\")"
   ]
  },
  {
   "cell_type": "markdown",
   "id": "5881b884-3fc5-4055-a7cc-f37b84d1a668",
   "metadata": {},
   "source": [
    "## Results"
   ]
  },
  {
   "cell_type": "code",
   "execution_count": 8,
   "id": "8bfa2cb2-4295-46c6-ac62-ad7f1637d9b3",
   "metadata": {
    "tags": []
   },
   "outputs": [],
   "source": [
    "from utilsMetric import metrics, getTableFromStats"
   ]
  },
  {
   "cell_type": "code",
   "execution_count": 9,
   "id": "196c7814-219a-4c32-af84-5a2acbe150b6",
   "metadata": {
    "tags": []
   },
   "outputs": [],
   "source": [
    "allScores  = pd.read_csv(\"results/CVscores.csv\", index_col=0, header = [0,1])"
   ]
  },
  {
   "cell_type": "code",
   "execution_count": 10,
   "id": "bb0d9dd1-3198-40f8-bec7-e1c726716643",
   "metadata": {
    "tags": []
   },
   "outputs": [],
   "source": [
    "consensusScores =pd.concat( \n",
    "            [allScores[cv].mean(axis=1) for cv in allScores.columns.levels[0] ], \n",
    "            axis=1, names = range(nCV))"
   ]
  },
  {
   "cell_type": "code",
   "execution_count": 11,
   "id": "9db12e37-4b84-4070-b6dd-067e364e19a7",
   "metadata": {
    "tags": []
   },
   "outputs": [],
   "source": [
    "consensusPreds=consensusScores.applymap(lambda x : 1 if x>=.5 else 0)"
   ]
  },
  {
   "cell_type": "raw",
   "id": "dd955604-401c-4fd0-afaa-f5ff19aade41",
   "metadata": {
    "tags": []
   },
   "source": [
    "consensusPreds.to_csv(\"results/predsConsensusCV_06.csv\")"
   ]
  },
  {
   "cell_type": "raw",
   "id": "ef22c6ec-9d56-4f29-916d-07e4f1f7db65",
   "metadata": {
    "tags": []
   },
   "source": [
    "consensusPreds.to_csv(\"results/predsConsensusCV_05.csv\", index_label=\"molID\")"
   ]
  },
  {
   "cell_type": "code",
   "execution_count": 12,
   "id": "37fa2b0e-4701-45c7-8149-4e99b0b4895a",
   "metadata": {
    "tags": []
   },
   "outputs": [],
   "source": [
    "metricsConsensus = pd.DataFrame(columns=consensusPreds.columns,\n",
    "                        index=[*metrics] \n",
    "                           )\n",
    "\n",
    "for metrName, metrFun in metrics.items():\n",
    "    metricsConsensus.loc[metrName] = [ metrFun(Y, preds, scores)\n",
    "                        for preds,scores in zip(consensusPreds.values.T, consensusScores.values.T)  ]"
   ]
  },
  {
   "cell_type": "code",
   "execution_count": 14,
   "id": "42d708ad-bcea-49b5-801c-bedb123e0fd9",
   "metadata": {
    "tags": []
   },
   "outputs": [
    {
     "data": {
      "text/html": [
       "<div>\n",
       "<style scoped>\n",
       "    .dataframe tbody tr th:only-of-type {\n",
       "        vertical-align: middle;\n",
       "    }\n",
       "\n",
       "    .dataframe tbody tr th {\n",
       "        vertical-align: top;\n",
       "    }\n",
       "\n",
       "    .dataframe thead th {\n",
       "        text-align: right;\n",
       "    }\n",
       "</style>\n",
       "<table border=\"1\" class=\"dataframe\">\n",
       "  <thead>\n",
       "    <tr style=\"text-align: right;\">\n",
       "      <th></th>\n",
       "      <th>median</th>\n",
       "      <th>(1st quartile, 3rd quartile)</th>\n",
       "    </tr>\n",
       "  </thead>\n",
       "  <tbody>\n",
       "    <tr>\n",
       "      <th>spec</th>\n",
       "      <td>0.27419354838709675</td>\n",
       "      <td>(0.2661290322580645, 0.28225806451612906)</td>\n",
       "    </tr>\n",
       "    <tr>\n",
       "      <th>sens</th>\n",
       "      <td>0.9835796387520526</td>\n",
       "      <td>(0.9819376026272578, 0.986863711001642)</td>\n",
       "    </tr>\n",
       "    <tr>\n",
       "      <th>balacc</th>\n",
       "      <td>0.6288865935695747</td>\n",
       "      <td>(0.6237916468033264, 0.635381905821283)</td>\n",
       "    </tr>\n",
       "    <tr>\n",
       "      <th>mcc</th>\n",
       "      <td>0.41013032131496574</td>\n",
       "      <td>(0.3929275391741598, 0.4279124032778319)</td>\n",
       "    </tr>\n",
       "    <tr>\n",
       "      <th>ppv</th>\n",
       "      <td>0.8693759071117562</td>\n",
       "      <td>(0.867705893424795, 0.8712011577424024)</td>\n",
       "    </tr>\n",
       "    <tr>\n",
       "      <th>npv</th>\n",
       "      <td>0.7763888888888889</td>\n",
       "      <td>(0.75, 0.813953488372093)</td>\n",
       "    </tr>\n",
       "    <tr>\n",
       "      <th>PRcurve</th>\n",
       "      <td>0.9099807890559277</td>\n",
       "      <td>(0.9044372890909018, 0.9142253457325145)</td>\n",
       "    </tr>\n",
       "    <tr>\n",
       "      <th>ROCcurve</th>\n",
       "      <td>0.7367941893108745</td>\n",
       "      <td>(0.7273144101912178, 0.7455588881826368)</td>\n",
       "    </tr>\n",
       "  </tbody>\n",
       "</table>\n",
       "</div>"
      ],
      "text/plain": [
       "                       median               (1st quartile, 3rd quartile)\n",
       "spec      0.27419354838709675  (0.2661290322580645, 0.28225806451612906)\n",
       "sens       0.9835796387520526    (0.9819376026272578, 0.986863711001642)\n",
       "balacc     0.6288865935695747    (0.6237916468033264, 0.635381905821283)\n",
       "mcc       0.41013032131496574   (0.3929275391741598, 0.4279124032778319)\n",
       "ppv        0.8693759071117562    (0.867705893424795, 0.8712011577424024)\n",
       "npv        0.7763888888888889                  (0.75, 0.813953488372093)\n",
       "PRcurve    0.9099807890559277   (0.9044372890909018, 0.9142253457325145)\n",
       "ROCcurve   0.7367941893108745   (0.7273144101912178, 0.7455588881826368)"
      ]
     },
     "execution_count": 14,
     "metadata": {},
     "output_type": "execute_result"
    }
   ],
   "source": [
    "getTableFromStats(metricsConsensus.T.astype(float).describe())"
   ]
  },
  {
   "cell_type": "raw",
   "id": "3e0c7db5-3b5f-4d21-bec1-6d6323dffc1a",
   "metadata": {
    "tags": []
   },
   "source": [
    "getTableFromStats(metricsConsensus.T.astype(float).describe()).to_csv(\"results/CVconsensus05.csv\")"
   ]
  },
  {
   "cell_type": "markdown",
   "id": "7ee4f7aa-f8eb-4143-9d7d-122b27a2acb1",
   "metadata": {},
   "source": [
    "## Indipendent classifiers results"
   ]
  },
  {
   "cell_type": "code",
   "execution_count": 16,
   "id": "b010c511-ced5-4616-ae1e-efd1e583beae",
   "metadata": {
    "tags": []
   },
   "outputs": [],
   "source": [
    "indipendentPreds = allScores.applymap(lambda x : 1 if x>=.5 else 0)"
   ]
  },
  {
   "cell_type": "code",
   "execution_count": 17,
   "id": "c02e396b-799b-4211-9253-f6f7064fe968",
   "metadata": {
    "tags": []
   },
   "outputs": [],
   "source": [
    "indipendentMetrics = pd.DataFrame(columns=indipendentPreds.columns,\n",
    "                        index=[*metrics] \n",
    "                           )\n",
    "\n",
    "for metrName, metrFun in metrics.items():\n",
    "    indipendentMetrics.loc[metrName] = [ metrFun(Y,preds,scores)\n",
    "                        for preds, scores in zip(indipendentPreds.values.T,allScores.values.T)  ]"
   ]
  },
  {
   "cell_type": "code",
   "execution_count": 18,
   "id": "3ce48400-6c31-49c3-8d82-0dbb551cf802",
   "metadata": {
    "tags": []
   },
   "outputs": [],
   "source": [
    "indipendentMetricsDict = { \n",
    "    c:  indipendentMetrics.loc[:,(slice(None),c)].T.astype(float).describe()\n",
    "        for c in clsf\n",
    "                            }"
   ]
  },
  {
   "cell_type": "code",
   "execution_count": 19,
   "id": "f61701c7-0a79-44dc-b757-1135eda57c49",
   "metadata": {
    "tags": []
   },
   "outputs": [],
   "source": [
    "results = pd.concat([ getTableFromStats(indipendentMetricsDict[c]) for c in clsf ], axis=1)"
   ]
  },
  {
   "cell_type": "code",
   "execution_count": 20,
   "id": "08ef791b-92c1-4b9c-9e7a-c36b1981c2fb",
   "metadata": {},
   "outputs": [],
   "source": [
    "results.columns = pd.MultiIndex.from_product((clsf, results.iloc[:,:2].columns))"
   ]
  },
  {
   "cell_type": "code",
   "execution_count": 21,
   "id": "ce26faa9-da4e-4abc-841d-bc2ebbb507a6",
   "metadata": {
    "collapsed": true,
    "jupyter": {
     "outputs_hidden": true
    },
    "tags": []
   },
   "outputs": [
    {
     "data": {
      "text/html": [
       "<div>\n",
       "<style scoped>\n",
       "    .dataframe tbody tr th:only-of-type {\n",
       "        vertical-align: middle;\n",
       "    }\n",
       "\n",
       "    .dataframe tbody tr th {\n",
       "        vertical-align: top;\n",
       "    }\n",
       "\n",
       "    .dataframe thead tr th {\n",
       "        text-align: left;\n",
       "    }\n",
       "</style>\n",
       "<table border=\"1\" class=\"dataframe\">\n",
       "  <thead>\n",
       "    <tr>\n",
       "      <th></th>\n",
       "      <th colspan=\"2\" halign=\"left\">RF</th>\n",
       "      <th colspan=\"2\" halign=\"left\">SVM</th>\n",
       "      <th colspan=\"2\" halign=\"left\">XGB</th>\n",
       "      <th colspan=\"2\" halign=\"left\">KNN</th>\n",
       "      <th colspan=\"2\" halign=\"left\">ADA</th>\n",
       "    </tr>\n",
       "    <tr>\n",
       "      <th></th>\n",
       "      <th>median</th>\n",
       "      <th>(1st quartile, 3rd quartile)</th>\n",
       "      <th>median</th>\n",
       "      <th>(1st quartile, 3rd quartile)</th>\n",
       "      <th>median</th>\n",
       "      <th>(1st quartile, 3rd quartile)</th>\n",
       "      <th>median</th>\n",
       "      <th>(1st quartile, 3rd quartile)</th>\n",
       "      <th>median</th>\n",
       "      <th>(1st quartile, 3rd quartile)</th>\n",
       "    </tr>\n",
       "  </thead>\n",
       "  <tbody>\n",
       "    <tr>\n",
       "      <th>spec</th>\n",
       "      <td>0.3064516129032258</td>\n",
       "      <td>(0.29838709677419356, 0.33064516129032256)</td>\n",
       "      <td>0.1532258064516129</td>\n",
       "      <td>(0.1431451612903226, 0.1693548387096774)</td>\n",
       "      <td>0.3548387096774194</td>\n",
       "      <td>(0.3387096774193548, 0.3709677419354839)</td>\n",
       "      <td>0.25806451612903225</td>\n",
       "      <td>(0.24798387096774194, 0.26814516129032256)</td>\n",
       "      <td>0.3225806451612903</td>\n",
       "      <td>(0.31451612903225806, 0.3467741935483871)</td>\n",
       "    </tr>\n",
       "    <tr>\n",
       "      <th>sens</th>\n",
       "      <td>0.9704433497536946</td>\n",
       "      <td>(0.9683908045977012, 0.9753694581280788)</td>\n",
       "      <td>0.9901477832512315</td>\n",
       "      <td>(0.9880952380952381, 0.9917898193760263)</td>\n",
       "      <td>0.9507389162561576</td>\n",
       "      <td>(0.9458128078817734, 0.9556650246305419)</td>\n",
       "      <td>0.9737274220032841</td>\n",
       "      <td>(0.9704433497536946, 0.9770114942528736)</td>\n",
       "      <td>0.9507389162561576</td>\n",
       "      <td>(0.9458128078817734, 0.9556650246305419)</td>\n",
       "    </tr>\n",
       "    <tr>\n",
       "      <th>balacc</th>\n",
       "      <td>0.638857990359659</td>\n",
       "      <td>(0.6327731871391493, 0.6497232374596112)</td>\n",
       "      <td>0.5716867948514223</td>\n",
       "      <td>(0.5656201996927803, 0.5812840987340432)</td>\n",
       "      <td>0.6518949626569204</td>\n",
       "      <td>(0.6430822607129615, 0.6608533290958207)</td>\n",
       "      <td>0.616233645849886</td>\n",
       "      <td>(0.6100892526087187, 0.6214974310079984)</td>\n",
       "      <td>0.6391228348959161</td>\n",
       "      <td>(0.6307984400656814, 0.6487019307166694)</td>\n",
       "    </tr>\n",
       "    <tr>\n",
       "      <th>mcc</th>\n",
       "      <td>0.39391541771807637</td>\n",
       "      <td>(0.374229975481678, 0.42018248039064154)</td>\n",
       "      <td>0.2961433703512155</td>\n",
       "      <td>(0.2754783994523376, 0.32382002743607924)</td>\n",
       "      <td>0.37683305285567426</td>\n",
       "      <td>(0.36085025012204003, 0.39687944242117523)</td>\n",
       "      <td>0.35174196751174386</td>\n",
       "      <td>(0.33351974564392595, 0.3654260242968346)</td>\n",
       "      <td>0.35386666732043737</td>\n",
       "      <td>(0.33205841686919163, 0.3724707715702157)</td>\n",
       "    </tr>\n",
       "    <tr>\n",
       "      <th>ppv</th>\n",
       "      <td>0.8731453352705498</td>\n",
       "      <td>(0.8712322792190144, 0.8764705882352941)</td>\n",
       "      <td>0.8516949152542372</td>\n",
       "      <td>(0.8498243392255145, 0.8545710716932419)</td>\n",
       "      <td>0.878419452887538</td>\n",
       "      <td>(0.8755690440060698, 0.8812785388127854)</td>\n",
       "      <td>0.865979381443299</td>\n",
       "      <td>(0.8637351778656126, 0.8676470588235294)</td>\n",
       "      <td>0.8738738738738738</td>\n",
       "      <td>(0.8713365764642231, 0.8772727272727273)</td>\n",
       "    </tr>\n",
       "    <tr>\n",
       "      <th>npv</th>\n",
       "      <td>0.6851851851851852</td>\n",
       "      <td>(0.6602830188679245, 0.7149595687331536)</td>\n",
       "      <td>0.7593103448275862</td>\n",
       "      <td>(0.7142857142857143, 0.8)</td>\n",
       "      <td>0.5918272794662713</td>\n",
       "      <td>(0.5704633204633205, 0.6178405572755419)</td>\n",
       "      <td>0.673469387755102</td>\n",
       "      <td>(0.6415094339622641, 0.6956521739130435)</td>\n",
       "      <td>0.5771939328277356</td>\n",
       "      <td>(0.5483354673495519, 0.5972222222222222)</td>\n",
       "    </tr>\n",
       "    <tr>\n",
       "      <th>PRcurve</th>\n",
       "      <td>0.9213486620433166</td>\n",
       "      <td>(0.9181802438455485, 0.9248661247799793)</td>\n",
       "      <td>0.884345233622349</td>\n",
       "      <td>(0.8790598331605783, 0.8901862763989615)</td>\n",
       "      <td>0.8936535455892546</td>\n",
       "      <td>(0.8896024503656084, 0.8972964855102302)</td>\n",
       "      <td>0.9235901590094301</td>\n",
       "      <td>(0.9216776148087398, 0.9268784565924392)</td>\n",
       "      <td>0.8974088035619099</td>\n",
       "      <td>(0.8938559784823525, 0.9052630079305527)</td>\n",
       "    </tr>\n",
       "    <tr>\n",
       "      <th>ROCcurve</th>\n",
       "      <td>0.7400451559934318</td>\n",
       "      <td>(0.729663250172149, 0.747747166163462)</td>\n",
       "      <td>0.696299459717146</td>\n",
       "      <td>(0.6830125403887917, 0.7072309179511627)</td>\n",
       "      <td>0.708667699560358</td>\n",
       "      <td>(0.7007058106891255, 0.7203523094443561)</td>\n",
       "      <td>0.6901815509296043</td>\n",
       "      <td>(0.6805478309232481, 0.6978620424810638)</td>\n",
       "      <td>0.6988088616981832</td>\n",
       "      <td>(0.685892724720589, 0.7113608374384237)</td>\n",
       "    </tr>\n",
       "  </tbody>\n",
       "</table>\n",
       "</div>"
      ],
      "text/plain": [
       "                           RF                                              \\\n",
       "                       median                (1st quartile, 3rd quartile)   \n",
       "spec       0.3064516129032258  (0.29838709677419356, 0.33064516129032256)   \n",
       "sens       0.9704433497536946    (0.9683908045977012, 0.9753694581280788)   \n",
       "balacc      0.638857990359659    (0.6327731871391493, 0.6497232374596112)   \n",
       "mcc       0.39391541771807637    (0.374229975481678, 0.42018248039064154)   \n",
       "ppv        0.8731453352705498    (0.8712322792190144, 0.8764705882352941)   \n",
       "npv        0.6851851851851852    (0.6602830188679245, 0.7149595687331536)   \n",
       "PRcurve    0.9213486620433166    (0.9181802438455485, 0.9248661247799793)   \n",
       "ROCcurve   0.7400451559934318      (0.729663250172149, 0.747747166163462)   \n",
       "\n",
       "                         SVM                                             \\\n",
       "                      median               (1st quartile, 3rd quartile)   \n",
       "spec      0.1532258064516129   (0.1431451612903226, 0.1693548387096774)   \n",
       "sens      0.9901477832512315   (0.9880952380952381, 0.9917898193760263)   \n",
       "balacc    0.5716867948514223   (0.5656201996927803, 0.5812840987340432)   \n",
       "mcc       0.2961433703512155  (0.2754783994523376, 0.32382002743607924)   \n",
       "ppv       0.8516949152542372   (0.8498243392255145, 0.8545710716932419)   \n",
       "npv       0.7593103448275862                  (0.7142857142857143, 0.8)   \n",
       "PRcurve    0.884345233622349   (0.8790598331605783, 0.8901862763989615)   \n",
       "ROCcurve   0.696299459717146   (0.6830125403887917, 0.7072309179511627)   \n",
       "\n",
       "                          XGB                                              \\\n",
       "                       median                (1st quartile, 3rd quartile)   \n",
       "spec       0.3548387096774194    (0.3387096774193548, 0.3709677419354839)   \n",
       "sens       0.9507389162561576    (0.9458128078817734, 0.9556650246305419)   \n",
       "balacc     0.6518949626569204    (0.6430822607129615, 0.6608533290958207)   \n",
       "mcc       0.37683305285567426  (0.36085025012204003, 0.39687944242117523)   \n",
       "ppv         0.878419452887538    (0.8755690440060698, 0.8812785388127854)   \n",
       "npv        0.5918272794662713    (0.5704633204633205, 0.6178405572755419)   \n",
       "PRcurve    0.8936535455892546    (0.8896024503656084, 0.8972964855102302)   \n",
       "ROCcurve    0.708667699560358    (0.7007058106891255, 0.7203523094443561)   \n",
       "\n",
       "                          KNN                                              \\\n",
       "                       median                (1st quartile, 3rd quartile)   \n",
       "spec      0.25806451612903225  (0.24798387096774194, 0.26814516129032256)   \n",
       "sens       0.9737274220032841    (0.9704433497536946, 0.9770114942528736)   \n",
       "balacc      0.616233645849886    (0.6100892526087187, 0.6214974310079984)   \n",
       "mcc       0.35174196751174386   (0.33351974564392595, 0.3654260242968346)   \n",
       "ppv         0.865979381443299    (0.8637351778656126, 0.8676470588235294)   \n",
       "npv         0.673469387755102    (0.6415094339622641, 0.6956521739130435)   \n",
       "PRcurve    0.9235901590094301    (0.9216776148087398, 0.9268784565924392)   \n",
       "ROCcurve   0.6901815509296043    (0.6805478309232481, 0.6978620424810638)   \n",
       "\n",
       "                          ADA                                             \n",
       "                       median               (1st quartile, 3rd quartile)  \n",
       "spec       0.3225806451612903  (0.31451612903225806, 0.3467741935483871)  \n",
       "sens       0.9507389162561576   (0.9458128078817734, 0.9556650246305419)  \n",
       "balacc     0.6391228348959161   (0.6307984400656814, 0.6487019307166694)  \n",
       "mcc       0.35386666732043737  (0.33205841686919163, 0.3724707715702157)  \n",
       "ppv        0.8738738738738738   (0.8713365764642231, 0.8772727272727273)  \n",
       "npv        0.5771939328277356   (0.5483354673495519, 0.5972222222222222)  \n",
       "PRcurve    0.8974088035619099   (0.8938559784823525, 0.9052630079305527)  \n",
       "ROCcurve   0.6988088616981832    (0.685892724720589, 0.7113608374384237)  "
      ]
     },
     "execution_count": 21,
     "metadata": {},
     "output_type": "execute_result"
    }
   ],
   "source": [
    "results"
   ]
  },
  {
   "cell_type": "raw",
   "id": "6ca55600-2b07-42ae-a165-ea4beb5a0751",
   "metadata": {
    "tags": []
   },
   "source": [
    "results.to_csv(\"results/CVindependentClsf.csv\")"
   ]
  }
 ],
 "metadata": {
  "kernelspec": {
   "display_name": "Python 3 (ipykernel)",
   "language": "python",
   "name": "python3"
  },
  "language_info": {
   "codemirror_mode": {
    "name": "ipython",
    "version": 3
   },
   "file_extension": ".py",
   "mimetype": "text/x-python",
   "name": "python",
   "nbconvert_exporter": "python",
   "pygments_lexer": "ipython3",
   "version": "3.10.10"
  }
 },
 "nbformat": 4,
 "nbformat_minor": 5
}
