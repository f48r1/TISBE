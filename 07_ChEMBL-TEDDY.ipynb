{
 "cells": [
  {
   "cell_type": "code",
   "execution_count": 1,
   "id": "1213bd6b-3a1e-4fa1-828e-e20ccdb02a4e",
   "metadata": {
    "tags": []
   },
   "outputs": [],
   "source": [
    "import pandas as pd, numpy as np\n",
    "import ast"
   ]
  },
  {
   "cell_type": "code",
   "execution_count": 2,
   "id": "3a3de552-8648-4073-8ff1-fde5b771717e",
   "metadata": {
    "tags": []
   },
   "outputs": [],
   "source": [
    "from dataElaboration import ElabSmiles"
   ]
  },
  {
   "cell_type": "code",
   "execution_count": 3,
   "id": "4cf52967-f96c-49b3-bb85-544b7b5ec44a",
   "metadata": {
    "tags": []
   },
   "outputs": [],
   "source": [
    "# chembl datas filter are exposed in main text of work\n",
    "rawData = pd.read_csv(\"data/chemblRawData.csv\")"
   ]
  },
  {
   "cell_type": "code",
   "execution_count": 4,
   "id": "50f6fed4-877e-41d6-8a7d-947af1df8b44",
   "metadata": {
    "tags": []
   },
   "outputs": [],
   "source": [
    "rawData[\"elab_smiles\"]=rawData[\"canonical_smiles\"].apply(ElabSmiles)"
   ]
  },
  {
   "cell_type": "code",
   "execution_count": 5,
   "id": "baa09323-1f6f-4d58-8e22-b0da9f0c6929",
   "metadata": {
    "tags": []
   },
   "outputs": [],
   "source": [
    "groupWD=rawData.groupby(by=\"elab_smiles\", group_keys=False)[\"withdrawn_flag\"].apply(set)"
   ]
  },
  {
   "cell_type": "code",
   "execution_count": 6,
   "id": "d4949d80-0b0b-4efd-8c51-97188dfe1a60",
   "metadata": {
    "tags": []
   },
   "outputs": [
    {
     "data": {
      "text/plain": [
       "Series([], Name: withdrawn_flag, dtype: object)"
      ]
     },
     "execution_count": 6,
     "metadata": {},
     "output_type": "execute_result"
    }
   ],
   "source": [
    "groupWD[groupWD.apply(lambda x: len(x)>1)]"
   ]
  },
  {
   "cell_type": "code",
   "execution_count": 7,
   "id": "2c291804-d7c8-4992-894c-c25789a0151f",
   "metadata": {
    "tags": []
   },
   "outputs": [],
   "source": [
    "invalidMols=[\"inorganic\",\"mixture\"]\n",
    "maskInvalids = rawData[\"elab_smiles\"].isin(invalidMols)"
   ]
  },
  {
   "cell_type": "code",
   "execution_count": 8,
   "id": "424505f5-46a2-4a79-a027-c5d47ab06a24",
   "metadata": {
    "tags": []
   },
   "outputs": [
    {
     "data": {
      "text/plain": [
       "33"
      ]
     },
     "execution_count": 8,
     "metadata": {},
     "output_type": "execute_result"
    }
   ],
   "source": [
    "sum(maskInvalids)"
   ]
  },
  {
   "cell_type": "code",
   "execution_count": 9,
   "id": "b80dca90-6fe1-4913-aaba-c31f6e35f9e3",
   "metadata": {
    "tags": []
   },
   "outputs": [],
   "source": [
    "rawData.drop(rawData[maskInvalids].index, inplace=True)"
   ]
  },
  {
   "cell_type": "markdown",
   "id": "e0662e8f-e3a9-44ca-a65f-4196a2bb0682",
   "metadata": {},
   "source": [
    "## Prediction unique and unshared SMILES"
   ]
  },
  {
   "cell_type": "code",
   "execution_count": 10,
   "id": "f0f5d4df-b46b-4799-ada2-541aa9bdf35c",
   "metadata": {
    "tags": []
   },
   "outputs": [],
   "source": [
    "dataTrain = pd.read_csv(\"data/curedData.csv\")"
   ]
  },
  {
   "cell_type": "code",
   "execution_count": 11,
   "id": "164ea08a-0e7f-4e9a-ac34-2e12d99bdd5b",
   "metadata": {
    "tags": []
   },
   "outputs": [],
   "source": [
    "uniqueSmiles = pd.Series(rawData[\"elab_smiles\"].unique())\n",
    "\n",
    "# we discard smiles already present in our training set.\n",
    "sharedSmiles = uniqueSmiles.isin( dataTrain.SMILES )\n",
    "uniqueSmiles.drop(uniqueSmiles[sharedSmiles].index, inplace=True)\n",
    "\n",
    "# SMILES to be predicted by TISBE model\n",
    "uniqueSmiles=uniqueSmiles.to_frame(\"elab_smiles\")"
   ]
  },
  {
   "cell_type": "code",
   "execution_count": 12,
   "id": "d9c063f7-e327-4c76-9bb3-ff59d7c7272c",
   "metadata": {
    "collapsed": true,
    "jupyter": {
     "outputs_hidden": true
    },
    "tags": []
   },
   "outputs": [
    {
     "data": {
      "text/html": [
       "<div>\n",
       "<style scoped>\n",
       "    .dataframe tbody tr th:only-of-type {\n",
       "        vertical-align: middle;\n",
       "    }\n",
       "\n",
       "    .dataframe tbody tr th {\n",
       "        vertical-align: top;\n",
       "    }\n",
       "\n",
       "    .dataframe thead th {\n",
       "        text-align: right;\n",
       "    }\n",
       "</style>\n",
       "<table border=\"1\" class=\"dataframe\">\n",
       "  <thead>\n",
       "    <tr style=\"text-align: right;\">\n",
       "      <th></th>\n",
       "      <th>elab_smiles</th>\n",
       "    </tr>\n",
       "  </thead>\n",
       "  <tbody>\n",
       "    <tr>\n",
       "      <th>0</th>\n",
       "      <td>COc1cc2nc(N3CCN(C(=O)c4ccco4)CC3)nc(N)c2cc1OC</td>\n",
       "    </tr>\n",
       "    <tr>\n",
       "      <th>3</th>\n",
       "      <td>CCn1cc(C(=O)O)c(=O)c2ccc(C)nc21</td>\n",
       "    </tr>\n",
       "    <tr>\n",
       "      <th>4</th>\n",
       "      <td>COc1ccc2c(c1)c(CC(=O)O)c(C)n2C(=O)c1ccc(Cl)cc1</td>\n",
       "    </tr>\n",
       "    <tr>\n",
       "      <th>5</th>\n",
       "      <td>CC1(C)C(C(=O)O)N2C(=O)CC2S1(=O)=O</td>\n",
       "    </tr>\n",
       "    <tr>\n",
       "      <th>6</th>\n",
       "      <td>CC1(Cn2ccnn2)C(C(=O)O)N2C(=O)CC2S1(=O)=O</td>\n",
       "    </tr>\n",
       "    <tr>\n",
       "      <th>...</th>\n",
       "      <td>...</td>\n",
       "    </tr>\n",
       "    <tr>\n",
       "      <th>1785</th>\n",
       "      <td>Cc1cn2nc(-c3cc(=O)n4cc(N5CCNC6(CC6)C5)ccc4n3)c...</td>\n",
       "    </tr>\n",
       "    <tr>\n",
       "      <th>1786</th>\n",
       "      <td>CCCCCCC(=O)OCC(COC(=O)CCCCCC)OC(=O)CCCCCC</td>\n",
       "    </tr>\n",
       "    <tr>\n",
       "      <th>1787</th>\n",
       "      <td>NC(=O)OCC(N)Cc1ccccc1</td>\n",
       "    </tr>\n",
       "    <tr>\n",
       "      <th>1788</th>\n",
       "      <td>Cc1ccc(C2OC(CO)C(O)C(O)C2O)cc1Cc1ccc(-c2ccc(F)...</td>\n",
       "    </tr>\n",
       "    <tr>\n",
       "      <th>1789</th>\n",
       "      <td>Cc1ccc(C(=O)OCc2ccc(C(CN)C(=O)Nc3ccc4cnccc4c3)...</td>\n",
       "    </tr>\n",
       "  </tbody>\n",
       "</table>\n",
       "<p>1488 rows × 1 columns</p>\n",
       "</div>"
      ],
      "text/plain": [
       "                                            elab_smiles\n",
       "0         COc1cc2nc(N3CCN(C(=O)c4ccco4)CC3)nc(N)c2cc1OC\n",
       "3                       CCn1cc(C(=O)O)c(=O)c2ccc(C)nc21\n",
       "4        COc1ccc2c(c1)c(CC(=O)O)c(C)n2C(=O)c1ccc(Cl)cc1\n",
       "5                     CC1(C)C(C(=O)O)N2C(=O)CC2S1(=O)=O\n",
       "6              CC1(Cn2ccnn2)C(C(=O)O)N2C(=O)CC2S1(=O)=O\n",
       "...                                                 ...\n",
       "1785  Cc1cn2nc(-c3cc(=O)n4cc(N5CCNC6(CC6)C5)ccc4n3)c...\n",
       "1786          CCCCCCC(=O)OCC(COC(=O)CCCCCC)OC(=O)CCCCCC\n",
       "1787                              NC(=O)OCC(N)Cc1ccccc1\n",
       "1788  Cc1ccc(C2OC(CO)C(O)C(O)C2O)cc1Cc1ccc(-c2ccc(F)...\n",
       "1789  Cc1ccc(C(=O)OCc2ccc(C(CN)C(=O)Nc3ccc4cnccc4c3)...\n",
       "\n",
       "[1488 rows x 1 columns]"
      ]
     },
     "execution_count": 12,
     "metadata": {},
     "output_type": "execute_result"
    }
   ],
   "source": [
    "uniqueSmiles"
   ]
  },
  {
   "cell_type": "code",
   "execution_count": 13,
   "id": "5e4bbb66-1187-4e05-bc76-82fe4e1a1a06",
   "metadata": {
    "tags": []
   },
   "outputs": [],
   "source": [
    "from consensusModel import TISBE as model"
   ]
  },
  {
   "cell_type": "code",
   "execution_count": 14,
   "id": "5ac70783-aa64-434f-87eb-136f1a4a9b3e",
   "metadata": {
    "tags": []
   },
   "outputs": [],
   "source": [
    "uniqueSmiles[\"pred\"] = model.predictFromSmiles(uniqueSmiles[\"elab_smiles\"].values)"
   ]
  },
  {
   "cell_type": "code",
   "execution_count": 15,
   "id": "488d90f5-e7bc-42d3-9c48-2fe54cf2aaef",
   "metadata": {
    "tags": []
   },
   "outputs": [],
   "source": [
    "predictedData = rawData.merge(uniqueSmiles, on=\"elab_smiles\", how=\"right\")"
   ]
  },
  {
   "cell_type": "code",
   "execution_count": 16,
   "id": "7abe9286-80b6-45d4-8b4a-21a8b529c9d3",
   "metadata": {
    "tags": []
   },
   "outputs": [
    {
     "data": {
      "text/plain": [
       "pred\n",
       "1    1364\n",
       "0     124\n",
       "dtype: int64"
      ]
     },
     "execution_count": 16,
     "metadata": {},
     "output_type": "execute_result"
    }
   ],
   "source": [
    "uniqueSmiles.value_counts(\"pred\")"
   ]
  },
  {
   "cell_type": "markdown",
   "id": "57cd9f6c-3789-42be-b2ff-151fca8f741d",
   "metadata": {},
   "source": [
    "## Grouping Chemicals by SMILES"
   ]
  },
  {
   "cell_type": "code",
   "execution_count": 17,
   "id": "cebb2a31-6262-4443-9559-02984bf39b86",
   "metadata": {},
   "outputs": [],
   "source": [
    "import itertools"
   ]
  },
  {
   "cell_type": "code",
   "execution_count": 18,
   "id": "c67ebde0-9662-4d27-bf0d-5215d4b712a4",
   "metadata": {
    "tags": []
   },
   "outputs": [],
   "source": [
    "def groupingStrings (group):\n",
    "    group= list (group)\n",
    "    if len(group)==1:\n",
    "        return group[0]\n",
    "    \n",
    "    return \" | \".join(group)\n",
    "\n",
    "def groupingTuple(group):\n",
    "    group= [ast.literal_eval (x) for x in group]\n",
    "    uniq = set(itertools.chain(*group))\n",
    "    return tuple(uniq)"
   ]
  },
  {
   "cell_type": "code",
   "execution_count": 19,
   "id": "860119ac-7902-48c7-a829-7236db05a551",
   "metadata": {
    "tags": []
   },
   "outputs": [],
   "source": [
    "curedData = predictedData.groupby(\"elab_smiles\", as_index=False).agg(\n",
    "    {\"pred\":\"first\", \"canonical_smiles\":groupingStrings, \"withdrawn_flag\":\"first\",\n",
    "     \"pref_name\":groupingStrings,\"chembl_id\":groupingStrings, \"level5\":groupingTuple}\n",
    ")"
   ]
  },
  {
   "cell_type": "code",
   "execution_count": 20,
   "id": "8943a324-eb6e-4909-ab68-005ca8e2b154",
   "metadata": {
    "collapsed": true,
    "jupyter": {
     "outputs_hidden": true
    },
    "tags": []
   },
   "outputs": [
    {
     "data": {
      "text/html": [
       "<div>\n",
       "<style scoped>\n",
       "    .dataframe tbody tr th:only-of-type {\n",
       "        vertical-align: middle;\n",
       "    }\n",
       "\n",
       "    .dataframe tbody tr th {\n",
       "        vertical-align: top;\n",
       "    }\n",
       "\n",
       "    .dataframe thead th {\n",
       "        text-align: right;\n",
       "    }\n",
       "</style>\n",
       "<table border=\"1\" class=\"dataframe\">\n",
       "  <thead>\n",
       "    <tr style=\"text-align: right;\">\n",
       "      <th></th>\n",
       "      <th>elab_smiles</th>\n",
       "      <th>pred</th>\n",
       "      <th>canonical_smiles</th>\n",
       "      <th>withdrawn_flag</th>\n",
       "      <th>pref_name</th>\n",
       "      <th>chembl_id</th>\n",
       "      <th>level5</th>\n",
       "    </tr>\n",
       "  </thead>\n",
       "  <tbody>\n",
       "    <tr>\n",
       "      <th>0</th>\n",
       "      <td>Brc1c(NC2=NCCN2)ccc2nccnc12</td>\n",
       "      <td>1</td>\n",
       "      <td>Brc1c(NC2=NCCN2)ccc2nccnc12</td>\n",
       "      <td>0</td>\n",
       "      <td>BRIMONIDINE</td>\n",
       "      <td>CHEMBL844</td>\n",
       "      <td>(S01EA05, D11AX21, S01GA07)</td>\n",
       "    </tr>\n",
       "    <tr>\n",
       "      <th>1</th>\n",
       "      <td>C#CC(C)(O)CC</td>\n",
       "      <td>1</td>\n",
       "      <td>C#CC(C)(O)CC</td>\n",
       "      <td>0</td>\n",
       "      <td>MEPARFYNOL</td>\n",
       "      <td>CHEMBL501613</td>\n",
       "      <td>(N05CX03, N05CM15)</td>\n",
       "    </tr>\n",
       "    <tr>\n",
       "      <th>2</th>\n",
       "      <td>C#CC(O)(C=CCl)CC</td>\n",
       "      <td>1</td>\n",
       "      <td>C#CC(O)(/C=C/Cl)CC</td>\n",
       "      <td>0</td>\n",
       "      <td>ETHCHLORVYNOL</td>\n",
       "      <td>CHEMBL591</td>\n",
       "      <td>(N05CM08,)</td>\n",
       "    </tr>\n",
       "    <tr>\n",
       "      <th>3</th>\n",
       "      <td>C#CC1(O)CCC2C3=C(C=CC21CC)C1=C(CC3)CC(=O)CC1</td>\n",
       "      <td>1</td>\n",
       "      <td>C#C[C@]1(O)CC[C@H]2[C@@H]3CCC4=CC(=O)CCC4=C3C=...</td>\n",
       "      <td>0</td>\n",
       "      <td>GESTRINONE</td>\n",
       "      <td>CHEMBL1868702</td>\n",
       "      <td>(G03XA02,)</td>\n",
       "    </tr>\n",
       "    <tr>\n",
       "      <th>4</th>\n",
       "      <td>C#CC1(O)CCC2C3C(C)C=C4CC(=O)CCC4C3CCC21C</td>\n",
       "      <td>1</td>\n",
       "      <td>C#C[C@]1(O)CC[C@H]2[C@H]3[C@H](CC[C@@]21C)C1=C...</td>\n",
       "      <td>0</td>\n",
       "      <td>TIBOLONE</td>\n",
       "      <td>CHEMBL2103774</td>\n",
       "      <td>(G03CX01,)</td>\n",
       "    </tr>\n",
       "    <tr>\n",
       "      <th>...</th>\n",
       "      <td>...</td>\n",
       "      <td>...</td>\n",
       "      <td>...</td>\n",
       "      <td>...</td>\n",
       "      <td>...</td>\n",
       "      <td>...</td>\n",
       "      <td>...</td>\n",
       "    </tr>\n",
       "    <tr>\n",
       "      <th>1483</th>\n",
       "      <td>c1ccc2c(CC3=NCCN3)cccc2c1</td>\n",
       "      <td>1</td>\n",
       "      <td>c1ccc2c(CC3=NCCN3)cccc2c1</td>\n",
       "      <td>0</td>\n",
       "      <td>NAPHAZOLINE</td>\n",
       "      <td>CHEMBL761</td>\n",
       "      <td>(R01AB02, S01GA01, S01GA51, R01AA08)</td>\n",
       "    </tr>\n",
       "    <tr>\n",
       "      <th>1484</th>\n",
       "      <td>c1ccc2c(c1)CCCC2C1=NCCN1</td>\n",
       "      <td>1</td>\n",
       "      <td>c1ccc2c(c1)CCCC2C1=NCCN1</td>\n",
       "      <td>0</td>\n",
       "      <td>TETRAHYDROZOLINE</td>\n",
       "      <td>CHEMBL1266</td>\n",
       "      <td>(S01GA52, R01AB03, S01GA02, R01AA06)</td>\n",
       "    </tr>\n",
       "    <tr>\n",
       "      <th>1485</th>\n",
       "      <td>c1ccc2c(c1)Sc1ccccc1N2CC1CN2CCC1CC2</td>\n",
       "      <td>1</td>\n",
       "      <td>c1ccc2c(c1)Sc1ccccc1N2CC1CN2CCC1CC2</td>\n",
       "      <td>0</td>\n",
       "      <td>MEQUITAZINE</td>\n",
       "      <td>CHEMBL73451</td>\n",
       "      <td>(R06AD07,)</td>\n",
       "    </tr>\n",
       "    <tr>\n",
       "      <th>1486</th>\n",
       "      <td>c1cnc(N2CCN(Cc3ccc4c(c3)OCO4)CC2)nc1</td>\n",
       "      <td>1</td>\n",
       "      <td>c1cnc(N2CCN(Cc3ccc4c(c3)OCO4)CC2)nc1</td>\n",
       "      <td>0</td>\n",
       "      <td>PIRIBEDIL</td>\n",
       "      <td>CHEMBL1371770</td>\n",
       "      <td>(N04BC08,)</td>\n",
       "    </tr>\n",
       "    <tr>\n",
       "      <th>1487</th>\n",
       "      <td>c1cnc2cc3c(cc2n1)C1CNCC3C1</td>\n",
       "      <td>1</td>\n",
       "      <td>c1cnc2cc3c(cc2n1)C1CNCC3C1</td>\n",
       "      <td>0</td>\n",
       "      <td>VARENICLINE</td>\n",
       "      <td>CHEMBL1396</td>\n",
       "      <td>(N07BA03,)</td>\n",
       "    </tr>\n",
       "  </tbody>\n",
       "</table>\n",
       "<p>1488 rows × 7 columns</p>\n",
       "</div>"
      ],
      "text/plain": [
       "                                       elab_smiles  pred  \\\n",
       "0                      Brc1c(NC2=NCCN2)ccc2nccnc12     1   \n",
       "1                                     C#CC(C)(O)CC     1   \n",
       "2                                 C#CC(O)(C=CCl)CC     1   \n",
       "3     C#CC1(O)CCC2C3=C(C=CC21CC)C1=C(CC3)CC(=O)CC1     1   \n",
       "4         C#CC1(O)CCC2C3C(C)C=C4CC(=O)CCC4C3CCC21C     1   \n",
       "...                                            ...   ...   \n",
       "1483                     c1ccc2c(CC3=NCCN3)cccc2c1     1   \n",
       "1484                      c1ccc2c(c1)CCCC2C1=NCCN1     1   \n",
       "1485           c1ccc2c(c1)Sc1ccccc1N2CC1CN2CCC1CC2     1   \n",
       "1486          c1cnc(N2CCN(Cc3ccc4c(c3)OCO4)CC2)nc1     1   \n",
       "1487                    c1cnc2cc3c(cc2n1)C1CNCC3C1     1   \n",
       "\n",
       "                                       canonical_smiles  withdrawn_flag  \\\n",
       "0                           Brc1c(NC2=NCCN2)ccc2nccnc12               0   \n",
       "1                                          C#CC(C)(O)CC               0   \n",
       "2                                    C#CC(O)(/C=C/Cl)CC               0   \n",
       "3     C#C[C@]1(O)CC[C@H]2[C@@H]3CCC4=CC(=O)CCC4=C3C=...               0   \n",
       "4     C#C[C@]1(O)CC[C@H]2[C@H]3[C@H](CC[C@@]21C)C1=C...               0   \n",
       "...                                                 ...             ...   \n",
       "1483                          c1ccc2c(CC3=NCCN3)cccc2c1               0   \n",
       "1484                           c1ccc2c(c1)CCCC2C1=NCCN1               0   \n",
       "1485                c1ccc2c(c1)Sc1ccccc1N2CC1CN2CCC1CC2               0   \n",
       "1486               c1cnc(N2CCN(Cc3ccc4c(c3)OCO4)CC2)nc1               0   \n",
       "1487                         c1cnc2cc3c(cc2n1)C1CNCC3C1               0   \n",
       "\n",
       "             pref_name      chembl_id                                level5  \n",
       "0          BRIMONIDINE      CHEMBL844           (S01EA05, D11AX21, S01GA07)  \n",
       "1           MEPARFYNOL   CHEMBL501613                    (N05CX03, N05CM15)  \n",
       "2        ETHCHLORVYNOL      CHEMBL591                            (N05CM08,)  \n",
       "3           GESTRINONE  CHEMBL1868702                            (G03XA02,)  \n",
       "4             TIBOLONE  CHEMBL2103774                            (G03CX01,)  \n",
       "...                ...            ...                                   ...  \n",
       "1483       NAPHAZOLINE      CHEMBL761  (R01AB02, S01GA01, S01GA51, R01AA08)  \n",
       "1484  TETRAHYDROZOLINE     CHEMBL1266  (S01GA52, R01AB03, S01GA02, R01AA06)  \n",
       "1485       MEQUITAZINE    CHEMBL73451                            (R06AD07,)  \n",
       "1486         PIRIBEDIL  CHEMBL1371770                            (N04BC08,)  \n",
       "1487       VARENICLINE     CHEMBL1396                            (N07BA03,)  \n",
       "\n",
       "[1488 rows x 7 columns]"
      ]
     },
     "execution_count": 20,
     "metadata": {},
     "output_type": "execute_result"
    }
   ],
   "source": [
    "curedData"
   ]
  },
  {
   "cell_type": "markdown",
   "id": "bb027134-fb8a-4231-a5ad-9eb3860343e8",
   "metadata": {},
   "source": [
    "## Last manually discarding process"
   ]
  },
  {
   "cell_type": "code",
   "execution_count": 21,
   "id": "d6864088-c2c0-4f28-b2e5-4ea708a484e8",
   "metadata": {
    "tags": []
   },
   "outputs": [],
   "source": [
    "# These SMILES were manually discarded due to their discordant original chemicals\n",
    "\n",
    "toDiscard=[\"O=C(O)O\",\n",
    "\"CC(=O)O\",\n",
    "\"O=C(O)c1ccccc1O\",\n",
    "\"CC(O)C(=O)O\",]"
   ]
  },
  {
   "cell_type": "code",
   "execution_count": 22,
   "id": "b3f14f5e-39e9-46b3-9088-4a05708c5f18",
   "metadata": {
    "tags": []
   },
   "outputs": [],
   "source": [
    "curedData.drop(curedData[curedData[\"elab_smiles\"].isin(toDiscard)].index,inplace=True)"
   ]
  },
  {
   "cell_type": "raw",
   "id": "8ecd3349-2a27-4aa5-ae08-8a7704f3330e",
   "metadata": {
    "tags": []
   },
   "source": [
    "curedData.to_csv(\"results/curedChembl.csv\",index=False)"
   ]
  },
  {
   "cell_type": "markdown",
   "id": "937132df-b6f6-435c-8a3f-8b5ec39addbe",
   "metadata": {},
   "source": [
    "## Analisys"
   ]
  },
  {
   "cell_type": "code",
   "execution_count": 37,
   "id": "306965c8-e7fb-4ba1-84a2-4befd6c5dd48",
   "metadata": {
    "tags": []
   },
   "outputs": [],
   "source": [
    "curedData=pd.read_csv(\"results/curedChembl.csv\", converters={\"level5\":ast.literal_eval})"
   ]
  },
  {
   "cell_type": "code",
   "execution_count": 39,
   "id": "5c3bfff1-fd6b-4ecd-bc27-a732f7ea5cb5",
   "metadata": {
    "tags": []
   },
   "outputs": [
    {
     "data": {
      "text/plain": [
       "withdrawn_flag\n",
       "0    1386\n",
       "1      98\n",
       "dtype: int64"
      ]
     },
     "execution_count": 39,
     "metadata": {},
     "output_type": "execute_result"
    }
   ],
   "source": [
    "curedData.value_counts(\"withdrawn_flag\")"
   ]
  },
  {
   "cell_type": "code",
   "execution_count": 40,
   "id": "4d281f86-d936-49f2-a4d5-da1b6f778b3e",
   "metadata": {
    "tags": []
   },
   "outputs": [],
   "source": [
    "curedData[\"level1\"]=curedData[\"level5\"].apply(lambda x: tuple(set(y[0] for y in x)) )"
   ]
  },
  {
   "cell_type": "code",
   "execution_count": 41,
   "id": "5103947d-d472-4984-b444-c50ffabe8d9e",
   "metadata": {
    "tags": []
   },
   "outputs": [],
   "source": [
    "maskATC=( curedData[\"level1\"].apply(lambda tpl: any(  c in tpl  for c in \"AJCDNR\" )) ) & \\\n",
    "        (curedData[\"withdrawn_flag\"]==0)"
   ]
  },
  {
   "cell_type": "code",
   "execution_count": 42,
   "id": "44cbd16f-1aff-41b0-8edc-ab68702390f1",
   "metadata": {
    "collapsed": true,
    "jupyter": {
     "outputs_hidden": true
    },
    "tags": []
   },
   "outputs": [
    {
     "data": {
      "text/html": [
       "<div>\n",
       "<style scoped>\n",
       "    .dataframe tbody tr th:only-of-type {\n",
       "        vertical-align: middle;\n",
       "    }\n",
       "\n",
       "    .dataframe tbody tr th {\n",
       "        vertical-align: top;\n",
       "    }\n",
       "\n",
       "    .dataframe thead th {\n",
       "        text-align: right;\n",
       "    }\n",
       "</style>\n",
       "<table border=\"1\" class=\"dataframe\">\n",
       "  <thead>\n",
       "    <tr style=\"text-align: right;\">\n",
       "      <th></th>\n",
       "      <th>elab_smiles</th>\n",
       "      <th>pred</th>\n",
       "      <th>canonical_smiles</th>\n",
       "      <th>withdrawn_flag</th>\n",
       "      <th>pref_name</th>\n",
       "      <th>chembl_id</th>\n",
       "      <th>level5</th>\n",
       "      <th>level1</th>\n",
       "    </tr>\n",
       "  </thead>\n",
       "  <tbody>\n",
       "    <tr>\n",
       "      <th>0</th>\n",
       "      <td>Brc1c(NC2=NCCN2)ccc2nccnc12</td>\n",
       "      <td>1</td>\n",
       "      <td>Brc1c(NC2=NCCN2)ccc2nccnc12</td>\n",
       "      <td>0</td>\n",
       "      <td>BRIMONIDINE</td>\n",
       "      <td>CHEMBL844</td>\n",
       "      <td>(S01EA05, D11AX21, S01GA07)</td>\n",
       "      <td>(D, S)</td>\n",
       "    </tr>\n",
       "    <tr>\n",
       "      <th>1</th>\n",
       "      <td>C#CC(C)(O)CC</td>\n",
       "      <td>1</td>\n",
       "      <td>C#CC(C)(O)CC</td>\n",
       "      <td>0</td>\n",
       "      <td>MEPARFYNOL</td>\n",
       "      <td>CHEMBL501613</td>\n",
       "      <td>(N05CX03, N05CM15)</td>\n",
       "      <td>(N,)</td>\n",
       "    </tr>\n",
       "    <tr>\n",
       "      <th>2</th>\n",
       "      <td>C#CC(O)(C=CCl)CC</td>\n",
       "      <td>1</td>\n",
       "      <td>C#CC(O)(/C=C/Cl)CC</td>\n",
       "      <td>0</td>\n",
       "      <td>ETHCHLORVYNOL</td>\n",
       "      <td>CHEMBL591</td>\n",
       "      <td>(N05CM08,)</td>\n",
       "      <td>(N,)</td>\n",
       "    </tr>\n",
       "    <tr>\n",
       "      <th>8</th>\n",
       "      <td>C#CCN(C)C(C)Cc1ccccc1</td>\n",
       "      <td>1</td>\n",
       "      <td>C#CCN(C)[C@H](C)Cc1ccccc1</td>\n",
       "      <td>0</td>\n",
       "      <td>SELEGILINE</td>\n",
       "      <td>CHEMBL972</td>\n",
       "      <td>(N04BD01,)</td>\n",
       "      <td>(N,)</td>\n",
       "    </tr>\n",
       "    <tr>\n",
       "      <th>9</th>\n",
       "      <td>C#CCN(C)Cc1ccccc1</td>\n",
       "      <td>1</td>\n",
       "      <td>C#CCN(C)Cc1ccccc1</td>\n",
       "      <td>0</td>\n",
       "      <td>PARGYLINE</td>\n",
       "      <td>CHEMBL673</td>\n",
       "      <td>(C02KC01,)</td>\n",
       "      <td>(C,)</td>\n",
       "    </tr>\n",
       "    <tr>\n",
       "      <th>...</th>\n",
       "      <td>...</td>\n",
       "      <td>...</td>\n",
       "      <td>...</td>\n",
       "      <td>...</td>\n",
       "      <td>...</td>\n",
       "      <td>...</td>\n",
       "      <td>...</td>\n",
       "      <td>...</td>\n",
       "    </tr>\n",
       "    <tr>\n",
       "      <th>1479</th>\n",
       "      <td>c1ccc2c(CC3=NCCN3)cccc2c1</td>\n",
       "      <td>1</td>\n",
       "      <td>c1ccc2c(CC3=NCCN3)cccc2c1</td>\n",
       "      <td>0</td>\n",
       "      <td>NAPHAZOLINE</td>\n",
       "      <td>CHEMBL761</td>\n",
       "      <td>(R01AB02, S01GA01, S01GA51, R01AA08)</td>\n",
       "      <td>(S, R)</td>\n",
       "    </tr>\n",
       "    <tr>\n",
       "      <th>1480</th>\n",
       "      <td>c1ccc2c(c1)CCCC2C1=NCCN1</td>\n",
       "      <td>1</td>\n",
       "      <td>c1ccc2c(c1)CCCC2C1=NCCN1</td>\n",
       "      <td>0</td>\n",
       "      <td>TETRAHYDROZOLINE</td>\n",
       "      <td>CHEMBL1266</td>\n",
       "      <td>(S01GA52, R01AB03, S01GA02, R01AA06)</td>\n",
       "      <td>(S, R)</td>\n",
       "    </tr>\n",
       "    <tr>\n",
       "      <th>1481</th>\n",
       "      <td>c1ccc2c(c1)Sc1ccccc1N2CC1CN2CCC1CC2</td>\n",
       "      <td>1</td>\n",
       "      <td>c1ccc2c(c1)Sc1ccccc1N2CC1CN2CCC1CC2</td>\n",
       "      <td>0</td>\n",
       "      <td>MEQUITAZINE</td>\n",
       "      <td>CHEMBL73451</td>\n",
       "      <td>(R06AD07,)</td>\n",
       "      <td>(R,)</td>\n",
       "    </tr>\n",
       "    <tr>\n",
       "      <th>1482</th>\n",
       "      <td>c1cnc(N2CCN(Cc3ccc4c(c3)OCO4)CC2)nc1</td>\n",
       "      <td>1</td>\n",
       "      <td>c1cnc(N2CCN(Cc3ccc4c(c3)OCO4)CC2)nc1</td>\n",
       "      <td>0</td>\n",
       "      <td>PIRIBEDIL</td>\n",
       "      <td>CHEMBL1371770</td>\n",
       "      <td>(N04BC08,)</td>\n",
       "      <td>(N,)</td>\n",
       "    </tr>\n",
       "    <tr>\n",
       "      <th>1483</th>\n",
       "      <td>c1cnc2cc3c(cc2n1)C1CNCC3C1</td>\n",
       "      <td>1</td>\n",
       "      <td>c1cnc2cc3c(cc2n1)C1CNCC3C1</td>\n",
       "      <td>0</td>\n",
       "      <td>VARENICLINE</td>\n",
       "      <td>CHEMBL1396</td>\n",
       "      <td>(N07BA03,)</td>\n",
       "      <td>(N,)</td>\n",
       "    </tr>\n",
       "  </tbody>\n",
       "</table>\n",
       "<p>943 rows × 8 columns</p>\n",
       "</div>"
      ],
      "text/plain": [
       "                               elab_smiles  pred  \\\n",
       "0              Brc1c(NC2=NCCN2)ccc2nccnc12     1   \n",
       "1                             C#CC(C)(O)CC     1   \n",
       "2                         C#CC(O)(C=CCl)CC     1   \n",
       "8                    C#CCN(C)C(C)Cc1ccccc1     1   \n",
       "9                        C#CCN(C)Cc1ccccc1     1   \n",
       "...                                    ...   ...   \n",
       "1479             c1ccc2c(CC3=NCCN3)cccc2c1     1   \n",
       "1480              c1ccc2c(c1)CCCC2C1=NCCN1     1   \n",
       "1481   c1ccc2c(c1)Sc1ccccc1N2CC1CN2CCC1CC2     1   \n",
       "1482  c1cnc(N2CCN(Cc3ccc4c(c3)OCO4)CC2)nc1     1   \n",
       "1483            c1cnc2cc3c(cc2n1)C1CNCC3C1     1   \n",
       "\n",
       "                          canonical_smiles  withdrawn_flag         pref_name  \\\n",
       "0              Brc1c(NC2=NCCN2)ccc2nccnc12               0       BRIMONIDINE   \n",
       "1                             C#CC(C)(O)CC               0        MEPARFYNOL   \n",
       "2                       C#CC(O)(/C=C/Cl)CC               0     ETHCHLORVYNOL   \n",
       "8                C#CCN(C)[C@H](C)Cc1ccccc1               0        SELEGILINE   \n",
       "9                        C#CCN(C)Cc1ccccc1               0         PARGYLINE   \n",
       "...                                    ...             ...               ...   \n",
       "1479             c1ccc2c(CC3=NCCN3)cccc2c1               0       NAPHAZOLINE   \n",
       "1480              c1ccc2c(c1)CCCC2C1=NCCN1               0  TETRAHYDROZOLINE   \n",
       "1481   c1ccc2c(c1)Sc1ccccc1N2CC1CN2CCC1CC2               0       MEQUITAZINE   \n",
       "1482  c1cnc(N2CCN(Cc3ccc4c(c3)OCO4)CC2)nc1               0         PIRIBEDIL   \n",
       "1483            c1cnc2cc3c(cc2n1)C1CNCC3C1               0       VARENICLINE   \n",
       "\n",
       "          chembl_id                                level5  level1  \n",
       "0         CHEMBL844           (S01EA05, D11AX21, S01GA07)  (D, S)  \n",
       "1      CHEMBL501613                    (N05CX03, N05CM15)    (N,)  \n",
       "2         CHEMBL591                            (N05CM08,)    (N,)  \n",
       "8         CHEMBL972                            (N04BD01,)    (N,)  \n",
       "9         CHEMBL673                            (C02KC01,)    (C,)  \n",
       "...             ...                                   ...     ...  \n",
       "1479      CHEMBL761  (R01AB02, S01GA01, S01GA51, R01AA08)  (S, R)  \n",
       "1480     CHEMBL1266  (S01GA52, R01AB03, S01GA02, R01AA06)  (S, R)  \n",
       "1481    CHEMBL73451                            (R06AD07,)    (R,)  \n",
       "1482  CHEMBL1371770                            (N04BC08,)    (N,)  \n",
       "1483     CHEMBL1396                            (N07BA03,)    (N,)  \n",
       "\n",
       "[943 rows x 8 columns]"
      ]
     },
     "execution_count": 42,
     "metadata": {},
     "output_type": "execute_result"
    }
   ],
   "source": [
    "curedData[maskATC]"
   ]
  },
  {
   "cell_type": "code",
   "execution_count": 43,
   "id": "a3d09af0-37f0-4063-b566-04edceb12012",
   "metadata": {
    "tags": []
   },
   "outputs": [],
   "source": [
    "from collections import Counter"
   ]
  },
  {
   "cell_type": "code",
   "execution_count": 44,
   "id": "3c7c3740-23e9-4b61-bf6d-99d3b9fdbded",
   "metadata": {
    "tags": []
   },
   "outputs": [],
   "source": [
    "counts=Counter(itertools.chain(*curedData[maskATC][\"level1\"]))"
   ]
  },
  {
   "cell_type": "code",
   "execution_count": 45,
   "id": "69702f95-77af-4cb9-9bdf-88afbb9b76c4",
   "metadata": {
    "tags": []
   },
   "outputs": [],
   "source": [
    "counts=Counter(itertools.chain(*curedData[maskATC & (curedData[\"pred\"]==1)][\"level1\"]))"
   ]
  },
  {
   "cell_type": "code",
   "execution_count": 46,
   "id": "02a903b9-9b32-4201-aaba-aedcac58dbcb",
   "metadata": {
    "collapsed": true,
    "jupyter": {
     "outputs_hidden": true
    },
    "tags": []
   },
   "outputs": [
    {
     "data": {
      "text/plain": [
       "Counter({'N': 244,\n",
       "         'C': 177,\n",
       "         'A': 167,\n",
       "         'D': 139,\n",
       "         'J': 126,\n",
       "         'R': 98,\n",
       "         'S': 77,\n",
       "         'G': 26,\n",
       "         'H': 19,\n",
       "         'V': 8,\n",
       "         'B': 8,\n",
       "         'M': 5,\n",
       "         'P': 4,\n",
       "         'L': 1})"
      ]
     },
     "execution_count": 46,
     "metadata": {},
     "output_type": "execute_result"
    }
   ],
   "source": [
    "counts"
   ]
  },
  {
   "cell_type": "code",
   "execution_count": 47,
   "id": "6e97626b-21b8-4714-b1a6-adf8aaea0a7d",
   "metadata": {
    "tags": []
   },
   "outputs": [],
   "source": [
    "countsTox=Counter(itertools.chain(*curedData[maskATC & (curedData[\"pred\"]==1)][\"level1\"]))"
   ]
  },
  {
   "cell_type": "code",
   "execution_count": 48,
   "id": "af37c142-8426-41cf-a067-7c7fb2a425bc",
   "metadata": {
    "collapsed": true,
    "jupyter": {
     "outputs_hidden": true
    },
    "tags": []
   },
   "outputs": [
    {
     "data": {
      "text/plain": [
       "Counter({'N': 244,\n",
       "         'C': 177,\n",
       "         'A': 167,\n",
       "         'D': 139,\n",
       "         'J': 126,\n",
       "         'R': 98,\n",
       "         'S': 77,\n",
       "         'G': 26,\n",
       "         'H': 19,\n",
       "         'V': 8,\n",
       "         'B': 8,\n",
       "         'M': 5,\n",
       "         'P': 4,\n",
       "         'L': 1})"
      ]
     },
     "execution_count": 48,
     "metadata": {},
     "output_type": "execute_result"
    }
   ],
   "source": [
    "countsTox"
   ]
  },
  {
   "cell_type": "code",
   "execution_count": 49,
   "id": "11713def-172e-4099-98fc-72ec3c1dedf2",
   "metadata": {
    "tags": []
   },
   "outputs": [],
   "source": [
    "countsNoTox=Counter(itertools.chain(*curedData[maskATC & (curedData[\"pred\"]==0)][\"level1\"]))"
   ]
  },
  {
   "cell_type": "code",
   "execution_count": 50,
   "id": "686d5a5b-45da-4aa2-809c-fd72c30d1908",
   "metadata": {
    "collapsed": true,
    "jupyter": {
     "outputs_hidden": true
    },
    "tags": []
   },
   "outputs": [
    {
     "data": {
      "text/plain": [
       "Counter({'J': 46,\n",
       "         'R': 21,\n",
       "         'N': 13,\n",
       "         'C': 13,\n",
       "         'A': 13,\n",
       "         'D': 5,\n",
       "         'S': 3,\n",
       "         'P': 1,\n",
       "         'G': 1,\n",
       "         'M': 1,\n",
       "         'H': 1})"
      ]
     },
     "execution_count": 50,
     "metadata": {},
     "output_type": "execute_result"
    }
   ],
   "source": [
    "countsNoTox"
   ]
  },
  {
   "cell_type": "code",
   "execution_count": 56,
   "id": "ef5daf83-5b0b-4679-b9f5-de51ce03520a",
   "metadata": {
    "tags": []
   },
   "outputs": [],
   "source": [
    "countsPreds = pd.concat([pd.DataFrame([countsNoTox]),\n",
    "                        pd.DataFrame([countsTox]) ], axis=0, ignore_index=True)"
   ]
  },
  {
   "cell_type": "code",
   "execution_count": 60,
   "id": "94cbd484-4b33-4946-afaa-7cfc1916833e",
   "metadata": {
    "collapsed": true,
    "jupyter": {
     "outputs_hidden": true
    },
    "tags": []
   },
   "outputs": [
    {
     "data": {
      "text/html": [
       "<div>\n",
       "<style scoped>\n",
       "    .dataframe tbody tr th:only-of-type {\n",
       "        vertical-align: middle;\n",
       "    }\n",
       "\n",
       "    .dataframe tbody tr th {\n",
       "        vertical-align: top;\n",
       "    }\n",
       "\n",
       "    .dataframe thead th {\n",
       "        text-align: right;\n",
       "    }\n",
       "</style>\n",
       "<table border=\"1\" class=\"dataframe\">\n",
       "  <thead>\n",
       "    <tr style=\"text-align: right;\">\n",
       "      <th></th>\n",
       "      <th>0</th>\n",
       "      <th>1</th>\n",
       "    </tr>\n",
       "  </thead>\n",
       "  <tbody>\n",
       "    <tr>\n",
       "      <th>J</th>\n",
       "      <td>46.0</td>\n",
       "      <td>126.0</td>\n",
       "    </tr>\n",
       "    <tr>\n",
       "      <th>N</th>\n",
       "      <td>13.0</td>\n",
       "      <td>244.0</td>\n",
       "    </tr>\n",
       "    <tr>\n",
       "      <th>R</th>\n",
       "      <td>21.0</td>\n",
       "      <td>98.0</td>\n",
       "    </tr>\n",
       "    <tr>\n",
       "      <th>C</th>\n",
       "      <td>13.0</td>\n",
       "      <td>177.0</td>\n",
       "    </tr>\n",
       "    <tr>\n",
       "      <th>A</th>\n",
       "      <td>13.0</td>\n",
       "      <td>167.0</td>\n",
       "    </tr>\n",
       "    <tr>\n",
       "      <th>D</th>\n",
       "      <td>5.0</td>\n",
       "      <td>139.0</td>\n",
       "    </tr>\n",
       "    <tr>\n",
       "      <th>P</th>\n",
       "      <td>1.0</td>\n",
       "      <td>4.0</td>\n",
       "    </tr>\n",
       "    <tr>\n",
       "      <th>S</th>\n",
       "      <td>3.0</td>\n",
       "      <td>77.0</td>\n",
       "    </tr>\n",
       "    <tr>\n",
       "      <th>G</th>\n",
       "      <td>1.0</td>\n",
       "      <td>26.0</td>\n",
       "    </tr>\n",
       "    <tr>\n",
       "      <th>M</th>\n",
       "      <td>1.0</td>\n",
       "      <td>5.0</td>\n",
       "    </tr>\n",
       "    <tr>\n",
       "      <th>H</th>\n",
       "      <td>1.0</td>\n",
       "      <td>19.0</td>\n",
       "    </tr>\n",
       "    <tr>\n",
       "      <th>L</th>\n",
       "      <td>NaN</td>\n",
       "      <td>1.0</td>\n",
       "    </tr>\n",
       "    <tr>\n",
       "      <th>V</th>\n",
       "      <td>NaN</td>\n",
       "      <td>8.0</td>\n",
       "    </tr>\n",
       "    <tr>\n",
       "      <th>B</th>\n",
       "      <td>NaN</td>\n",
       "      <td>8.0</td>\n",
       "    </tr>\n",
       "  </tbody>\n",
       "</table>\n",
       "</div>"
      ],
      "text/plain": [
       "      0      1\n",
       "J  46.0  126.0\n",
       "N  13.0  244.0\n",
       "R  21.0   98.0\n",
       "C  13.0  177.0\n",
       "A  13.0  167.0\n",
       "D   5.0  139.0\n",
       "P   1.0    4.0\n",
       "S   3.0   77.0\n",
       "G   1.0   26.0\n",
       "M   1.0    5.0\n",
       "H   1.0   19.0\n",
       "L   NaN    1.0\n",
       "V   NaN    8.0\n",
       "B   NaN    8.0"
      ]
     },
     "execution_count": 60,
     "metadata": {},
     "output_type": "execute_result"
    }
   ],
   "source": [
    "countsPreds.T"
   ]
  },
  {
   "cell_type": "raw",
   "id": "3691cee8-ee98-4889-b92f-c8c2a8ae0028",
   "metadata": {
    "tags": []
   },
   "source": [
    "countsPreds.T.to_csv(\"results/ChEMBLpredictions.csv\")"
   ]
  },
  {
   "cell_type": "markdown",
   "id": "361fe46a-75da-463d-b61b-dc31c4f63702",
   "metadata": {},
   "source": [
    "## TEDDY Screening"
   ]
  },
  {
   "cell_type": "code",
   "execution_count": 67,
   "id": "18439a66-2e97-496f-b923-53ed540a75ab",
   "metadata": {
    "tags": []
   },
   "outputs": [],
   "source": [
    "teddy = pd.read_csv(\"data/teddy.csv\")"
   ]
  },
  {
   "cell_type": "code",
   "execution_count": 73,
   "id": "9ac2cc92-ca14-4267-8895-68f6a018f8f8",
   "metadata": {
    "tags": []
   },
   "outputs": [],
   "source": [
    "teddy[\"prediction\"]=model.predictFromSmiles(teddy[\"elabSMILES\"].values)"
   ]
  },
  {
   "cell_type": "code",
   "execution_count": 74,
   "id": "c20ffc84-3545-4182-a505-e97c5a6e60fb",
   "metadata": {
    "collapsed": true,
    "jupyter": {
     "outputs_hidden": true
    },
    "tags": []
   },
   "outputs": [
    {
     "data": {
      "text/html": [
       "<div>\n",
       "<style scoped>\n",
       "    .dataframe tbody tr th:only-of-type {\n",
       "        vertical-align: middle;\n",
       "    }\n",
       "\n",
       "    .dataframe tbody tr th {\n",
       "        vertical-align: top;\n",
       "    }\n",
       "\n",
       "    .dataframe thead th {\n",
       "        text-align: right;\n",
       "    }\n",
       "</style>\n",
       "<table border=\"1\" class=\"dataframe\">\n",
       "  <thead>\n",
       "    <tr style=\"text-align: right;\">\n",
       "      <th></th>\n",
       "      <th>MedProduct</th>\n",
       "      <th>ActiveSub</th>\n",
       "      <th>firstPediatricDate</th>\n",
       "      <th>Orphan</th>\n",
       "      <th>TherapeuticArea</th>\n",
       "      <th>ATC</th>\n",
       "      <th>MainCondition</th>\n",
       "      <th>MinimumApprovedAge</th>\n",
       "      <th>PediatricTherapeuticIndications</th>\n",
       "      <th>elabSMILES</th>\n",
       "      <th>prediction</th>\n",
       "    </tr>\n",
       "  </thead>\n",
       "  <tbody>\n",
       "    <tr>\n",
       "      <th>8</th>\n",
       "      <td>Cayston</td>\n",
       "      <td>aztreonam lysine</td>\n",
       "      <td>2012</td>\n",
       "      <td>yes</td>\n",
       "      <td>Infectious diseases</td>\n",
       "      <td>J- Antiinfectives</td>\n",
       "      <td>Cystic Fibrosis Respiratory Tract Infections</td>\n",
       "      <td>&gt; 6 years</td>\n",
       "      <td>Cayston is indicated for the suppressive thera...</td>\n",
       "      <td>CC1C(=NC(=O)C(NOC(C)(C)C(=O)O)c2csc(N)n2)C(=O)...</td>\n",
       "      <td>0</td>\n",
       "    </tr>\n",
       "    <tr>\n",
       "      <th>37</th>\n",
       "      <td>Orkambi</td>\n",
       "      <td>Lumacaftor, ivacaftor</td>\n",
       "      <td>2015</td>\n",
       "      <td>no</td>\n",
       "      <td>Respiratory</td>\n",
       "      <td>R- Respiratory</td>\n",
       "      <td>Cystic Fibrosis</td>\n",
       "      <td>&gt; 2 years</td>\n",
       "      <td>Orkambi tablesis indicated for the treatment o...</td>\n",
       "      <td>CC(C)(C)c1cc(C(C)(C)C)c(NC(=O)c2c[nH]c3ccccc3c...</td>\n",
       "      <td>0</td>\n",
       "    </tr>\n",
       "    <tr>\n",
       "      <th>52</th>\n",
       "      <td>Sirturo</td>\n",
       "      <td>bedaquiline fumarate</td>\n",
       "      <td>2019</td>\n",
       "      <td>yes</td>\n",
       "      <td>Infectious diseases</td>\n",
       "      <td>J- Antiinfectives</td>\n",
       "      <td>Tuberculosis, Multidrug-Resistant</td>\n",
       "      <td>&gt; 12 years  weighing at least 30 kg</td>\n",
       "      <td>SIRTURO is indicated for use as part of an app...</td>\n",
       "      <td>COc1nc2ccc(Br)cc2cc1C(c1ccccc1)C(O)(CCN(C)C)c1...</td>\n",
       "      <td>0</td>\n",
       "    </tr>\n",
       "    <tr>\n",
       "      <th>56</th>\n",
       "      <td>Sprycel</td>\n",
       "      <td>dasatinib</td>\n",
       "      <td>2018</td>\n",
       "      <td>yes</td>\n",
       "      <td>Oncology</td>\n",
       "      <td>L- Antineoplastic and immunomodulating</td>\n",
       "      <td>Leukemia, Myelogenous, Chronic, BCR-ABL Positi...</td>\n",
       "      <td>&gt; 1 year</td>\n",
       "      <td>SPRYCEL is indicated for the treatment of paed...</td>\n",
       "      <td>Cc1nc(Nc2ncc(C(=O)Nc3c(C)cccc3Cl)s2)cc(N2CCN(C...</td>\n",
       "      <td>0</td>\n",
       "    </tr>\n",
       "    <tr>\n",
       "      <th>80</th>\n",
       "      <td>Zavicefta</td>\n",
       "      <td>avibactam sodium, ceftazidime pentahydrate</td>\n",
       "      <td>2020</td>\n",
       "      <td>no</td>\n",
       "      <td>Infectious diseases</td>\n",
       "      <td>J- Antiinfectives</td>\n",
       "      <td>Pneumonia, Bacterial Soft Tissue Infections Pn...</td>\n",
       "      <td>&gt; 3 months</td>\n",
       "      <td>Zavicefta is indicated in adults and paediatri...</td>\n",
       "      <td>CC(C)(ON=C(C(=O)NC1C(=O)N2C(C(=O)[O-])=C(C[n+]...</td>\n",
       "      <td>0</td>\n",
       "    </tr>\n",
       "    <tr>\n",
       "      <th>82</th>\n",
       "      <td>Zinforo</td>\n",
       "      <td>Ceftaroline fosamil</td>\n",
       "      <td>2016</td>\n",
       "      <td>no</td>\n",
       "      <td>Infectious diseases</td>\n",
       "      <td>J- Antiinfectives</td>\n",
       "      <td>Community-Acquired Infections Pneumonia Skin D...</td>\n",
       "      <td>all ages</td>\n",
       "      <td>Zinforo is indicated for the treatment of the ...</td>\n",
       "      <td>CCON=C(C(=O)NC1C(=O)N2C(C(=O)O)=C(Sc3nc(-c4cc[...</td>\n",
       "      <td>0</td>\n",
       "    </tr>\n",
       "  </tbody>\n",
       "</table>\n",
       "</div>"
      ],
      "text/plain": [
       "   MedProduct                                   ActiveSub  firstPediatricDate  \\\n",
       "8     Cayston                            aztreonam lysine                2012   \n",
       "37    Orkambi                       Lumacaftor, ivacaftor                2015   \n",
       "52    Sirturo                        bedaquiline fumarate                2019   \n",
       "56    Sprycel                                   dasatinib                2018   \n",
       "80  Zavicefta  avibactam sodium, ceftazidime pentahydrate                2020   \n",
       "82    Zinforo                         Ceftaroline fosamil                2016   \n",
       "\n",
       "   Orphan      TherapeuticArea                                     ATC  \\\n",
       "8     yes  Infectious diseases                       J- Antiinfectives   \n",
       "37     no         Respiratory                           R- Respiratory   \n",
       "52    yes  Infectious diseases                       J- Antiinfectives   \n",
       "56    yes             Oncology  L- Antineoplastic and immunomodulating   \n",
       "80     no  Infectious diseases                       J- Antiinfectives   \n",
       "82     no  Infectious diseases                       J- Antiinfectives   \n",
       "\n",
       "                                        MainCondition  \\\n",
       "8        Cystic Fibrosis Respiratory Tract Infections   \n",
       "37                                    Cystic Fibrosis   \n",
       "52                  Tuberculosis, Multidrug-Resistant   \n",
       "56  Leukemia, Myelogenous, Chronic, BCR-ABL Positi...   \n",
       "80  Pneumonia, Bacterial Soft Tissue Infections Pn...   \n",
       "82  Community-Acquired Infections Pneumonia Skin D...   \n",
       "\n",
       "                     MinimumApprovedAge  \\\n",
       "8                             > 6 years   \n",
       "37                            > 2 years   \n",
       "52  > 12 years  weighing at least 30 kg   \n",
       "56                             > 1 year   \n",
       "80                           > 3 months   \n",
       "82                             all ages   \n",
       "\n",
       "                      PediatricTherapeuticIndications  \\\n",
       "8   Cayston is indicated for the suppressive thera...   \n",
       "37  Orkambi tablesis indicated for the treatment o...   \n",
       "52  SIRTURO is indicated for use as part of an app...   \n",
       "56  SPRYCEL is indicated for the treatment of paed...   \n",
       "80  Zavicefta is indicated in adults and paediatri...   \n",
       "82  Zinforo is indicated for the treatment of the ...   \n",
       "\n",
       "                                           elabSMILES  prediction  \n",
       "8   CC1C(=NC(=O)C(NOC(C)(C)C(=O)O)c2csc(N)n2)C(=O)...           0  \n",
       "37  CC(C)(C)c1cc(C(C)(C)C)c(NC(=O)c2c[nH]c3ccccc3c...           0  \n",
       "52  COc1nc2ccc(Br)cc2cc1C(c1ccccc1)C(O)(CCN(C)C)c1...           0  \n",
       "56  Cc1nc(Nc2ncc(C(=O)Nc3c(C)cccc3Cl)s2)cc(N2CCN(C...           0  \n",
       "80  CC(C)(ON=C(C(=O)NC1C(=O)N2C(C(=O)[O-])=C(C[n+]...           0  \n",
       "82  CCON=C(C(=O)NC1C(=O)N2C(C(=O)O)=C(Sc3nc(-c4cc[...           0  "
      ]
     },
     "execution_count": 74,
     "metadata": {},
     "output_type": "execute_result"
    }
   ],
   "source": [
    "teddy[teddy[\"prediction\"]==0]"
   ]
  },
  {
   "cell_type": "raw",
   "id": "31aa9993-f9a2-4144-ac83-ebc382621f66",
   "metadata": {
    "tags": []
   },
   "source": [
    "teddy.to_csv(\"results/teddyPredictions.csv\", index=False)"
   ]
  }
 ],
 "metadata": {
  "kernelspec": {
   "display_name": "Python 3 (ipykernel)",
   "language": "python",
   "name": "python3"
  },
  "language_info": {
   "codemirror_mode": {
    "name": "ipython",
    "version": 3
   },
   "file_extension": ".py",
   "mimetype": "text/x-python",
   "name": "python",
   "nbconvert_exporter": "python",
   "pygments_lexer": "ipython3",
   "version": "3.10.10"
  }
 },
 "nbformat": 4,
 "nbformat_minor": 5
}
