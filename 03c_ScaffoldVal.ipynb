{
 "cells": [
  {
   "cell_type": "code",
   "execution_count": 2,
   "id": "d5ade3cf-909e-4ff4-913d-d01d3c63fc5b",
   "metadata": {
    "tags": []
   },
   "outputs": [],
   "source": [
    "import pandas as pd, numpy as np"
   ]
  },
  {
   "cell_type": "code",
   "execution_count": 3,
   "id": "403d4289-f0bf-4a6d-9cbc-caeaa33bd8a0",
   "metadata": {
    "tags": []
   },
   "outputs": [],
   "source": [
    "data = pd.read_csv(\"data/curedData.csv\")"
   ]
  },
  {
   "cell_type": "markdown",
   "id": "16f03d6b-1479-40da-b0cc-05c39d8db425",
   "metadata": {},
   "source": [
    "## Scaffolding"
   ]
  },
  {
   "cell_type": "code",
   "execution_count": 7,
   "id": "ff304a82-33af-4ed7-9325-3e9a029057d5",
   "metadata": {
    "tags": []
   },
   "outputs": [],
   "source": [
    "from rdkit import Chem\n",
    "from rdkit.Chem.Scaffolds import MurckoScaffold"
   ]
  },
  {
   "cell_type": "code",
   "execution_count": 8,
   "id": "e58e8cd8-e845-47d0-bcea-cea0b3e9a62b",
   "metadata": {
    "tags": []
   },
   "outputs": [],
   "source": [
    "data[\"scaff\"]=data.SMILES.apply(lambda x: MurckoScaffold.MurckoScaffoldSmiles(smiles=x) )"
   ]
  },
  {
   "cell_type": "code",
   "execution_count": 9,
   "id": "2dddc9d1-1c49-4c7b-a88d-605eb3753384",
   "metadata": {
    "collapsed": true,
    "jupyter": {
     "outputs_hidden": true
    },
    "tags": []
   },
   "outputs": [
    {
     "data": {
      "text/html": [
       "<div>\n",
       "<style scoped>\n",
       "    .dataframe tbody tr th:only-of-type {\n",
       "        vertical-align: middle;\n",
       "    }\n",
       "\n",
       "    .dataframe tbody tr th {\n",
       "        vertical-align: top;\n",
       "    }\n",
       "\n",
       "    .dataframe thead th {\n",
       "        text-align: right;\n",
       "    }\n",
       "</style>\n",
       "<table border=\"1\" class=\"dataframe\">\n",
       "  <thead>\n",
       "    <tr style=\"text-align: right;\">\n",
       "      <th></th>\n",
       "      <th>SMILES</th>\n",
       "      <th>label</th>\n",
       "      <th>scaff</th>\n",
       "    </tr>\n",
       "  </thead>\n",
       "  <tbody>\n",
       "    <tr>\n",
       "      <th>0</th>\n",
       "      <td>BrCCBr</td>\n",
       "      <td>1</td>\n",
       "      <td></td>\n",
       "    </tr>\n",
       "    <tr>\n",
       "      <th>1</th>\n",
       "      <td>Brc1c(Br)c(Br)c(Oc2c(Br)c(Br)c(Br)c(Br)c2Br)c(...</td>\n",
       "      <td>0</td>\n",
       "      <td>c1ccc(Oc2ccccc2)cc1</td>\n",
       "    </tr>\n",
       "    <tr>\n",
       "      <th>2</th>\n",
       "      <td>Brc1cc(-c2ccc(Br)c(Br)c2Br)cc(Br)c1Br</td>\n",
       "      <td>1</td>\n",
       "      <td>c1ccc(-c2ccccc2)cc1</td>\n",
       "    </tr>\n",
       "    <tr>\n",
       "      <th>3</th>\n",
       "      <td>Brc1cc(Br)c(-c2cc(Br)c(Br)cc2Br)cc1Br</td>\n",
       "      <td>1</td>\n",
       "      <td>c1ccc(-c2ccccc2)cc1</td>\n",
       "    </tr>\n",
       "    <tr>\n",
       "      <th>4</th>\n",
       "      <td>Brc1cc(Oc2cc(Br)c(Br)c(Br)c2Br)c(Br)c(Br)c1Br</td>\n",
       "      <td>1</td>\n",
       "      <td>c1ccc(Oc2ccccc2)cc1</td>\n",
       "    </tr>\n",
       "    <tr>\n",
       "      <th>...</th>\n",
       "      <td>...</td>\n",
       "      <td>...</td>\n",
       "      <td>...</td>\n",
       "    </tr>\n",
       "    <tr>\n",
       "      <th>728</th>\n",
       "      <td>c1ccc2[nH]c(-c3cscn3)nc2c1</td>\n",
       "      <td>1</td>\n",
       "      <td>c1ccc2[nH]c(-c3cscn3)nc2c1</td>\n",
       "    </tr>\n",
       "    <tr>\n",
       "      <th>729</th>\n",
       "      <td>c1ccc2c(c1)cc1ccc3cccc4ccc2c1c34</td>\n",
       "      <td>1</td>\n",
       "      <td>c1ccc2c(c1)cc1ccc3cccc4ccc2c1c34</td>\n",
       "    </tr>\n",
       "    <tr>\n",
       "      <th>730</th>\n",
       "      <td>c1cncc(C2=NCCCC2)c1</td>\n",
       "      <td>1</td>\n",
       "      <td>c1cncc(C2=NCCCC2)c1</td>\n",
       "    </tr>\n",
       "    <tr>\n",
       "      <th>731</th>\n",
       "      <td>c1cncc(C2CCCCN2)c1</td>\n",
       "      <td>1</td>\n",
       "      <td>c1cncc(C2CCCCN2)c1</td>\n",
       "    </tr>\n",
       "    <tr>\n",
       "      <th>732</th>\n",
       "      <td>c1nc[nH]n1</td>\n",
       "      <td>1</td>\n",
       "      <td>c1nc[nH]n1</td>\n",
       "    </tr>\n",
       "  </tbody>\n",
       "</table>\n",
       "<p>733 rows × 3 columns</p>\n",
       "</div>"
      ],
      "text/plain": [
       "                                                SMILES  label  \\\n",
       "0                                               BrCCBr      1   \n",
       "1    Brc1c(Br)c(Br)c(Oc2c(Br)c(Br)c(Br)c(Br)c2Br)c(...      0   \n",
       "2                Brc1cc(-c2ccc(Br)c(Br)c2Br)cc(Br)c1Br      1   \n",
       "3                Brc1cc(Br)c(-c2cc(Br)c(Br)cc2Br)cc1Br      1   \n",
       "4        Brc1cc(Oc2cc(Br)c(Br)c(Br)c2Br)c(Br)c(Br)c1Br      1   \n",
       "..                                                 ...    ...   \n",
       "728                         c1ccc2[nH]c(-c3cscn3)nc2c1      1   \n",
       "729                   c1ccc2c(c1)cc1ccc3cccc4ccc2c1c34      1   \n",
       "730                                c1cncc(C2=NCCCC2)c1      1   \n",
       "731                                 c1cncc(C2CCCCN2)c1      1   \n",
       "732                                         c1nc[nH]n1      1   \n",
       "\n",
       "                                scaff  \n",
       "0                                      \n",
       "1                 c1ccc(Oc2ccccc2)cc1  \n",
       "2                 c1ccc(-c2ccccc2)cc1  \n",
       "3                 c1ccc(-c2ccccc2)cc1  \n",
       "4                 c1ccc(Oc2ccccc2)cc1  \n",
       "..                                ...  \n",
       "728        c1ccc2[nH]c(-c3cscn3)nc2c1  \n",
       "729  c1ccc2c(c1)cc1ccc3cccc4ccc2c1c34  \n",
       "730               c1cncc(C2=NCCCC2)c1  \n",
       "731                c1cncc(C2CCCCN2)c1  \n",
       "732                        c1nc[nH]n1  \n",
       "\n",
       "[733 rows x 3 columns]"
      ]
     },
     "execution_count": 9,
     "metadata": {},
     "output_type": "execute_result"
    }
   ],
   "source": [
    "data"
   ]
  },
  {
   "cell_type": "code",
   "execution_count": 10,
   "id": "2645ab43-15d4-4306-a67c-5c922c527241",
   "metadata": {
    "tags": []
   },
   "outputs": [],
   "source": [
    "scaffolds = data.scaff.unique()"
   ]
  },
  {
   "cell_type": "code",
   "execution_count": 14,
   "id": "528a0387-6102-4cbe-aba4-1b8a9bad8ff4",
   "metadata": {
    "tags": []
   },
   "outputs": [],
   "source": [
    "from rdkit.Chem.rdmolops import PatternFingerprint\n",
    "from rdkit.DataStructs import TanimotoSimilarity\n",
    "from itertools import combinations"
   ]
  },
  {
   "cell_type": "code",
   "execution_count": 12,
   "id": "4a17734f-0252-42bd-92a2-ad2495cba92f",
   "metadata": {
    "tags": []
   },
   "outputs": [],
   "source": [
    "fpPattern = pd.Series([ PatternFingerprint(Chem.MolFromSmiles(s)) for s in scaffolds])"
   ]
  },
  {
   "cell_type": "code",
   "execution_count": 15,
   "id": "27cdc1ec-54c9-400e-acc9-d56d94483ce2",
   "metadata": {
    "tags": []
   },
   "outputs": [],
   "source": [
    "## This calc needs bit of time ##\n",
    "\n",
    "mutualSimilarities = pd.DataFrame(np.identity(len(scaffolds)), index=scaffolds, columns=scaffolds)\n",
    "\n",
    "# computing similarity values for every couple of scaffolds\n",
    "# getting an adj matrix\n",
    "for comb in combinations(scaffolds,2):\n",
    "    comb = list(comb)\n",
    "    similarityValue = TanimotoSimilarity(*fpPattern[comb])\n",
    "    \n",
    "    a,b=comb\n",
    "    mutualSimilarities.at[a,b]=similarityValue\n",
    "    mutualSimilarities.at[b,a]=similarityValue"
   ]
  },
  {
   "cell_type": "raw",
   "id": "5c584923-3d72-4bc0-b167-3209d83b18eb",
   "metadata": {
    "tags": []
   },
   "source": [
    "mutualSimilarities.to_csv(\"data/scaffoldSimilarities.csv\")"
   ]
  },
  {
   "cell_type": "markdown",
   "id": "369f3669-ef53-4a3d-b4d8-7018eb10e56c",
   "metadata": {},
   "source": [
    "## Clustering"
   ]
  },
  {
   "cell_type": "code",
   "execution_count": 20,
   "id": "10ba023d-f89f-4ff5-96fd-9bf84e7e23cd",
   "metadata": {
    "tags": []
   },
   "outputs": [],
   "source": [
    "import networkx as nx\n",
    "from networkx.algorithms.community.louvain import louvain_communities"
   ]
  },
  {
   "cell_type": "code",
   "execution_count": 21,
   "id": "89ce7a40-193b-42f3-9c4f-b6918347ad07",
   "metadata": {
    "tags": []
   },
   "outputs": [],
   "source": [
    "G = nx.from_pandas_adjacency(mutualSimilarities)"
   ]
  },
  {
   "cell_type": "code",
   "execution_count": 73,
   "id": "8fa7fe9f-2ac0-4f32-a975-70ffc0e44235",
   "metadata": {
    "tags": []
   },
   "outputs": [],
   "source": [
    "# resolution default is 1.0, but it would return 1 too low populated cluster.\n",
    "comms = louvain_communities(G, resolution=.95)"
   ]
  },
  {
   "cell_type": "code",
   "execution_count": 74,
   "id": "a7ef168a-2dae-4afc-8717-db811da31ed4",
   "metadata": {
    "tags": []
   },
   "outputs": [
    {
     "data": {
      "text/plain": [
       "3"
      ]
     },
     "execution_count": 74,
     "metadata": {},
     "output_type": "execute_result"
    }
   ],
   "source": [
    "len(comms)"
   ]
  },
  {
   "cell_type": "code",
   "execution_count": 37,
   "id": "861d6e55-0d27-4e39-8f35-01d40856bb81",
   "metadata": {
    "tags": []
   },
   "outputs": [],
   "source": [
    "communities_id = {}\n",
    "for idx, val in enumerate(comms):\n",
    "    for k in val:\n",
    "        communities_id[k] = idx"
   ]
  },
  {
   "cell_type": "code",
   "execution_count": 38,
   "id": "fcbc48a7-fa3b-4ec9-ab29-a6b1f8e9ba6e",
   "metadata": {
    "tags": []
   },
   "outputs": [],
   "source": [
    "data[\"commIdx\"]=data.scaff.apply(communities_id.get)"
   ]
  },
  {
   "cell_type": "code",
   "execution_count": 39,
   "id": "fab12467-f1ec-48eb-b9d6-2ab51114aed7",
   "metadata": {
    "tags": []
   },
   "outputs": [
    {
     "data": {
      "text/plain": [
       "2    399\n",
       "1    196\n",
       "0    138\n",
       "Name: commIdx, dtype: int64"
      ]
     },
     "execution_count": 39,
     "metadata": {},
     "output_type": "execute_result"
    }
   ],
   "source": [
    "data.commIdx.value_counts()"
   ]
  },
  {
   "cell_type": "code",
   "execution_count": 40,
   "id": "7157d4e5-f5c0-4675-a54a-09d20638137a",
   "metadata": {
    "tags": []
   },
   "outputs": [],
   "source": [
    "commGroup = data.groupby(\"commIdx\").indices"
   ]
  },
  {
   "cell_type": "code",
   "execution_count": 42,
   "id": "694ea775-5f51-4ab8-9311-fa64b1946ce8",
   "metadata": {
    "tags": []
   },
   "outputs": [],
   "source": [
    "CVclusterData=pd.DataFrame(columns=range(len(commGroup)), index=range(len(data)))\n",
    "CVclusterData=CVclusterData.applymap(lambda x: \"train\")\n",
    "for col, idxs in commGroup.items():\n",
    "    CVclusterData.loc[idxs,col]=\"test\""
   ]
  },
  {
   "cell_type": "code",
   "execution_count": 45,
   "id": "b534e1f9-ab81-4da9-b8f6-3edb7003e585",
   "metadata": {
    "collapsed": true,
    "jupyter": {
     "outputs_hidden": true
    },
    "tags": []
   },
   "outputs": [
    {
     "data": {
      "text/html": [
       "<div>\n",
       "<style scoped>\n",
       "    .dataframe tbody tr th:only-of-type {\n",
       "        vertical-align: middle;\n",
       "    }\n",
       "\n",
       "    .dataframe tbody tr th {\n",
       "        vertical-align: top;\n",
       "    }\n",
       "\n",
       "    .dataframe thead th {\n",
       "        text-align: right;\n",
       "    }\n",
       "</style>\n",
       "<table border=\"1\" class=\"dataframe\">\n",
       "  <thead>\n",
       "    <tr style=\"text-align: right;\">\n",
       "      <th></th>\n",
       "      <th>0</th>\n",
       "      <th>1</th>\n",
       "      <th>2</th>\n",
       "    </tr>\n",
       "  </thead>\n",
       "  <tbody>\n",
       "    <tr>\n",
       "      <th>0</th>\n",
       "      <td>test</td>\n",
       "      <td>train</td>\n",
       "      <td>train</td>\n",
       "    </tr>\n",
       "    <tr>\n",
       "      <th>1</th>\n",
       "      <td>train</td>\n",
       "      <td>train</td>\n",
       "      <td>test</td>\n",
       "    </tr>\n",
       "    <tr>\n",
       "      <th>2</th>\n",
       "      <td>train</td>\n",
       "      <td>train</td>\n",
       "      <td>test</td>\n",
       "    </tr>\n",
       "    <tr>\n",
       "      <th>3</th>\n",
       "      <td>train</td>\n",
       "      <td>train</td>\n",
       "      <td>test</td>\n",
       "    </tr>\n",
       "    <tr>\n",
       "      <th>4</th>\n",
       "      <td>train</td>\n",
       "      <td>train</td>\n",
       "      <td>test</td>\n",
       "    </tr>\n",
       "    <tr>\n",
       "      <th>...</th>\n",
       "      <td>...</td>\n",
       "      <td>...</td>\n",
       "      <td>...</td>\n",
       "    </tr>\n",
       "    <tr>\n",
       "      <th>728</th>\n",
       "      <td>train</td>\n",
       "      <td>train</td>\n",
       "      <td>test</td>\n",
       "    </tr>\n",
       "    <tr>\n",
       "      <th>729</th>\n",
       "      <td>train</td>\n",
       "      <td>test</td>\n",
       "      <td>train</td>\n",
       "    </tr>\n",
       "    <tr>\n",
       "      <th>730</th>\n",
       "      <td>train</td>\n",
       "      <td>train</td>\n",
       "      <td>test</td>\n",
       "    </tr>\n",
       "    <tr>\n",
       "      <th>731</th>\n",
       "      <td>train</td>\n",
       "      <td>train</td>\n",
       "      <td>test</td>\n",
       "    </tr>\n",
       "    <tr>\n",
       "      <th>732</th>\n",
       "      <td>train</td>\n",
       "      <td>train</td>\n",
       "      <td>test</td>\n",
       "    </tr>\n",
       "  </tbody>\n",
       "</table>\n",
       "<p>733 rows × 3 columns</p>\n",
       "</div>"
      ],
      "text/plain": [
       "         0      1      2\n",
       "0     test  train  train\n",
       "1    train  train   test\n",
       "2    train  train   test\n",
       "3    train  train   test\n",
       "4    train  train   test\n",
       "..     ...    ...    ...\n",
       "728  train  train   test\n",
       "729  train   test  train\n",
       "730  train  train   test\n",
       "731  train  train   test\n",
       "732  train  train   test\n",
       "\n",
       "[733 rows x 3 columns]"
      ]
     },
     "execution_count": 45,
     "metadata": {},
     "output_type": "execute_result"
    }
   ],
   "source": [
    "CVclusterData"
   ]
  },
  {
   "cell_type": "code",
   "execution_count": 65,
   "id": "29871980-cca2-414f-9ca6-49666d314651",
   "metadata": {
    "tags": []
   },
   "outputs": [
    {
     "data": {
      "text/plain": [
       "1    341\n",
       "0     58\n",
       "Name: label, dtype: int64"
      ]
     },
     "execution_count": 65,
     "metadata": {},
     "output_type": "execute_result"
    }
   ],
   "source": [
    "Y.loc[CVclusterData[2]==\"test\"].value_counts()"
   ]
  },
  {
   "cell_type": "code",
   "execution_count": 72,
   "id": "74886c6f-373e-4c4f-a51a-59d628c5042b",
   "metadata": {
    "tags": []
   },
   "outputs": [
    {
     "data": {
      "text/plain": [
       "1    146\n",
       "0     50\n",
       "Name: label, dtype: int64"
      ]
     },
     "execution_count": 72,
     "metadata": {},
     "output_type": "execute_result"
    }
   ],
   "source": [
    "Y.loc[CVclusterData[1]==\"test\"].value_counts()"
   ]
  },
  {
   "cell_type": "code",
   "execution_count": 71,
   "id": "b530e7af-fae1-4d8f-a536-46ae4b6acbe8",
   "metadata": {
    "tags": []
   },
   "outputs": [
    {
     "data": {
      "text/plain": [
       "1    122\n",
       "0     16\n",
       "Name: label, dtype: int64"
      ]
     },
     "execution_count": 71,
     "metadata": {},
     "output_type": "execute_result"
    }
   ],
   "source": [
    "Y.loc[CVclusterData[0]==\"test\"].value_counts()"
   ]
  },
  {
   "cell_type": "raw",
   "id": "0d39495d-f8b5-4140-a435-2fdbbca16c62",
   "metadata": {
    "tags": []
   },
   "source": [
    "CVclusterData.to_csv(\"data/scaffoldsCluster.csv\", index_label=\"molID\")"
   ]
  },
  {
   "cell_type": "markdown",
   "id": "70b641c3-b651-4eab-ba02-4fe9404aea0e",
   "metadata": {},
   "source": [
    "## CV leave-one-cluster-out"
   ]
  },
  {
   "cell_type": "code",
   "execution_count": 47,
   "id": "ffa3708b-f6ee-4c03-821f-2fde170f3a0d",
   "metadata": {
    "tags": []
   },
   "outputs": [],
   "source": [
    "from consensusModel import clsf"
   ]
  },
  {
   "cell_type": "code",
   "execution_count": 48,
   "id": "537051c3-81f8-4a2b-928b-eda9841a3935",
   "metadata": {
    "tags": []
   },
   "outputs": [],
   "source": [
    "X = pd.read_csv(\"data/trainMatrix.csv\")"
   ]
  },
  {
   "cell_type": "code",
   "execution_count": 49,
   "id": "77f6139d-86ae-403e-af8e-19a3f8edb9ad",
   "metadata": {
    "tags": []
   },
   "outputs": [],
   "source": [
    "Y = data.label"
   ]
  },
  {
   "cell_type": "code",
   "execution_count": 77,
   "id": "ac267fb7-f88f-4cbc-94fd-5a98e558f874",
   "metadata": {
    "tags": []
   },
   "outputs": [],
   "source": [
    "CVclusterData=pd.read_csv(\"data/scaffoldsCluster.csv\", index_col=0)"
   ]
  },
  {
   "cell_type": "code",
   "execution_count": 50,
   "id": "0662b518-27ee-4512-ab98-99e29742a7ba",
   "metadata": {
    "tags": []
   },
   "outputs": [],
   "source": [
    "folds = len(CVclusterData.columns)\n",
    "allScores=pd.DataFrame(columns=pd.MultiIndex.from_product((range(folds), clsf.keys())),\n",
    "                       index=range(len(Y))\n",
    "                      )\n",
    "\n",
    "for fold in range(folds):\n",
    "    series=CVclusterData[fold]\n",
    "    split = series.groupby(series).indices\n",
    "    train, val = split[\"train\"], split[\"test\"]\n",
    "\n",
    "    Ytrain=Y[train]\n",
    "\n",
    "    Xtrain=X.loc[train].values\n",
    "    Xval=X.loc[val].values\n",
    "    for cName,cObj in clsf.items():\n",
    "        cObj.fit(Xtrain,Ytrain)\n",
    "        prob=cObj.predict_proba(Xval)[:,1]\n",
    "\n",
    "        allScores.loc[val,(fold,cName)]=prob"
   ]
  },
  {
   "cell_type": "code",
   "execution_count": 51,
   "id": "d7d33fec-f5c3-4f67-810d-5ed93052df49",
   "metadata": {
    "collapsed": true,
    "jupyter": {
     "outputs_hidden": true
    },
    "tags": []
   },
   "outputs": [
    {
     "data": {
      "text/html": [
       "<div>\n",
       "<style scoped>\n",
       "    .dataframe tbody tr th:only-of-type {\n",
       "        vertical-align: middle;\n",
       "    }\n",
       "\n",
       "    .dataframe tbody tr th {\n",
       "        vertical-align: top;\n",
       "    }\n",
       "\n",
       "    .dataframe thead tr th {\n",
       "        text-align: left;\n",
       "    }\n",
       "</style>\n",
       "<table border=\"1\" class=\"dataframe\">\n",
       "  <thead>\n",
       "    <tr>\n",
       "      <th></th>\n",
       "      <th colspan=\"5\" halign=\"left\">0</th>\n",
       "      <th colspan=\"5\" halign=\"left\">1</th>\n",
       "      <th colspan=\"5\" halign=\"left\">2</th>\n",
       "    </tr>\n",
       "    <tr>\n",
       "      <th></th>\n",
       "      <th>RF</th>\n",
       "      <th>SVM</th>\n",
       "      <th>XGB</th>\n",
       "      <th>KNN</th>\n",
       "      <th>ADA</th>\n",
       "      <th>RF</th>\n",
       "      <th>SVM</th>\n",
       "      <th>XGB</th>\n",
       "      <th>KNN</th>\n",
       "      <th>ADA</th>\n",
       "      <th>RF</th>\n",
       "      <th>SVM</th>\n",
       "      <th>XGB</th>\n",
       "      <th>KNN</th>\n",
       "      <th>ADA</th>\n",
       "    </tr>\n",
       "  </thead>\n",
       "  <tbody>\n",
       "    <tr>\n",
       "      <th>0</th>\n",
       "      <td>0.964167</td>\n",
       "      <td>0.912627</td>\n",
       "      <td>0.967284</td>\n",
       "      <td>1.0</td>\n",
       "      <td>0.513374</td>\n",
       "      <td>NaN</td>\n",
       "      <td>NaN</td>\n",
       "      <td>NaN</td>\n",
       "      <td>NaN</td>\n",
       "      <td>NaN</td>\n",
       "      <td>NaN</td>\n",
       "      <td>NaN</td>\n",
       "      <td>NaN</td>\n",
       "      <td>NaN</td>\n",
       "      <td>NaN</td>\n",
       "    </tr>\n",
       "    <tr>\n",
       "      <th>1</th>\n",
       "      <td>NaN</td>\n",
       "      <td>NaN</td>\n",
       "      <td>NaN</td>\n",
       "      <td>NaN</td>\n",
       "      <td>NaN</td>\n",
       "      <td>NaN</td>\n",
       "      <td>NaN</td>\n",
       "      <td>NaN</td>\n",
       "      <td>NaN</td>\n",
       "      <td>NaN</td>\n",
       "      <td>0.896667</td>\n",
       "      <td>0.924781</td>\n",
       "      <td>0.887849</td>\n",
       "      <td>0.8</td>\n",
       "      <td>0.609905</td>\n",
       "    </tr>\n",
       "    <tr>\n",
       "      <th>2</th>\n",
       "      <td>NaN</td>\n",
       "      <td>NaN</td>\n",
       "      <td>NaN</td>\n",
       "      <td>NaN</td>\n",
       "      <td>NaN</td>\n",
       "      <td>NaN</td>\n",
       "      <td>NaN</td>\n",
       "      <td>NaN</td>\n",
       "      <td>NaN</td>\n",
       "      <td>NaN</td>\n",
       "      <td>0.957333</td>\n",
       "      <td>0.886215</td>\n",
       "      <td>0.822383</td>\n",
       "      <td>1.0</td>\n",
       "      <td>0.506833</td>\n",
       "    </tr>\n",
       "    <tr>\n",
       "      <th>3</th>\n",
       "      <td>NaN</td>\n",
       "      <td>NaN</td>\n",
       "      <td>NaN</td>\n",
       "      <td>NaN</td>\n",
       "      <td>NaN</td>\n",
       "      <td>NaN</td>\n",
       "      <td>NaN</td>\n",
       "      <td>NaN</td>\n",
       "      <td>NaN</td>\n",
       "      <td>NaN</td>\n",
       "      <td>0.957333</td>\n",
       "      <td>0.886215</td>\n",
       "      <td>0.822383</td>\n",
       "      <td>1.0</td>\n",
       "      <td>0.506833</td>\n",
       "    </tr>\n",
       "    <tr>\n",
       "      <th>4</th>\n",
       "      <td>NaN</td>\n",
       "      <td>NaN</td>\n",
       "      <td>NaN</td>\n",
       "      <td>NaN</td>\n",
       "      <td>NaN</td>\n",
       "      <td>NaN</td>\n",
       "      <td>NaN</td>\n",
       "      <td>NaN</td>\n",
       "      <td>NaN</td>\n",
       "      <td>NaN</td>\n",
       "      <td>0.896667</td>\n",
       "      <td>0.924781</td>\n",
       "      <td>0.887849</td>\n",
       "      <td>0.8</td>\n",
       "      <td>0.609905</td>\n",
       "    </tr>\n",
       "    <tr>\n",
       "      <th>...</th>\n",
       "      <td>...</td>\n",
       "      <td>...</td>\n",
       "      <td>...</td>\n",
       "      <td>...</td>\n",
       "      <td>...</td>\n",
       "      <td>...</td>\n",
       "      <td>...</td>\n",
       "      <td>...</td>\n",
       "      <td>...</td>\n",
       "      <td>...</td>\n",
       "      <td>...</td>\n",
       "      <td>...</td>\n",
       "      <td>...</td>\n",
       "      <td>...</td>\n",
       "      <td>...</td>\n",
       "    </tr>\n",
       "    <tr>\n",
       "      <th>728</th>\n",
       "      <td>NaN</td>\n",
       "      <td>NaN</td>\n",
       "      <td>NaN</td>\n",
       "      <td>NaN</td>\n",
       "      <td>NaN</td>\n",
       "      <td>NaN</td>\n",
       "      <td>NaN</td>\n",
       "      <td>NaN</td>\n",
       "      <td>NaN</td>\n",
       "      <td>NaN</td>\n",
       "      <td>0.790667</td>\n",
       "      <td>0.532786</td>\n",
       "      <td>0.822383</td>\n",
       "      <td>0.8</td>\n",
       "      <td>0.40628</td>\n",
       "    </tr>\n",
       "    <tr>\n",
       "      <th>729</th>\n",
       "      <td>NaN</td>\n",
       "      <td>NaN</td>\n",
       "      <td>NaN</td>\n",
       "      <td>NaN</td>\n",
       "      <td>NaN</td>\n",
       "      <td>0.89</td>\n",
       "      <td>0.893714</td>\n",
       "      <td>0.936344</td>\n",
       "      <td>1.0</td>\n",
       "      <td>0.511162</td>\n",
       "      <td>NaN</td>\n",
       "      <td>NaN</td>\n",
       "      <td>NaN</td>\n",
       "      <td>NaN</td>\n",
       "      <td>NaN</td>\n",
       "    </tr>\n",
       "    <tr>\n",
       "      <th>730</th>\n",
       "      <td>NaN</td>\n",
       "      <td>NaN</td>\n",
       "      <td>NaN</td>\n",
       "      <td>NaN</td>\n",
       "      <td>NaN</td>\n",
       "      <td>NaN</td>\n",
       "      <td>NaN</td>\n",
       "      <td>NaN</td>\n",
       "      <td>NaN</td>\n",
       "      <td>NaN</td>\n",
       "      <td>0.712833</td>\n",
       "      <td>0.529798</td>\n",
       "      <td>0.773416</td>\n",
       "      <td>0.6</td>\n",
       "      <td>0.414902</td>\n",
       "    </tr>\n",
       "    <tr>\n",
       "      <th>731</th>\n",
       "      <td>NaN</td>\n",
       "      <td>NaN</td>\n",
       "      <td>NaN</td>\n",
       "      <td>NaN</td>\n",
       "      <td>NaN</td>\n",
       "      <td>NaN</td>\n",
       "      <td>NaN</td>\n",
       "      <td>NaN</td>\n",
       "      <td>NaN</td>\n",
       "      <td>NaN</td>\n",
       "      <td>0.674167</td>\n",
       "      <td>0.55075</td>\n",
       "      <td>0.357571</td>\n",
       "      <td>0.6</td>\n",
       "      <td>0.414902</td>\n",
       "    </tr>\n",
       "    <tr>\n",
       "      <th>732</th>\n",
       "      <td>NaN</td>\n",
       "      <td>NaN</td>\n",
       "      <td>NaN</td>\n",
       "      <td>NaN</td>\n",
       "      <td>NaN</td>\n",
       "      <td>NaN</td>\n",
       "      <td>NaN</td>\n",
       "      <td>NaN</td>\n",
       "      <td>NaN</td>\n",
       "      <td>NaN</td>\n",
       "      <td>0.957833</td>\n",
       "      <td>0.826941</td>\n",
       "      <td>0.896192</td>\n",
       "      <td>0.8</td>\n",
       "      <td>0.507818</td>\n",
       "    </tr>\n",
       "  </tbody>\n",
       "</table>\n",
       "<p>733 rows × 15 columns</p>\n",
       "</div>"
      ],
      "text/plain": [
       "            0                                        1                      \\\n",
       "           RF       SVM       XGB  KNN       ADA    RF       SVM       XGB   \n",
       "0    0.964167  0.912627  0.967284  1.0  0.513374   NaN       NaN       NaN   \n",
       "1         NaN       NaN       NaN  NaN       NaN   NaN       NaN       NaN   \n",
       "2         NaN       NaN       NaN  NaN       NaN   NaN       NaN       NaN   \n",
       "3         NaN       NaN       NaN  NaN       NaN   NaN       NaN       NaN   \n",
       "4         NaN       NaN       NaN  NaN       NaN   NaN       NaN       NaN   \n",
       "..        ...       ...       ...  ...       ...   ...       ...       ...   \n",
       "728       NaN       NaN       NaN  NaN       NaN   NaN       NaN       NaN   \n",
       "729       NaN       NaN       NaN  NaN       NaN  0.89  0.893714  0.936344   \n",
       "730       NaN       NaN       NaN  NaN       NaN   NaN       NaN       NaN   \n",
       "731       NaN       NaN       NaN  NaN       NaN   NaN       NaN       NaN   \n",
       "732       NaN       NaN       NaN  NaN       NaN   NaN       NaN       NaN   \n",
       "\n",
       "                           2                                     \n",
       "     KNN       ADA        RF       SVM       XGB  KNN       ADA  \n",
       "0    NaN       NaN       NaN       NaN       NaN  NaN       NaN  \n",
       "1    NaN       NaN  0.896667  0.924781  0.887849  0.8  0.609905  \n",
       "2    NaN       NaN  0.957333  0.886215  0.822383  1.0  0.506833  \n",
       "3    NaN       NaN  0.957333  0.886215  0.822383  1.0  0.506833  \n",
       "4    NaN       NaN  0.896667  0.924781  0.887849  0.8  0.609905  \n",
       "..   ...       ...       ...       ...       ...  ...       ...  \n",
       "728  NaN       NaN  0.790667  0.532786  0.822383  0.8   0.40628  \n",
       "729  1.0  0.511162       NaN       NaN       NaN  NaN       NaN  \n",
       "730  NaN       NaN  0.712833  0.529798  0.773416  0.6  0.414902  \n",
       "731  NaN       NaN  0.674167   0.55075  0.357571  0.6  0.414902  \n",
       "732  NaN       NaN  0.957833  0.826941  0.896192  0.8  0.507818  \n",
       "\n",
       "[733 rows x 15 columns]"
      ]
     },
     "execution_count": 51,
     "metadata": {},
     "output_type": "execute_result"
    }
   ],
   "source": [
    "allScores"
   ]
  },
  {
   "cell_type": "markdown",
   "id": "72b9b56e-094c-404b-a17e-6dc604ee1767",
   "metadata": {},
   "source": [
    "## Results"
   ]
  },
  {
   "cell_type": "code",
   "execution_count": 52,
   "id": "186c1e6c-fa3f-4176-a797-ca8e35d0b029",
   "metadata": {
    "tags": []
   },
   "outputs": [],
   "source": [
    "consensusScores =pd.concat( \n",
    "            [allScores[ n ].mean(axis=1) for n in range(folds)], \n",
    "            axis=1, names = range(folds)\n",
    "                            )"
   ]
  },
  {
   "cell_type": "code",
   "execution_count": 53,
   "id": "258587b8-931f-435c-8106-137923d67943",
   "metadata": {
    "collapsed": true,
    "jupyter": {
     "outputs_hidden": true
    },
    "tags": []
   },
   "outputs": [
    {
     "data": {
      "text/html": [
       "<div>\n",
       "<style scoped>\n",
       "    .dataframe tbody tr th:only-of-type {\n",
       "        vertical-align: middle;\n",
       "    }\n",
       "\n",
       "    .dataframe tbody tr th {\n",
       "        vertical-align: top;\n",
       "    }\n",
       "\n",
       "    .dataframe thead th {\n",
       "        text-align: right;\n",
       "    }\n",
       "</style>\n",
       "<table border=\"1\" class=\"dataframe\">\n",
       "  <thead>\n",
       "    <tr style=\"text-align: right;\">\n",
       "      <th></th>\n",
       "      <th>0</th>\n",
       "      <th>1</th>\n",
       "      <th>2</th>\n",
       "    </tr>\n",
       "  </thead>\n",
       "  <tbody>\n",
       "    <tr>\n",
       "      <th>0</th>\n",
       "      <td>0.871491</td>\n",
       "      <td>NaN</td>\n",
       "      <td>NaN</td>\n",
       "    </tr>\n",
       "    <tr>\n",
       "      <th>1</th>\n",
       "      <td>NaN</td>\n",
       "      <td>NaN</td>\n",
       "      <td>0.823840</td>\n",
       "    </tr>\n",
       "    <tr>\n",
       "      <th>2</th>\n",
       "      <td>NaN</td>\n",
       "      <td>NaN</td>\n",
       "      <td>0.834553</td>\n",
       "    </tr>\n",
       "    <tr>\n",
       "      <th>3</th>\n",
       "      <td>NaN</td>\n",
       "      <td>NaN</td>\n",
       "      <td>0.834553</td>\n",
       "    </tr>\n",
       "    <tr>\n",
       "      <th>4</th>\n",
       "      <td>NaN</td>\n",
       "      <td>NaN</td>\n",
       "      <td>0.823840</td>\n",
       "    </tr>\n",
       "    <tr>\n",
       "      <th>...</th>\n",
       "      <td>...</td>\n",
       "      <td>...</td>\n",
       "      <td>...</td>\n",
       "    </tr>\n",
       "    <tr>\n",
       "      <th>728</th>\n",
       "      <td>NaN</td>\n",
       "      <td>NaN</td>\n",
       "      <td>0.670423</td>\n",
       "    </tr>\n",
       "    <tr>\n",
       "      <th>729</th>\n",
       "      <td>NaN</td>\n",
       "      <td>0.846244</td>\n",
       "      <td>NaN</td>\n",
       "    </tr>\n",
       "    <tr>\n",
       "      <th>730</th>\n",
       "      <td>NaN</td>\n",
       "      <td>NaN</td>\n",
       "      <td>0.606190</td>\n",
       "    </tr>\n",
       "    <tr>\n",
       "      <th>731</th>\n",
       "      <td>NaN</td>\n",
       "      <td>NaN</td>\n",
       "      <td>0.519478</td>\n",
       "    </tr>\n",
       "    <tr>\n",
       "      <th>732</th>\n",
       "      <td>NaN</td>\n",
       "      <td>NaN</td>\n",
       "      <td>0.797757</td>\n",
       "    </tr>\n",
       "  </tbody>\n",
       "</table>\n",
       "<p>733 rows × 3 columns</p>\n",
       "</div>"
      ],
      "text/plain": [
       "            0         1         2\n",
       "0    0.871491       NaN       NaN\n",
       "1         NaN       NaN  0.823840\n",
       "2         NaN       NaN  0.834553\n",
       "3         NaN       NaN  0.834553\n",
       "4         NaN       NaN  0.823840\n",
       "..        ...       ...       ...\n",
       "728       NaN       NaN  0.670423\n",
       "729       NaN  0.846244       NaN\n",
       "730       NaN       NaN  0.606190\n",
       "731       NaN       NaN  0.519478\n",
       "732       NaN       NaN  0.797757\n",
       "\n",
       "[733 rows x 3 columns]"
      ]
     },
     "execution_count": 53,
     "metadata": {},
     "output_type": "execute_result"
    }
   ],
   "source": [
    "consensusScores"
   ]
  },
  {
   "cell_type": "code",
   "execution_count": 59,
   "id": "78c868c3-6faa-4c86-82d3-6cc305b6b5aa",
   "metadata": {
    "tags": []
   },
   "outputs": [],
   "source": [
    "from utilsMetric import metrics"
   ]
  },
  {
   "cell_type": "code",
   "execution_count": 57,
   "id": "8a0cff1c-7a54-41ea-a537-06aa81d14b65",
   "metadata": {
    "collapsed": true,
    "jupyter": {
     "outputs_hidden": true
    },
    "tags": []
   },
   "outputs": [
    {
     "name": "stderr",
     "output_type": "stream",
     "text": [
      "/home/toxi/.local/lib/python3.10/site-packages/sklearn/metrics/_classification.py:1344: UndefinedMetricWarning: Precision is ill-defined and being set to 0.0 due to no predicted samples. Use `zero_division` parameter to control this behavior.\n",
      "  _warn_prf(average, modifier, msg_start, len(result))\n",
      "/home/toxi/.local/lib/python3.10/site-packages/sklearn/metrics/_classification.py:1344: UndefinedMetricWarning: Precision is ill-defined and being set to 0.0 due to no predicted samples. Use `zero_division` parameter to control this behavior.\n",
      "  _warn_prf(average, modifier, msg_start, len(result))\n",
      "/home/toxi/.local/lib/python3.10/site-packages/sklearn/metrics/_classification.py:1344: UndefinedMetricWarning: Precision is ill-defined and being set to 0.0 due to no predicted samples. Use `zero_division` parameter to control this behavior.\n",
      "  _warn_prf(average, modifier, msg_start, len(result))\n",
      "/home/toxi/.local/lib/python3.10/site-packages/sklearn/metrics/_classification.py:1344: UndefinedMetricWarning: Precision is ill-defined and being set to 0.0 due to no predicted samples. Use `zero_division` parameter to control this behavior.\n",
      "  _warn_prf(average, modifier, msg_start, len(result))\n"
     ]
    }
   ],
   "source": [
    "steps = np.arange(0.3,0.81,0.1)\n",
    "\n",
    "metricsClusterCV=pd.DataFrame( columns=pd.MultiIndex.from_product( (range(folds), steps) ),\n",
    "                           index=metrics.keys())\n",
    "\n",
    "for metrName, metrFun in metrics.items():\n",
    "    metricsClusterCV.loc[metrName] = [ \n",
    "                                    metrFun(Y[mask],pd.Series(scores)[mask].apply(lambda x: 1 if x>=cutoff else 0), scores[mask])\n",
    "                                    for mask,scores in zip( (CVclusterData==\"test\").values.T, consensusScores.values.T)  \n",
    "                                    for cutoff in steps\n",
    "                                    ]"
   ]
  },
  {
   "cell_type": "code",
   "execution_count": 68,
   "id": "a8168e84-faf5-4ea0-a5f0-f39d6570b828",
   "metadata": {
    "collapsed": true,
    "jupyter": {
     "outputs_hidden": true
    },
    "tags": []
   },
   "outputs": [
    {
     "data": {
      "text/html": [
       "<div>\n",
       "<style scoped>\n",
       "    .dataframe tbody tr th:only-of-type {\n",
       "        vertical-align: middle;\n",
       "    }\n",
       "\n",
       "    .dataframe tbody tr th {\n",
       "        vertical-align: top;\n",
       "    }\n",
       "\n",
       "    .dataframe thead tr th {\n",
       "        text-align: left;\n",
       "    }\n",
       "</style>\n",
       "<table border=\"1\" class=\"dataframe\">\n",
       "  <thead>\n",
       "    <tr>\n",
       "      <th></th>\n",
       "      <th>0</th>\n",
       "      <th>1</th>\n",
       "      <th>2</th>\n",
       "    </tr>\n",
       "    <tr>\n",
       "      <th></th>\n",
       "      <th>0.5</th>\n",
       "      <th>0.5</th>\n",
       "      <th>0.5</th>\n",
       "    </tr>\n",
       "  </thead>\n",
       "  <tbody>\n",
       "    <tr>\n",
       "      <th>spec</th>\n",
       "      <td>0.0</td>\n",
       "      <td>0.0</td>\n",
       "      <td>0.051724</td>\n",
       "    </tr>\n",
       "    <tr>\n",
       "      <th>sens</th>\n",
       "      <td>0.983607</td>\n",
       "      <td>1.0</td>\n",
       "      <td>0.903226</td>\n",
       "    </tr>\n",
       "    <tr>\n",
       "      <th>balacc</th>\n",
       "      <td>0.491803</td>\n",
       "      <td>0.5</td>\n",
       "      <td>0.477475</td>\n",
       "    </tr>\n",
       "    <tr>\n",
       "      <th>mcc</th>\n",
       "      <td>-0.043916</td>\n",
       "      <td>0.0</td>\n",
       "      <td>-0.055422</td>\n",
       "    </tr>\n",
       "    <tr>\n",
       "      <th>ppv</th>\n",
       "      <td>0.882353</td>\n",
       "      <td>0.744898</td>\n",
       "      <td>0.848485</td>\n",
       "    </tr>\n",
       "    <tr>\n",
       "      <th>npv</th>\n",
       "      <td>0.0</td>\n",
       "      <td>0.0</td>\n",
       "      <td>0.083333</td>\n",
       "    </tr>\n",
       "    <tr>\n",
       "      <th>PRcurve</th>\n",
       "      <td>0.910793</td>\n",
       "      <td>0.812116</td>\n",
       "      <td>0.882377</td>\n",
       "    </tr>\n",
       "    <tr>\n",
       "      <th>ROCcurve</th>\n",
       "      <td>0.540215</td>\n",
       "      <td>0.618699</td>\n",
       "      <td>0.532334</td>\n",
       "    </tr>\n",
       "  </tbody>\n",
       "</table>\n",
       "</div>"
      ],
      "text/plain": [
       "                 0         1         2\n",
       "               0.5       0.5       0.5\n",
       "spec           0.0       0.0  0.051724\n",
       "sens      0.983607       1.0  0.903226\n",
       "balacc    0.491803       0.5  0.477475\n",
       "mcc      -0.043916       0.0 -0.055422\n",
       "ppv       0.882353  0.744898  0.848485\n",
       "npv            0.0       0.0  0.083333\n",
       "PRcurve   0.910793  0.812116  0.882377\n",
       "ROCcurve  0.540215  0.618699  0.532334"
      ]
     },
     "execution_count": 68,
     "metadata": {},
     "output_type": "execute_result"
    }
   ],
   "source": [
    "metricsClusterCV.loc[:,(slice(None),0.5)]"
   ]
  },
  {
   "cell_type": "raw",
   "id": "9ceb2082-997c-4b83-ae94-883283dbc518",
   "metadata": {
    "tags": []
   },
   "source": [
    "metricsClusterCV.loc[:,(slice(None),0.5)].to_csv(\"results/CVclusterMetrics.csv\")"
   ]
  }
 ],
 "metadata": {
  "kernelspec": {
   "display_name": "Python 3 (ipykernel)",
   "language": "python",
   "name": "python3"
  },
  "language_info": {
   "codemirror_mode": {
    "name": "ipython",
    "version": 3
   },
   "file_extension": ".py",
   "mimetype": "text/x-python",
   "name": "python",
   "nbconvert_exporter": "python",
   "pygments_lexer": "ipython3",
   "version": "3.10.10"
  }
 },
 "nbformat": 4,
 "nbformat_minor": 5
}
